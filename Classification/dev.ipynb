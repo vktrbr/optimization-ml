{
 "cells": [
  {
   "cell_type": "code",
   "execution_count": 1,
   "metadata": {
    "pycharm": {
     "name": "#%%\n"
    }
   },
   "outputs": [],
   "source": [
    "from __future__ import annotations\n",
    "from scipy.optimize import minimize\n",
    "\n",
    "import os, sys\n",
    "sys.path.insert(0, os.path.abspath('..'))\n",
    "\n",
    "from typing import Literal, Callable\n",
    "\n",
    "import numpy as np\n",
    "\n",
    "from opml_math.functions import *\n",
    "from MultiDimensionalOptimization.algorithms.nonlinear_cgm import nonlinear_cgm, HistoryMDO\n",
    "\n",
    "\n",
    "class ModelCl:\n",
    "    \"\"\"\n",
    "    Base model for classification\n",
    "    \"\"\"\n",
    "\n",
    "    def __init__(self):\n",
    "        pass\n",
    "\n",
    "    def __call__(self, *args, **kwargs) -> float:\n",
    "        \"\"\" Method to call model \"\"\"\n",
    "        return self.forward(*args, **kwargs)\n",
    "\n",
    "    def forward(self, *args, **kwargs) -> float:\n",
    "        pass\n",
    "\n",
    "    def fit(self, *args, **kwargs) -> ModelCl:\n",
    "        pass\n",
    "\n",
    "\n",
    "class LogisticRegressionRBF(ModelCl):\n",
    "\n",
    "    def __init__(self, x_basis: np.ndarray, rbf: Literal['linear', 'gaussian'] = 'linear',\n",
    "                 print_function: Callable = print):\n",
    "        \"\"\"\n",
    "        :param x_basis: centers of basis functions\n",
    "        :param rbf: type of rbf function. Available: ['linear', 'gaussian']\n",
    "        \"\"\"\n",
    "        super(LogisticRegressionRBF, self).__init__()\n",
    "        self.w = np.random.random((x_basis.shape[0], 1))\n",
    "        if rbf == 'linear':\n",
    "            self.rbf = linear_rbf\n",
    "        elif rbf == 'gaussian':\n",
    "            self.rbf = gaussian_rbf\n",
    "            \n",
    "        self.x_basis = x_basis\n",
    "        self.print = print_function\n",
    "        \n",
    "    def forward(self, x: np.ndarray, phi_matrix: np.ndarray = None) -> np.ndarray:\n",
    "        \"\"\"\n",
    "        Returns a \"probability\" (confidence) of class 1\n",
    "        \n",
    "        :param x: 2D array\n",
    "        :return: 1D array\n",
    "        \"\"\"\n",
    "        if phi_matrix is None:\n",
    "            phi_matrix = self.make_phi_matrix(x)\n",
    "            \n",
    "        return logistic_func(phi_matrix @ self.w)\n",
    "\n",
    "    def fit(self, x: np.ndarray, y: np.ndarray, l1: bool = True, epochs: int = 1, batch_size: int=1,\n",
    "            keep_history: bool = False, max_iter: int = 5) -> dict:\n",
    "        \"\"\"\n",
    "        Minimize loss function\n",
    "\n",
    "        :param x:\n",
    "        :param y:\n",
    "        :return: dict with history per epoch\n",
    "        \"\"\"\n",
    "        def wrapper(w, x, y):\n",
    "            self.w = w\n",
    "            return self.loss_function(x, y)\n",
    "        \n",
    "        history = {'loss_function': []}\n",
    "        for epoch in range(epochs):\n",
    "            point, history_epoch = nonlinear_cgm(lambda w: wrapper(w, x, y), \n",
    "                                                 self.w.reshape(-1), max_iter=max_iter, keep_history=True)\n",
    "\n",
    "\n",
    "            self.w = point['point'].reshape(-1, 1)\n",
    "                \n",
    "            history['loss_function'].extend(history_epoch['f_value'])\n",
    "            self.print(f'epoch: {epoch: 4d}  |  loss: {history[\"loss_function\"][-1] :0.5f}')\n",
    "        return history\n",
    "    \n",
    "    def loss_function(self, x, y):\n",
    "        \"\"\"\n",
    "        Cross-entropy loss\n",
    "        \"\"\"\n",
    "        p = self.forward(x)\n",
    "        loss = np.log(p[y == 1]).sum()\n",
    "        loss += np.log(1 - p[y == 0]).sum()\n",
    "        return -loss / len(x)\n",
    "    \n",
    "    def make_phi_matrix(self, x: np.ndarray) -> np.ndarray:\n",
    "        \"\"\"\n",
    "        Returns k x n array with calculated phi(x_i, x_basis_j)\n",
    "        \n",
    "        :param x: Array k x m dimensional. k different x_i and m features\n",
    "        \"\"\"\n",
    "        phi = np.zeros((x.shape[0], self.x_basis.shape[0]))\n",
    "        for i in range(x.shape[0]):\n",
    "            for j in range(self.x_basis.shape[0]):\n",
    "                phi[i, j] = self.rbf(x[[i], :], self.x_basis[[j], :])\n",
    "                \n",
    "        return phi\n",
    "    \n",
    "\n",
    "class LogisticRegression(ModelCl):\n",
    "\n",
    "    def __init__(self, x_basis: np.ndarray, rbf: Literal['linear', 'gaussian'] = 'linear',\n",
    "                 print_function: Callable = print):\n",
    "        \"\"\"\n",
    "        :param x_basis: centers of basis functions\n",
    "        :param rbf: type of rbf function. Available: ['linear', 'gaussian']\n",
    "        \"\"\"\n",
    "        super(LogisticRegressionRBF, self).__init__()\n",
    "        self.w = np.random.random((x_basis.shape[0], 1))\n",
    "        if rbf == 'linear':\n",
    "            self.rbf = linear_rbf\n",
    "        elif rbf == 'gaussian':\n",
    "            self.rbf = gaussian_rbf_torch\n",
    "            \n",
    "        self.x_basis = x_basis\n",
    "        self.print = print_function\n",
    "        self.phi_matrix = self.make_phi_matrix(x_basis)\n",
    "        \n",
    "    def forward(self, x: np.ndarray) -> np.ndarray:\n",
    "        \"\"\"\n",
    "        Returns a \"probability\" (confidence) of class 1\n",
    "        \n",
    "        :param x: 2D array\n",
    "        :return: 1D array\n",
    "        \"\"\"\n",
    "        return logistic_func(self.make_phi_matrix(x) @ self.w)\n",
    "    \n",
    "    def fit(self, x: np.ndarray, y: np.ndarray, l1: bool = True, epochs: int = 1, batch_size: int=1,\n",
    "            keep_history: bool = False, max_iter: int = 5) -> dict:\n",
    "        \"\"\"\n",
    "        Minimize loss function\n",
    "\n",
    "        :param x:\n",
    "        :param y:\n",
    "        :return: dict with history per epoch\n",
    "        \"\"\"\n",
    "        def wrapper(w, x, y):\n",
    "            self.w = w\n",
    "            return self.loss_function(x, y)\n",
    "        \n",
    "        history = {'loss_function': []}\n",
    "        for epoch in range(epochs):\n",
    "#             point, history_epoch = nonlinear_cgm(lambda w: wrapper(w, x, y), \n",
    "#                                                  self.w.reshape(-1), max_iter=max_iter, keep_history=True)\n",
    "\n",
    "\n",
    "#             self.w = point['point'].reshape(-1, 1)\n",
    "            point = minimize(lambda w: wrapper(w, x, y), self.w.reshape(-1))['x']\n",
    "            \n",
    "            history['loss_function'].append(wrapper(point, x, y))  # (history_epoch['f_value'])\n",
    "            self.print(f'epoch: {epoch: 4d}  |  loss: {history[\"loss_function\"][-1] :0.5f}')\n",
    "        return history\n",
    "    \n",
    "    def loss_function(self, x, y):\n",
    "        \"\"\"\n",
    "        Cross-entropy loss\n",
    "        \"\"\"\n",
    "        p = self.forward(x, self.phi_matrix)\n",
    "        loss = np.log(p[y == 1]).sum()\n",
    "        loss += np.log(1 - p[y == 0]).sum()\n",
    "        return -loss / len(x)\n",
    "    \n",
    "    def make_phi_matrix(self, x: np.ndarray) -> np.ndarray:\n",
    "        \"\"\"\n",
    "        Returns k x n array with calculated phi(x_i, x_basis_j)\n",
    "        \n",
    "        :param x: Array k x m dimensional. k different x_i and m features\n",
    "        \"\"\"\n",
    "        phi = np.zeros((x.shape[0], self.x_basis.shape[0]))\n",
    "        for i in range(x.shape[0]):\n",
    "            for j in range(self.x_basis.shape[0]):\n",
    "                phi[i, j] = self.rbf(x[[i], :], self.x_basis[[j], :])\n",
    "                \n",
    "        return phi"
   ]
  },
  {
   "cell_type": "code",
   "execution_count": 2,
   "metadata": {
    "pycharm": {
     "name": "#%%\n"
    }
   },
   "outputs": [],
   "source": [
    "from sklearn.datasets import make_classification"
   ]
  },
  {
   "cell_type": "code",
   "execution_count": 25,
   "metadata": {
    "pycharm": {
     "name": "#%%\n"
    }
   },
   "outputs": [],
   "source": [
    "x, y = make_classification(n_samples=3, n_features=2, n_informative=1, n_redundant=0, n_clusters_per_class=1, random_state=1)"
   ]
  },
  {
   "cell_type": "code",
   "execution_count": 43,
   "metadata": {
    "pycharm": {
     "name": "#%%\n"
    }
   },
   "outputs": [
    {
     "name": "stdout",
     "output_type": "stream",
     "text": [
      "epoch:    0  |  loss: 0.43228\n",
      "epoch:    1  |  loss: 0.38926\n",
      "epoch:    2  |  loss: 0.35316\n",
      "epoch:    3  |  loss: 0.32251\n",
      "epoch:    4  |  loss: 0.29622\n",
      "epoch:    5  |  loss: 0.27347\n",
      "epoch:    6  |  loss: 0.25364\n",
      "epoch:    7  |  loss: 0.23622\n",
      "epoch:    8  |  loss: 0.22083\n",
      "epoch:    9  |  loss: 0.20715\n",
      "epoch:   10  |  loss: 0.19493\n",
      "epoch:   11  |  loss: 0.18396\n",
      "epoch:   12  |  loss: 0.17407\n",
      "epoch:   13  |  loss: 0.16512\n",
      "epoch:   14  |  loss: 0.15698\n",
      "epoch:   15  |  loss: 0.14955\n",
      "epoch:   16  |  loss: 0.14275\n",
      "epoch:   17  |  loss: 0.13651\n",
      "epoch:   18  |  loss: 0.13076\n",
      "epoch:   19  |  loss: 0.12545\n",
      "Wall time: 429 ms\n"
     ]
    }
   ],
   "source": [
    "%%time\n",
    "model = LogisticRegressionRBF(x, 'linear')\n",
    "_ = model.fit(x, y, epochs=20, keep_history=True, max_iter=2)"
   ]
  },
  {
   "cell_type": "code",
   "execution_count": 44,
   "metadata": {},
   "outputs": [
    {
     "data": {
      "text/plain": [
       "array([[-0.87369368,  1.74481176],\n",
       "       [-1.33537055, -1.07296862],\n",
       "       [ 0.9589962 , -0.7612069 ]])"
      ]
     },
     "execution_count": 44,
     "metadata": {},
     "output_type": "execute_result"
    }
   ],
   "source": [
    "x"
   ]
  },
  {
   "cell_type": "code",
   "execution_count": null,
   "metadata": {},
   "outputs": [],
   "source": []
  },
  {
   "cell_type": "code",
   "execution_count": 46,
   "metadata": {},
   "outputs": [
    {
     "data": {
      "text/plain": [
       "array([[0., 1., 1.],\n",
       "       [1., 0., 1.],\n",
       "       [1., 1., 0.]])"
      ]
     },
     "execution_count": 46,
     "metadata": {},
     "output_type": "execute_result"
    }
   ],
   "source": [
    "model.make_phi_matrix(x)"
   ]
  },
  {
   "cell_type": "code",
   "execution_count": 48,
   "metadata": {},
   "outputs": [
    {
     "data": {
      "text/plain": [
       "array([[-0.87369368,  1.74481176],\n",
       "       [-1.33537055, -1.07296862],\n",
       "       [ 0.9589962 , -0.7612069 ]])"
      ]
     },
     "execution_count": 48,
     "metadata": {},
     "output_type": "execute_result"
    }
   ],
   "source": [
    "torch.tile"
   ]
  },
  {
   "cell_type": "code",
   "execution_count": 47,
   "metadata": {},
   "outputs": [
    {
     "data": {
      "text/plain": [
       "array([0.        , 8.15303184, 9.63888173])"
      ]
     },
     "execution_count": 47,
     "metadata": {},
     "output_type": "execute_result"
    }
   ],
   "source": [
    "c0 = (x - x[0]) ** 2\n",
    "c0.sum(axis=1)"
   ]
  },
  {
   "cell_type": "code",
   "execution_count": 48,
   "metadata": {
    "pycharm": {
     "name": "#%%\n"
    }
   },
   "outputs": [
    {
     "data": {
      "text/plain": [
       "array([[0.41021467],\n",
       "       [0.57046976],\n",
       "       [0.41713568],\n",
       "       [0.46320333],\n",
       "       [0.64994492],\n",
       "       [0.50434193],\n",
       "       [0.50359312],\n",
       "       [0.50359312],\n",
       "       [0.50359312],\n",
       "       [0.50359312],\n",
       "       [0.50359312],\n",
       "       [0.50359312],\n",
       "       [0.50359312],\n",
       "       [0.50359312],\n",
       "       [0.50359312],\n",
       "       [0.50359312],\n",
       "       [0.50359312],\n",
       "       [0.50359312],\n",
       "       [0.50359312],\n",
       "       [0.50359312],\n",
       "       [0.50359312],\n",
       "       [0.50359312],\n",
       "       [0.50359312],\n",
       "       [0.50359312],\n",
       "       [0.50359312],\n",
       "       [0.50359312],\n",
       "       [0.50359312],\n",
       "       [0.50359312],\n",
       "       [0.50359312],\n",
       "       [0.50359312]])"
      ]
     },
     "execution_count": 48,
     "metadata": {},
     "output_type": "execute_result"
    }
   ],
   "source": [
    "p = model(x)\n",
    "p"
   ]
  },
  {
   "cell_type": "code",
   "execution_count": 49,
   "metadata": {
    "pycharm": {
     "name": "#%%\n"
    }
   },
   "outputs": [
    {
     "data": {
      "text/plain": [
       "0.6667583005755058"
      ]
     },
     "execution_count": 49,
     "metadata": {},
     "output_type": "execute_result"
    }
   ],
   "source": [
    "model.loss_function(x, y)"
   ]
  },
  {
   "cell_type": "code",
   "execution_count": 50,
   "metadata": {
    "pycharm": {
     "name": "#%%\n"
    }
   },
   "outputs": [
    {
     "data": {
      "text/plain": [
       "array([[0.41021467],\n",
       "       [0.57046976],\n",
       "       [0.41713568],\n",
       "       [0.46320333],\n",
       "       [0.64994492],\n",
       "       [0.50434193],\n",
       "       [0.50359312],\n",
       "       [0.50359312],\n",
       "       [0.50359312],\n",
       "       [0.50359312],\n",
       "       [0.50359312],\n",
       "       [0.50359312],\n",
       "       [0.50359312],\n",
       "       [0.50359312],\n",
       "       [0.50359312],\n",
       "       [0.50359312],\n",
       "       [0.50359312],\n",
       "       [0.50359312],\n",
       "       [0.50359312],\n",
       "       [0.50359312],\n",
       "       [0.50359312],\n",
       "       [0.50359312],\n",
       "       [0.50359312],\n",
       "       [0.50359312],\n",
       "       [0.50359312],\n",
       "       [0.50359312],\n",
       "       [0.50359312],\n",
       "       [0.50359312],\n",
       "       [0.50359312],\n",
       "       [0.50359312]])"
      ]
     },
     "execution_count": 50,
     "metadata": {},
     "output_type": "execute_result"
    }
   ],
   "source": [
    "model(x)"
   ]
  },
  {
   "cell_type": "code",
   "execution_count": null,
   "metadata": {
    "pycharm": {
     "name": "#%%\n"
    }
   },
   "outputs": [],
   "source": []
  }
 ],
 "metadata": {
  "kernelspec": {
   "display_name": "Python 3 (ipykernel)",
   "language": "python",
   "name": "python3"
  },
  "language_info": {
   "codemirror_mode": {
    "name": "ipython",
    "version": 3
   },
   "file_extension": ".py",
   "mimetype": "text/x-python",
   "name": "python",
   "nbconvert_exporter": "python",
   "pygments_lexer": "ipython3",
   "version": "3.9.7"
  }
 },
 "nbformat": 4,
 "nbformat_minor": 1
}
