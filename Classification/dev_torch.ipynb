{
 "cells": [
  {
   "cell_type": "code",
   "execution_count": 12,
   "id": "6b9155c6",
   "metadata": {
    "pycharm": {
     "name": "#%%\n"
    }
   },
   "outputs": [],
   "source": [
    "import numpy as np\n",
    "import pandas as pd\n",
    "import torch\n",
    "from typing import Literal, Callable\n",
    "from sklearn.metrics import classification_report\n",
    "\n",
    "\n",
    "class LogisticRegressionRBF(torch.nn.Module):\n",
    "\n",
    "    def __init__(self, x_basis: torch.Tensor, rbf: Literal['linear', 'gaussian'] = 'gaussian',\n",
    "                 print_function: Callable = print):\n",
    "        \"\"\"\n",
    "        :param x_basis: centers of basis functions\n",
    "        :param rbf: type of rbf function. Available: ['linear', 'gaussian']\n",
    "        \"\"\"\n",
    "        super(LogisticRegressionRBF, self).__init__()\n",
    "\n",
    "        self.w = torch.nn.Linear(x_basis.shape[0], 1)\n",
    "        self.rbf = rbf\n",
    "        self.x_basis = x_basis\n",
    "        self.print = print_function\n",
    "        self.sigmoid = torch.nn.Sigmoid()\n",
    "\n",
    "    def forward(self, x: torch.Tensor = None, phi_matrix: torch.Tensor = None) -> torch.Tensor:\n",
    "        \"\"\"\n",
    "        Returns a \"probability\" (confidence) of class 1\n",
    "\n",
    "        :param x: 2D array\n",
    "        :param phi_matrix: 2D array\n",
    "        :return: 1D array\n",
    "        \"\"\"\n",
    "        if phi_matrix is None:\n",
    "            phi_matrix = self.make_phi_matrix(x)\n",
    "\n",
    "        return self.sigmoid(self.w(phi_matrix))\n",
    "\n",
    "    def make_phi_matrix(self, x: torch.Tensor) -> torch.Tensor:\n",
    "        \"\"\"\n",
    "        Returns k x n array with calculated phi(x_i, x_basis_j)\n",
    "\n",
    "        :param x: Array k x m dimensional. k different x_i and m features\n",
    "        \"\"\"\n",
    "        n = x.shape[0]\n",
    "        m = x.shape[1]\n",
    "        k = n * m  # Количество всех элементов\n",
    "\n",
    "        repd_row_matrix = torch.tile(x, (1, n)).reshape(n ** 2, m)\n",
    "        repd_whole_matrix =  torch.tile(x, (n, 1))\n",
    "        phi = (repd_row_matrix - repd_whole_matrix) ** 2\n",
    "        phi = phi.sum(axis=1).reshape(n, n)\n",
    "\n",
    "        if self.rbf == 'linear':\n",
    "            phi = phi ** 0.5\n",
    "            phi = phi / phi.max()\n",
    "        elif self.rbf == 'gaussian':\n",
    "            phi = torch.exp(-phi)\n",
    "        elif self.rbf == 'multiquadratic':\n",
    "            phi = (1 + phi) ** 0.5\n",
    "            phi = phi / phi.max()\n",
    "\n",
    "        return phi\n",
    "\n",
    "    def fit(self, x, y, epochs = 1):\n",
    "\n",
    "        print_epochs = np.unique(np.geomspace(1, epochs + 1, 15, dtype=int))\n",
    "\n",
    "        phi_matrix = self.make_phi_matrix(x)\n",
    "        optimizer = torch.optim.Adam(self.parameters())\n",
    "        criterion = torch.nn.CrossEntropyLoss()\n",
    "        loss = torch.nn.BCELoss()\n",
    "\n",
    "        for epoch in range(1, epochs + 1):\n",
    "            optimizer.zero_grad()\n",
    "            output = loss(self.forward(x, phi_matrix).flatten(), y)\n",
    "            output.backward()\n",
    "            optimizer.step()\n",
    "\n",
    "            with torch.no_grad():\n",
    "                if epoch + 1 in print_epochs:\n",
    "                    print(f'Epoch: {epoch: 5d} | CrossEntropyLoss: {output.item(): 0.5f}')\n",
    "\n",
    "        return self\n",
    "\n",
    "    def metrics_tab(self, x, y):\n",
    "        y_prob = self.forward(x)\n",
    "        y_pred = (y_prob > 0.5) * 1\n",
    "        output = classification_report(y, y_pred, output_dict=True)\n",
    "        return output"
   ]
  },
  {
   "cell_type": "code",
   "execution_count": 13,
   "id": "1d4a8f50",
   "metadata": {
    "pycharm": {
     "name": "#%%\n"
    }
   },
   "outputs": [],
   "source": [
    "from sklearn.datasets import make_classification\n",
    "\n",
    "x, y = make_classification(n_samples=500, n_features=4, random_state=1)\n",
    "x = torch.FloatTensor(x[:, :2])\n",
    "y = torch.FloatTensor(y)"
   ]
  },
  {
   "cell_type": "code",
   "execution_count": 14,
   "id": "e03de696",
   "metadata": {
    "pycharm": {
     "name": "#%%\n"
    }
   },
   "outputs": [
    {
     "name": "stdout",
     "output_type": "stream",
     "text": [
      "Epoch:     1 | CrossEntropyLoss:  0.79643\n",
      "Epoch:     2 | CrossEntropyLoss:  0.76653\n",
      "Epoch:     4 | CrossEntropyLoss:  0.70968\n",
      "Epoch:     6 | CrossEntropyLoss:  0.65691\n",
      "Epoch:     9 | CrossEntropyLoss:  0.58555\n",
      "Epoch:    12 | CrossEntropyLoss:  0.52351\n",
      "Epoch:    18 | CrossEntropyLoss:  0.42544\n",
      "Epoch:    26 | CrossEntropyLoss:  0.33831\n",
      "Epoch:    36 | CrossEntropyLoss:  0.27483\n",
      "Epoch:    51 | CrossEntropyLoss:  0.22654\n",
      "Epoch:    71 | CrossEntropyLoss:  0.19621\n",
      "Epoch:   100 | CrossEntropyLoss:  0.17454\n"
     ]
    },
    {
     "data": {
      "text/plain": "LogisticRegressionRBF(\n  (w): Linear(in_features=500, out_features=1, bias=True)\n  (sigmoid): Sigmoid()\n)"
     },
     "execution_count": 14,
     "metadata": {},
     "output_type": "execute_result"
    }
   ],
   "source": [
    "model = LogisticRegressionRBF(x)\n",
    "model.fit(x, y, 100)"
   ]
  },
  {
   "cell_type": "code",
   "execution_count": 15,
   "id": "f29af042",
   "metadata": {
    "pycharm": {
     "name": "#%%\n"
    }
   },
   "outputs": [
    {
     "data": {
      "text/plain": "              precision    recall  f1-score  support\n0.0            0.943320  0.939516  0.941414  248.000\n1.0            0.940711  0.944444  0.942574  252.000\naccuracy       0.942000  0.942000  0.942000    0.942\nmacro avg      0.942016  0.941980  0.941994  500.000\nweighted avg   0.942005  0.942000  0.941999  500.000",
      "text/html": "<div>\n<style scoped>\n    .dataframe tbody tr th:only-of-type {\n        vertical-align: middle;\n    }\n\n    .dataframe tbody tr th {\n        vertical-align: top;\n    }\n\n    .dataframe thead th {\n        text-align: right;\n    }\n</style>\n<table border=\"1\" class=\"dataframe\">\n  <thead>\n    <tr style=\"text-align: right;\">\n      <th></th>\n      <th>precision</th>\n      <th>recall</th>\n      <th>f1-score</th>\n      <th>support</th>\n    </tr>\n  </thead>\n  <tbody>\n    <tr>\n      <th>0.0</th>\n      <td>0.943320</td>\n      <td>0.939516</td>\n      <td>0.941414</td>\n      <td>248.000</td>\n    </tr>\n    <tr>\n      <th>1.0</th>\n      <td>0.940711</td>\n      <td>0.944444</td>\n      <td>0.942574</td>\n      <td>252.000</td>\n    </tr>\n    <tr>\n      <th>accuracy</th>\n      <td>0.942000</td>\n      <td>0.942000</td>\n      <td>0.942000</td>\n      <td>0.942</td>\n    </tr>\n    <tr>\n      <th>macro avg</th>\n      <td>0.942016</td>\n      <td>0.941980</td>\n      <td>0.941994</td>\n      <td>500.000</td>\n    </tr>\n    <tr>\n      <th>weighted avg</th>\n      <td>0.942005</td>\n      <td>0.942000</td>\n      <td>0.941999</td>\n      <td>500.000</td>\n    </tr>\n  </tbody>\n</table>\n</div>"
     },
     "execution_count": 15,
     "metadata": {},
     "output_type": "execute_result"
    }
   ],
   "source": [
    "import pandas as pd\n",
    "pd.DataFrame(model.metrics_tab(x, y)).T"
   ]
  },
  {
   "cell_type": "code",
   "execution_count": 46,
   "outputs": [],
   "source": [
    "y_prob = model(x).detach().cpu().numpy().flatten()"
   ],
   "metadata": {
    "collapsed": false,
    "pycharm": {
     "name": "#%%\n"
    }
   }
  },
  {
   "cell_type": "code",
   "execution_count": 47,
   "outputs": [],
   "source": [
    "y_pred = (y_prob > 0.6) * 1"
   ],
   "metadata": {
    "collapsed": false,
    "pycharm": {
     "name": "#%%\n"
    }
   }
  },
  {
   "cell_type": "code",
   "execution_count": 47,
   "outputs": [],
   "source": [],
   "metadata": {
    "collapsed": false,
    "pycharm": {
     "name": "#%%\n"
    }
   }
  },
  {
   "cell_type": "code",
   "execution_count": 58,
   "id": "6ba0cc50",
   "metadata": {
    "pycharm": {
     "name": "#%%\n"
    }
   },
   "outputs": [],
   "source": [
    "from numbers import Real\n",
    "import numpy as np\n",
    "\n",
    "\n",
    "def tpr(y_true: np.array, y_pred: np.array) -> Real:\n",
    "    \"\"\"\n",
    "    Return True Positive Rate. TPR = TP / P = TP / (TP + FN).\n",
    "\n",
    "    .. note:: if P == 0, then TPR == 0\n",
    "\n",
    "    :param y_true: array with true values of binary classification\n",
    "    :param y_pred: array with prediction values of binary classification\n",
    "    :return:\n",
    "    \"\"\"\n",
    "    y_true = np.array(y_true, dtype=int)\n",
    "    y_pred = np.array(y_pred, dtype=int)\n",
    "    tp = sum((y_true == y_pred) & (y_true == 1))\n",
    "    p = sum(y_true == 1)\n",
    "    return tp / max(p, 1)\n",
    "\n",
    "def fpr(y_true: np.array, y_pred: np.array) -> Real:\n",
    "    \"\"\"\n",
    "    Return False Positive Rate. FPR = FP / N = FP / (FP + TN).\n",
    "\n",
    "    .. note:: if N == 0, then FPR == 0\n",
    "\n",
    "    :param y_true: array with true values of binary classification\n",
    "    :param y_pred: array with prediction values of binary classification\n",
    "    :return:\n",
    "    \"\"\"\n",
    "    y_true = np.array(y_true, dtype=int)\n",
    "    y_pred = np.array(y_pred, dtype=int)\n",
    "    fp = sum((y_true != y_pred) & (y_true == 0))\n",
    "    n = sum(y_true == 0)\n",
    "    return fp / max(n, 1)\n",
    "\n",
    "\n",
    "def roc_auc_score(y_true: np.array, y_prob: np.array) -> Real:\n",
    "    \"\"\"\n",
    "    Compute area under the ROC curve from predictions y_prob.\n",
    "\n",
    "    :param y_true: array with true values of binary classification\n",
    "    :param y_prob: array of probabilities of confidence of belonging to the 1st class\n",
    "    :return: float number of area\n",
    "    \"\"\"\n",
    "\n"
   ]
  },
  {
   "cell_type": "code",
   "execution_count": 59,
   "outputs": [
    {
     "data": {
      "text/plain": "0.9285714285714286"
     },
     "execution_count": 59,
     "metadata": {},
     "output_type": "execute_result"
    }
   ],
   "source": [
    "tpr(y.flatten(), y_pred)"
   ],
   "metadata": {
    "collapsed": false,
    "pycharm": {
     "name": "#%%\n"
    }
   }
  },
  {
   "cell_type": "code",
   "execution_count": 55,
   "outputs": [
    {
     "data": {
      "text/plain": "tensor([0., 1., 0., 1., 1., 1., 0., 0., 1., 0., 0., 0., 1., 0., 0., 0., 1., 1.,\n        1., 0., 1., 1., 0., 1., 1., 1., 0., 1., 1., 1., 0., 1., 1., 1., 0., 1.,\n        1., 1., 0., 1., 1., 1., 0., 0., 1., 0., 0., 0., 0., 0., 1., 0., 0., 0.,\n        1., 1., 1., 1., 1., 0., 1., 1., 1., 0., 1., 1., 0., 1., 1., 1., 1., 1.,\n        1., 1., 0., 0., 1., 1., 1., 0., 1., 1., 0., 1., 1., 0., 0., 1., 1., 0.,\n        0., 0., 0., 0., 1., 1., 0., 1., 1., 1., 0., 0., 0., 1., 0., 0., 0., 1.,\n        0., 0., 1., 1., 0., 1., 1., 0., 1., 1., 1., 0., 1., 1., 0., 1., 1., 1.,\n        0., 0., 0., 1., 0., 1., 1., 1., 0., 0., 1., 1., 0., 0., 0., 1., 0., 1.,\n        0., 0., 0., 0., 0., 1., 1., 0., 1., 0., 1., 1., 0., 0., 1., 1., 0., 1.,\n        0., 1., 1., 0., 0., 1., 1., 0., 1., 0., 1., 1., 1., 0., 0., 1., 1., 0.,\n        1., 0., 0., 0., 0., 0., 0., 1., 0., 1., 0., 1., 1., 1., 0., 0., 0., 1.,\n        0., 1., 0., 0., 1., 0., 0., 0., 0., 0., 0., 0., 1., 1., 0., 0., 1., 0.,\n        0., 0., 1., 0., 1., 1., 0., 0., 1., 1., 1., 0., 1., 0., 1., 1., 1., 0.,\n        0., 1., 1., 0., 1., 1., 1., 0., 0., 0., 1., 0., 1., 1., 0., 0., 1., 0.,\n        1., 0., 0., 0., 1., 1., 1., 0., 1., 1., 0., 0., 0., 0., 1., 1., 0., 0.,\n        1., 1., 0., 1., 0., 1., 0., 0., 0., 0., 1., 1., 0., 1., 0., 0., 1., 1.,\n        1., 0., 1., 0., 1., 0., 0., 0., 1., 1., 0., 0., 0., 1., 0., 1., 0., 0.,\n        0., 1., 0., 0., 0., 1., 1., 1., 0., 1., 0., 0., 1., 1., 1., 0., 1., 1.,\n        1., 1., 0., 0., 1., 0., 0., 1., 0., 1., 0., 1., 1., 0., 0., 1., 0., 1.,\n        0., 0., 0., 0., 0., 0., 1., 0., 0., 0., 0., 0., 0., 0., 0., 0., 0., 1.,\n        0., 1., 1., 1., 1., 1., 1., 1., 1., 1., 0., 1., 1., 1., 0., 1., 1., 0.,\n        0., 0., 1., 0., 0., 1., 0., 1., 1., 1., 1., 0., 1., 1., 1., 0., 0., 0.,\n        0., 1., 0., 0., 1., 1., 1., 0., 0., 1., 0., 1., 0., 0., 0., 1., 0., 0.,\n        1., 0., 1., 0., 0., 0., 0., 0., 0., 1., 1., 1., 1., 0., 1., 0., 1., 0.,\n        1., 1., 0., 1., 0., 1., 0., 1., 1., 0., 1., 0., 1., 0., 1., 0., 1., 1.,\n        0., 0., 0., 1., 1., 0., 0., 1., 1., 1., 1., 0., 1., 1., 1., 0., 0., 0.,\n        1., 1., 1., 1., 1., 0., 1., 0., 0., 1., 0., 0., 0., 1., 0., 1., 0., 1.,\n        0., 1., 0., 1., 1., 1., 1., 1., 0., 1., 1., 1., 0., 0.])"
     },
     "execution_count": 55,
     "metadata": {},
     "output_type": "execute_result"
    }
   ],
   "source": [
    "y.flatten()\n"
   ],
   "metadata": {
    "collapsed": false,
    "pycharm": {
     "name": "#%%\n"
    }
   }
  },
  {
   "cell_type": "code",
   "execution_count": 50,
   "outputs": [],
   "source": [
    "from sklearn.metrics import roc_curve"
   ],
   "metadata": {
    "collapsed": false,
    "pycharm": {
     "name": "#%%\n"
    }
   }
  },
  {
   "cell_type": "code",
   "execution_count": 35,
   "outputs": [
    {
     "data": {
      "text/plain": "(array([0.        , 0.        , 0.        , 0.00403226, 0.00403226,\n        0.01612903, 0.01612903, 0.02016129, 0.02016129, 0.02419355,\n        0.02419355, 0.02822581, 0.02822581, 0.03225806, 0.03225806,\n        0.04032258, 0.04032258, 0.04435484, 0.04435484, 0.06451613,\n        0.06451613, 0.08467742, 0.08467742, 0.08870968, 0.08870968,\n        0.09677419, 0.09677419, 0.10080645, 0.10080645, 0.13709677,\n        0.13709677, 0.16129032, 0.16129032, 0.16532258, 0.16532258,\n        0.25806452, 0.25806452, 0.44354839, 0.44354839, 0.5483871 ,\n        0.5483871 , 0.91129032, 0.91129032, 1.        ]),\n array([0.        , 0.00396825, 0.68253968, 0.68253968, 0.81349206,\n        0.81349206, 0.88888889, 0.88888889, 0.89285714, 0.89285714,\n        0.8968254 , 0.8968254 , 0.9047619 , 0.9047619 , 0.92857143,\n        0.92857143, 0.93253968, 0.93253968, 0.94444444, 0.94444444,\n        0.95238095, 0.95238095, 0.95634921, 0.95634921, 0.96031746,\n        0.96031746, 0.96428571, 0.96428571, 0.97222222, 0.97222222,\n        0.97619048, 0.97619048, 0.98015873, 0.98015873, 0.98412698,\n        0.98412698, 0.98809524, 0.98809524, 0.99206349, 0.99206349,\n        0.99603175, 0.99603175, 1.        , 1.        ]),\n array([1.9831489 , 0.98314893, 0.92360264, 0.9228547 , 0.82943034,\n        0.82239765, 0.7230211 , 0.7220703 , 0.7097831 , 0.68638945,\n        0.68317384, 0.6805752 , 0.6463211 , 0.6415833 , 0.6168055 ,\n        0.59409827, 0.59130704, 0.5703581 , 0.5382022 , 0.47947   ,\n        0.4451467 , 0.40150312, 0.3900067 , 0.35880345, 0.35269856,\n        0.34131637, 0.33958194, 0.3394512 , 0.30922118, 0.27526686,\n        0.26954058, 0.24122222, 0.23668396, 0.20561902, 0.205244  ,\n        0.14029294, 0.13495815, 0.07172079, 0.07165539, 0.05753749,\n        0.05738876, 0.03286285, 0.03270651, 0.02685864], dtype=float32))"
     },
     "execution_count": 35,
     "metadata": {},
     "output_type": "execute_result"
    }
   ],
   "source": [
    "roc_curve(y, y_prob)"
   ],
   "metadata": {
    "collapsed": false,
    "pycharm": {
     "name": "#%%\n"
    }
   }
  },
  {
   "cell_type": "code",
   "execution_count": 28,
   "outputs": [
    {
     "data": {
      "text/plain": "tensor([0, 1, 0, 1, 1, 1, 0, 0, 1, 0, 0, 0, 1, 0, 0, 0, 0, 1, 1, 0, 1, 1, 0, 1,\n        1, 0, 0, 1, 1, 1, 0, 1, 1, 1, 0, 1, 1, 1, 0, 1, 1, 1, 0, 0, 1, 0, 0, 0,\n        0, 0, 1, 0, 0, 0, 1, 1, 1, 1, 1, 0, 1, 1, 1, 0, 1, 1, 0, 1, 1, 1, 1, 1,\n        1, 1, 0, 0, 1, 1, 1, 1, 1, 1, 0, 1, 1, 0, 0, 1, 1, 0, 0, 0, 0, 0, 1, 0,\n        0, 1, 1, 1, 0, 0, 0, 1, 0, 0, 0, 1, 0, 0, 1, 1, 0, 0, 1, 0, 1, 1, 1, 0,\n        0, 1, 0, 1, 1, 1, 0, 0, 0, 1, 0, 1, 1, 1, 0, 0, 1, 1, 0, 0, 0, 1, 0, 1,\n        1, 0, 0, 0, 0, 1, 1, 0, 1, 0, 0, 1, 1, 0, 1, 1, 0, 1, 0, 1, 1, 0, 0, 1,\n        1, 0, 1, 0, 1, 1, 1, 0, 0, 1, 1, 0, 1, 0, 0, 0, 0, 0, 0, 1, 0, 1, 1, 1,\n        1, 1, 0, 0, 0, 1, 0, 1, 0, 0, 1, 0, 0, 0, 0, 0, 0, 0, 1, 1, 0, 0, 1, 0,\n        0, 0, 1, 0, 1, 1, 0, 0, 1, 1, 1, 0, 1, 0, 1, 1, 1, 0, 1, 1, 1, 0, 1, 1,\n        1, 0, 0, 0, 0, 0, 1, 1, 0, 0, 1, 0, 1, 0, 0, 0, 0, 1, 1, 0, 1, 1, 0, 0,\n        0, 0, 1, 1, 0, 0, 1, 1, 0, 1, 0, 1, 0, 0, 0, 0, 1, 1, 0, 1, 0, 0, 1, 1,\n        1, 0, 1, 0, 1, 0, 0, 0, 1, 1, 0, 0, 0, 1, 0, 1, 0, 0, 0, 1, 0, 0, 0, 1,\n        1, 1, 0, 1, 0, 0, 1, 1, 1, 0, 1, 0, 1, 1, 0, 0, 1, 0, 0, 1, 0, 1, 0, 1,\n        1, 0, 0, 0, 0, 1, 0, 0, 1, 0, 0, 0, 1, 0, 0, 0, 0, 0, 0, 1, 0, 0, 0, 1,\n        0, 1, 0, 1, 1, 1, 1, 1, 0, 1, 0, 1, 1, 1, 0, 1, 1, 0, 0, 0, 1, 0, 0, 1,\n        0, 1, 1, 0, 1, 0, 1, 0, 1, 0, 0, 0, 0, 1, 0, 0, 1, 1, 1, 0, 0, 1, 0, 1,\n        0, 0, 0, 1, 0, 0, 1, 0, 1, 0, 0, 0, 0, 0, 0, 1, 1, 1, 1, 0, 0, 0, 1, 0,\n        1, 1, 0, 1, 0, 1, 0, 1, 1, 0, 1, 0, 1, 0, 1, 0, 1, 0, 0, 0, 0, 1, 1, 0,\n        0, 1, 0, 1, 1, 0, 1, 1, 1, 0, 0, 1, 1, 1, 1, 1, 1, 0, 1, 0, 0, 1, 0, 0,\n        0, 1, 0, 1, 0, 1, 0, 1, 0, 1, 0, 1, 1, 1, 0, 1, 1, 1, 0, 1])"
     },
     "execution_count": 28,
     "metadata": {},
     "output_type": "execute_result"
    }
   ],
   "source": [
    "y_pred"
   ],
   "metadata": {
    "collapsed": false,
    "pycharm": {
     "name": "#%%\n"
    }
   }
  }
 ],
 "metadata": {
  "kernelspec": {
   "display_name": "Python 3 (ipykernel)",
   "language": "python",
   "name": "python3"
  },
  "language_info": {
   "codemirror_mode": {
    "name": "ipython",
    "version": 3
   },
   "file_extension": ".py",
   "mimetype": "text/x-python",
   "name": "python",
   "nbconvert_exporter": "python",
   "pygments_lexer": "ipython3",
   "version": "3.9.7"
  }
 },
 "nbformat": 4,
 "nbformat_minor": 5
}