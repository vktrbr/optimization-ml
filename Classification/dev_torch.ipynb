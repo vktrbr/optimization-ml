{
 "cells": [
  {
   "cell_type": "code",
   "execution_count": 53,
   "id": "6b9155c6",
   "metadata": {},
   "outputs": [],
   "source": [
    "import numpy as np\n",
    "import torch\n",
    "from typing import Literal, Callable\n",
    "from sklearn.metrics import classification_report\n",
    "\n",
    "\n",
    "class LogisticRegressionRBF(torch.nn.Module):\n",
    "    \n",
    "    def __init__(self, x_basis: torch.Tensor, rbf: Literal['linear', 'gaussian'] = 'gaussian',\n",
    "                 print_function: Callable = print):\n",
    "        \"\"\"\n",
    "        :param x_basis: centers of basis functions\n",
    "        :param rbf: type of rbf function. Available: ['linear', 'gaussian']\n",
    "        \"\"\"\n",
    "        super(LogisticRegressionRBF, self).__init__()\n",
    "        \n",
    "        self.w = torch.nn.Linear(x_basis.shape[0], 1)\n",
    "        self.rbf = rbf \n",
    "        self.x_basis = x_basis\n",
    "        self.print = print_function\n",
    "        self.sigmoid = torch.nn.Sigmoid()\n",
    "        \n",
    "    def forward(self, x: torch.Tensor = None, phi_matrix: torch.Tensor = None) -> torch.Tensor:\n",
    "        \"\"\"\n",
    "        Returns a \"probability\" (confidence) of class 1\n",
    "        \n",
    "        :param x: 2D array\n",
    "        :param phi_matrix: 2D array\n",
    "        :return: 1D array\n",
    "        \"\"\"\n",
    "        if phi_matrix is None:\n",
    "            phi_matrix = self.make_phi_matrix(x)\n",
    "            \n",
    "        return self.sigmoid(self.w(phi_matrix))\n",
    "\n",
    "    def make_phi_matrix(self, x: torch.Tensor) -> torch.Tensor:\n",
    "        \"\"\"\n",
    "        Returns k x n array with calculated phi(x_i, x_basis_j)\n",
    "        \n",
    "        :param x: Array k x m dimensional. k different x_i and m features\n",
    "        \"\"\"\n",
    "        n = x.shape[0]\n",
    "        m = x.shape[1]\n",
    "        k = n * m  # Количество всех элементов\n",
    "\n",
    "        repd_row_matrix = torch.tile(x, (1, n)).reshape(n ** 2, m)\n",
    "        repd_whole_matrix =  torch.tile(x, (n, 1))\n",
    "        phi = (repd_row_matrix - repd_whole_matrix) ** 2\n",
    "        phi = phi.sum(axis=1).reshape(n, n)\n",
    "        \n",
    "        if self.rbf == 'linear':\n",
    "            phi = phi ** 0.5\n",
    "            phi = phi / phi.max()\n",
    "        elif self.rbf == 'gaussian':\n",
    "            phi = torch.exp(-phi)\n",
    "        elif self.rbf == 'multiquadratic':\n",
    "            phi = (1 + phi) ** 0.5\n",
    "            phi = phi / phi.max()\n",
    "            \n",
    "        return phi\n",
    "    \n",
    "    def fit(self, x, y, epochs):\n",
    "        \n",
    "        print_epochs = np.unique(np.geomspace(1, epochs + 1, 15, dtype=int))\n",
    "        \n",
    "        phi_matrix = self.make_phi_matrix(x)\n",
    "        optimizer = torch.optim.Adam(self.parameters())\n",
    "        criterion = torch.nn.CrossEntropyLoss()\n",
    "        loss = torch.nn.BCELoss()\n",
    "        \n",
    "        for epoch in range(1, epochs + 1):\n",
    "            optimizer.zero_grad()\n",
    "            output = loss(self.forward(x, phi_matrix).flatten(), y)\n",
    "            output.backward()\n",
    "            optimizer.step()\n",
    "            \n",
    "            with torch.no_grad():\n",
    "                if epoch + 1 in print_epochs:\n",
    "                    print(f'Epoch: {epoch: 5d} | CrossEntropyLoss: {output.item(): 0.5f}')\n",
    "                \n",
    "        return self\n",
    "\n",
    "    def metrics_tab(self, x, y):\n",
    "        y_prob = self.forward(x)\n",
    "        y_pred = (y_prob > 0.5) * 1\n",
    "        \n",
    "        return self.print(classification_report(y, y_pred))"
   ]
  },
  {
   "cell_type": "code",
   "execution_count": 54,
   "id": "1d4a8f50",
   "metadata": {},
   "outputs": [],
   "source": [
    "from sklearn.datasets import make_classification\n",
    "\n",
    "x, y = make_classification(n_samples=500, n_features=4, random_state=1)\n",
    "x = torch.FloatTensor(x[:, :2])\n",
    "y = torch.FloatTensor(y)"
   ]
  },
  {
   "cell_type": "code",
   "execution_count": 55,
   "id": "e03de696",
   "metadata": {},
   "outputs": [],
   "source": [
    "model = LogisticRegressionRBF(x)"
   ]
  },
  {
   "cell_type": "code",
   "execution_count": null,
   "id": "730e6fab",
   "metadata": {},
   "outputs": [],
   "source": []
  },
  {
   "cell_type": "code",
   "execution_count": 8,
   "id": "f29af042",
   "metadata": {},
   "outputs": [
    {
     "name": "stdout",
     "output_type": "stream",
     "text": [
      "              precision    recall  f1-score   support\n",
      "\n",
      "         0.0       1.00      1.00      1.00       251\n",
      "         1.0       1.00      1.00      1.00       249\n",
      "\n",
      "    accuracy                           1.00       500\n",
      "   macro avg       1.00      1.00      1.00       500\n",
      "weighted avg       1.00      1.00      1.00       500\n",
      "\n"
     ]
    }
   ],
   "source": [
    "print(model.metrics_tab(x, y))"
   ]
  },
  {
   "cell_type": "code",
   "execution_count": 9,
   "id": "84caf9d6",
   "metadata": {},
   "outputs": [
    {
     "data": {
      "text/plain": [
       "tensor([[ 2.6573,  0.0904, -0.4647,  ...,  0.7859,  0.5237,  0.2753],\n",
       "        [ 0.7945, -1.5304,  0.1904,  ...,  1.3272, -0.8044, -0.7947],\n",
       "        [-0.7132, -0.0342, -0.8635,  ..., -1.3989,  0.9047, -0.2815],\n",
       "        ...,\n",
       "        [ 0.6250,  1.2871,  0.1154,  ...,  0.2378,  0.0766, -1.5264],\n",
       "        [ 0.9123,  0.3679, -1.0304,  ..., -1.2586,  1.5245,  0.5917],\n",
       "        [ 0.7844, -0.0076, -1.2507,  ..., -1.2982,  1.5009,  0.3329]])"
      ]
     },
     "execution_count": 9,
     "metadata": {},
     "output_type": "execute_result"
    }
   ],
   "source": [
    "x"
   ]
  },
  {
   "cell_type": "code",
   "execution_count": null,
   "id": "6ba0cc50",
   "metadata": {},
   "outputs": [],
   "source": []
  }
 ],
 "metadata": {
  "kernelspec": {
   "display_name": "Python 3 (ipykernel)",
   "language": "python",
   "name": "python3"
  },
  "language_info": {
   "codemirror_mode": {
    "name": "ipython",
    "version": 3
   },
   "file_extension": ".py",
   "mimetype": "text/x-python",
   "name": "python",
   "nbconvert_exporter": "python",
   "pygments_lexer": "ipython3",
   "version": "3.9.7"
  }
 },
 "nbformat": 4,
 "nbformat_minor": 5
}
