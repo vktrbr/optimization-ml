{
 "cells": [
  {
   "cell_type": "code",
   "execution_count": 13,
   "outputs": [],
   "source": [
    "from metrics import *\n",
    "import pandas as pd\n",
    "\n",
    "from algorithms import LogisticRegression\n",
    "from sklearn.datasets import make_classification, make_blobs\n",
    "from sklearn.model_selection import train_test_split\n",
    "\n",
    "# x, y = make_classification(n_samples=1000, n_features=2, n_informative=2, n_redundant=0, random_state=1)\n",
    "x, y = make_blobs(n_samples=200, n_features=2, centers=2, random_state=777)\n",
    "x = torch.FloatTensor(x)\n",
    "y = torch.FloatTensor(y)\n",
    "x = x / torch.abs(x).max()\n",
    "\n",
    "x_train, x_test, y_train, y_test = train_test_split(x, y, test_size=0.3)"
   ],
   "metadata": {
    "collapsed": false,
    "pycharm": {
     "name": "#%%\n"
    }
   }
  },
  {
   "cell_type": "code",
   "execution_count": 14,
   "outputs": [
    {
     "name": "stdout",
     "output_type": "stream",
     "text": [
      "Epoch:     1 | CrossEntropyLoss:  0.81495\n",
      "Epoch:     3 | CrossEntropyLoss:  0.81401\n",
      "Epoch:     6 | CrossEntropyLoss:  0.81260\n",
      "Epoch:    10 | CrossEntropyLoss:  0.81074\n",
      "Epoch:    18 | CrossEntropyLoss:  0.80705\n",
      "Epoch:    30 | CrossEntropyLoss:  0.80163\n",
      "Epoch:    50 | CrossEntropyLoss:  0.79293\n",
      "Epoch:    83 | CrossEntropyLoss:  0.77948\n",
      "Epoch:   138 | CrossEntropyLoss:  0.75955\n",
      "Epoch:   226 | CrossEntropyLoss:  0.73361\n",
      "Epoch:   372 | CrossEntropyLoss:  0.70378\n",
      "Epoch:   610 | CrossEntropyLoss:  0.67664\n",
      "Epoch:  1000 | CrossEntropyLoss:  0.64846\n"
     ]
    }
   ],
   "source": [
    "model = LogisticRegression(x_train.shape[1], kernel='linear')\n",
    "model = model.fit(x_train, y_train, 1000, l1_lambda=0)"
   ],
   "metadata": {
    "collapsed": false,
    "pycharm": {
     "name": "#%%\n"
    }
   }
  },
  {
   "cell_type": "markdown",
   "source": [
    "## Testing"
   ],
   "metadata": {
    "collapsed": false,
    "pycharm": {
     "name": "#%% md\n"
    }
   }
  },
  {
   "cell_type": "code",
   "execution_count": 15,
   "outputs": [
    {
     "name": "stdout",
     "output_type": "stream",
     "text": [
      "Accuracy:  95.00% | Threshold:  0.51\n"
     ]
    },
    {
     "data": {
      "text/plain": "   precision  recall  f1-score  support\n0      0.931   0.964     0.947     28.0\n1      0.968   0.938     0.952     32.0",
      "text/html": "<div>\n<style scoped>\n    .dataframe tbody tr th:only-of-type {\n        vertical-align: middle;\n    }\n\n    .dataframe tbody tr th {\n        vertical-align: top;\n    }\n\n    .dataframe thead th {\n        text-align: right;\n    }\n</style>\n<table border=\"1\" class=\"dataframe\">\n  <thead>\n    <tr style=\"text-align: right;\">\n      <th></th>\n      <th>precision</th>\n      <th>recall</th>\n      <th>f1-score</th>\n      <th>support</th>\n    </tr>\n  </thead>\n  <tbody>\n    <tr>\n      <th>0</th>\n      <td>0.931</td>\n      <td>0.964</td>\n      <td>0.947</td>\n      <td>28.0</td>\n    </tr>\n    <tr>\n      <th>1</th>\n      <td>0.968</td>\n      <td>0.938</td>\n      <td>0.952</td>\n      <td>32.0</td>\n    </tr>\n  </tbody>\n</table>\n</div>"
     },
     "execution_count": 15,
     "metadata": {},
     "output_type": "execute_result"
    }
   ],
   "source": [
    "metrics = model.metrics_tab(x_test, y_test, metric='f1')\n",
    "tab = pd.DataFrame({'0': metrics['0.0'], '1': metrics['1.0']}).T.round(3)\n",
    "print(f'Accuracy: {metrics[\"accuracy\"]: 0.2%} | Threshold: {metrics[\"threshold\"]: 0.2f}')\n",
    "tab"
   ],
   "metadata": {
    "collapsed": false,
    "pycharm": {
     "name": "#%%\n"
    }
   }
  },
  {
   "cell_type": "code",
   "execution_count": 16,
   "outputs": [
    {
     "name": "stdout",
     "output_type": "stream",
     "text": [
      "AUC-ROC:  0.9900\n"
     ]
    },
    {
     "data": {
      "application/vnd.plotly.v1+json": {
       "data": [
        {
         "fillpattern": {
          "shape": ""
         },
         "hovertemplate": "FPR=%{x}<br>TPR=%{y}<extra></extra>",
         "legendgroup": "",
         "line": {
          "color": "#636efa"
         },
         "marker": {
          "symbol": "circle"
         },
         "mode": "lines",
         "name": "",
         "orientation": "v",
         "showlegend": false,
         "stackgroup": "1",
         "x": [
          0.0,
          0.0,
          0.0,
          0.0,
          0.0,
          0.0,
          0.0,
          0.0,
          0.0,
          0.0,
          0.0,
          0.0,
          0.0,
          0.0,
          0.0,
          0.0,
          0.0,
          0.0,
          0.0,
          0.0,
          0.0,
          0.0,
          0.0,
          0.0,
          0.0,
          0.0,
          0.0,
          0.0,
          0.0,
          0.03571428571428571,
          0.03571428571428571,
          0.07142857142857142,
          0.07142857142857142,
          0.10714285714285714,
          0.14285714285714285,
          0.17857142857142858,
          0.21428571428571427,
          0.21428571428571427,
          0.25,
          0.2857142857142857,
          0.32142857142857145,
          0.35714285714285715,
          0.39285714285714285,
          0.42857142857142855,
          0.4642857142857143,
          0.5,
          0.5357142857142857,
          0.5714285714285714,
          0.6071428571428571,
          0.6428571428571429,
          0.6785714285714286,
          0.7142857142857143,
          0.75,
          0.7857142857142857,
          0.8214285714285714,
          0.8571428571428571,
          0.8928571428571429,
          0.9285714285714286,
          0.9642857142857143,
          1.0
         ],
         "xaxis": "x",
         "y": [
          0.03125,
          0.0625,
          0.09375,
          0.125,
          0.15625,
          0.1875,
          0.21875,
          0.25,
          0.28125,
          0.3125,
          0.34375,
          0.375,
          0.40625,
          0.4375,
          0.46875,
          0.5,
          0.53125,
          0.5625,
          0.59375,
          0.625,
          0.65625,
          0.6875,
          0.71875,
          0.75,
          0.78125,
          0.8125,
          0.84375,
          0.875,
          0.90625,
          0.90625,
          0.9375,
          0.9375,
          0.96875,
          0.96875,
          0.96875,
          0.96875,
          0.96875,
          1.0,
          1.0,
          1.0,
          1.0,
          1.0,
          1.0,
          1.0,
          1.0,
          1.0,
          1.0,
          1.0,
          1.0,
          1.0,
          1.0,
          1.0,
          1.0,
          1.0,
          1.0,
          1.0,
          1.0,
          1.0,
          1.0,
          1.0
         ],
         "yaxis": "y",
         "type": "scatter"
        },
        {
         "line": {
          "dash": "dash"
         },
         "mode": "lines",
         "showlegend": false,
         "x": [
          0,
          1
         ],
         "y": [
          0,
          1
         ],
         "type": "scatter"
        }
       ],
       "layout": {
        "template": {
         "data": {
          "histogram2dcontour": [
           {
            "type": "histogram2dcontour",
            "colorbar": {
             "outlinewidth": 0,
             "ticks": ""
            },
            "colorscale": [
             [
              0.0,
              "#0d0887"
             ],
             [
              0.1111111111111111,
              "#46039f"
             ],
             [
              0.2222222222222222,
              "#7201a8"
             ],
             [
              0.3333333333333333,
              "#9c179e"
             ],
             [
              0.4444444444444444,
              "#bd3786"
             ],
             [
              0.5555555555555556,
              "#d8576b"
             ],
             [
              0.6666666666666666,
              "#ed7953"
             ],
             [
              0.7777777777777778,
              "#fb9f3a"
             ],
             [
              0.8888888888888888,
              "#fdca26"
             ],
             [
              1.0,
              "#f0f921"
             ]
            ]
           }
          ],
          "choropleth": [
           {
            "type": "choropleth",
            "colorbar": {
             "outlinewidth": 0,
             "ticks": ""
            }
           }
          ],
          "histogram2d": [
           {
            "type": "histogram2d",
            "colorbar": {
             "outlinewidth": 0,
             "ticks": ""
            },
            "colorscale": [
             [
              0.0,
              "#0d0887"
             ],
             [
              0.1111111111111111,
              "#46039f"
             ],
             [
              0.2222222222222222,
              "#7201a8"
             ],
             [
              0.3333333333333333,
              "#9c179e"
             ],
             [
              0.4444444444444444,
              "#bd3786"
             ],
             [
              0.5555555555555556,
              "#d8576b"
             ],
             [
              0.6666666666666666,
              "#ed7953"
             ],
             [
              0.7777777777777778,
              "#fb9f3a"
             ],
             [
              0.8888888888888888,
              "#fdca26"
             ],
             [
              1.0,
              "#f0f921"
             ]
            ]
           }
          ],
          "heatmap": [
           {
            "type": "heatmap",
            "colorbar": {
             "outlinewidth": 0,
             "ticks": ""
            },
            "colorscale": [
             [
              0.0,
              "#0d0887"
             ],
             [
              0.1111111111111111,
              "#46039f"
             ],
             [
              0.2222222222222222,
              "#7201a8"
             ],
             [
              0.3333333333333333,
              "#9c179e"
             ],
             [
              0.4444444444444444,
              "#bd3786"
             ],
             [
              0.5555555555555556,
              "#d8576b"
             ],
             [
              0.6666666666666666,
              "#ed7953"
             ],
             [
              0.7777777777777778,
              "#fb9f3a"
             ],
             [
              0.8888888888888888,
              "#fdca26"
             ],
             [
              1.0,
              "#f0f921"
             ]
            ]
           }
          ],
          "heatmapgl": [
           {
            "type": "heatmapgl",
            "colorbar": {
             "outlinewidth": 0,
             "ticks": ""
            },
            "colorscale": [
             [
              0.0,
              "#0d0887"
             ],
             [
              0.1111111111111111,
              "#46039f"
             ],
             [
              0.2222222222222222,
              "#7201a8"
             ],
             [
              0.3333333333333333,
              "#9c179e"
             ],
             [
              0.4444444444444444,
              "#bd3786"
             ],
             [
              0.5555555555555556,
              "#d8576b"
             ],
             [
              0.6666666666666666,
              "#ed7953"
             ],
             [
              0.7777777777777778,
              "#fb9f3a"
             ],
             [
              0.8888888888888888,
              "#fdca26"
             ],
             [
              1.0,
              "#f0f921"
             ]
            ]
           }
          ],
          "contourcarpet": [
           {
            "type": "contourcarpet",
            "colorbar": {
             "outlinewidth": 0,
             "ticks": ""
            }
           }
          ],
          "contour": [
           {
            "type": "contour",
            "colorbar": {
             "outlinewidth": 0,
             "ticks": ""
            },
            "colorscale": [
             [
              0.0,
              "#0d0887"
             ],
             [
              0.1111111111111111,
              "#46039f"
             ],
             [
              0.2222222222222222,
              "#7201a8"
             ],
             [
              0.3333333333333333,
              "#9c179e"
             ],
             [
              0.4444444444444444,
              "#bd3786"
             ],
             [
              0.5555555555555556,
              "#d8576b"
             ],
             [
              0.6666666666666666,
              "#ed7953"
             ],
             [
              0.7777777777777778,
              "#fb9f3a"
             ],
             [
              0.8888888888888888,
              "#fdca26"
             ],
             [
              1.0,
              "#f0f921"
             ]
            ]
           }
          ],
          "surface": [
           {
            "type": "surface",
            "colorbar": {
             "outlinewidth": 0,
             "ticks": ""
            },
            "colorscale": [
             [
              0.0,
              "#0d0887"
             ],
             [
              0.1111111111111111,
              "#46039f"
             ],
             [
              0.2222222222222222,
              "#7201a8"
             ],
             [
              0.3333333333333333,
              "#9c179e"
             ],
             [
              0.4444444444444444,
              "#bd3786"
             ],
             [
              0.5555555555555556,
              "#d8576b"
             ],
             [
              0.6666666666666666,
              "#ed7953"
             ],
             [
              0.7777777777777778,
              "#fb9f3a"
             ],
             [
              0.8888888888888888,
              "#fdca26"
             ],
             [
              1.0,
              "#f0f921"
             ]
            ]
           }
          ],
          "mesh3d": [
           {
            "type": "mesh3d",
            "colorbar": {
             "outlinewidth": 0,
             "ticks": ""
            }
           }
          ],
          "scatter": [
           {
            "marker": {
             "line": {
              "color": "#283442"
             }
            },
            "type": "scatter"
           }
          ],
          "parcoords": [
           {
            "type": "parcoords",
            "line": {
             "colorbar": {
              "outlinewidth": 0,
              "ticks": ""
             }
            }
           }
          ],
          "scatterpolargl": [
           {
            "type": "scatterpolargl",
            "marker": {
             "colorbar": {
              "outlinewidth": 0,
              "ticks": ""
             }
            }
           }
          ],
          "bar": [
           {
            "error_x": {
             "color": "#f2f5fa"
            },
            "error_y": {
             "color": "#f2f5fa"
            },
            "marker": {
             "line": {
              "color": "rgb(17,17,17)",
              "width": 0.5
             },
             "pattern": {
              "fillmode": "overlay",
              "size": 10,
              "solidity": 0.2
             }
            },
            "type": "bar"
           }
          ],
          "scattergeo": [
           {
            "type": "scattergeo",
            "marker": {
             "colorbar": {
              "outlinewidth": 0,
              "ticks": ""
             }
            }
           }
          ],
          "scatterpolar": [
           {
            "type": "scatterpolar",
            "marker": {
             "colorbar": {
              "outlinewidth": 0,
              "ticks": ""
             }
            }
           }
          ],
          "histogram": [
           {
            "marker": {
             "pattern": {
              "fillmode": "overlay",
              "size": 10,
              "solidity": 0.2
             }
            },
            "type": "histogram"
           }
          ],
          "scattergl": [
           {
            "marker": {
             "line": {
              "color": "#283442"
             }
            },
            "type": "scattergl"
           }
          ],
          "scatter3d": [
           {
            "type": "scatter3d",
            "line": {
             "colorbar": {
              "outlinewidth": 0,
              "ticks": ""
             }
            },
            "marker": {
             "colorbar": {
              "outlinewidth": 0,
              "ticks": ""
             }
            }
           }
          ],
          "scattermapbox": [
           {
            "type": "scattermapbox",
            "marker": {
             "colorbar": {
              "outlinewidth": 0,
              "ticks": ""
             }
            }
           }
          ],
          "scatterternary": [
           {
            "type": "scatterternary",
            "marker": {
             "colorbar": {
              "outlinewidth": 0,
              "ticks": ""
             }
            }
           }
          ],
          "scattercarpet": [
           {
            "type": "scattercarpet",
            "marker": {
             "colorbar": {
              "outlinewidth": 0,
              "ticks": ""
             }
            }
           }
          ],
          "carpet": [
           {
            "aaxis": {
             "endlinecolor": "#A2B1C6",
             "gridcolor": "#506784",
             "linecolor": "#506784",
             "minorgridcolor": "#506784",
             "startlinecolor": "#A2B1C6"
            },
            "baxis": {
             "endlinecolor": "#A2B1C6",
             "gridcolor": "#506784",
             "linecolor": "#506784",
             "minorgridcolor": "#506784",
             "startlinecolor": "#A2B1C6"
            },
            "type": "carpet"
           }
          ],
          "table": [
           {
            "cells": {
             "fill": {
              "color": "#506784"
             },
             "line": {
              "color": "rgb(17,17,17)"
             }
            },
            "header": {
             "fill": {
              "color": "#2a3f5f"
             },
             "line": {
              "color": "rgb(17,17,17)"
             }
            },
            "type": "table"
           }
          ],
          "barpolar": [
           {
            "marker": {
             "line": {
              "color": "rgb(17,17,17)",
              "width": 0.5
             },
             "pattern": {
              "fillmode": "overlay",
              "size": 10,
              "solidity": 0.2
             }
            },
            "type": "barpolar"
           }
          ],
          "pie": [
           {
            "automargin": true,
            "type": "pie"
           }
          ]
         },
         "layout": {
          "autotypenumbers": "strict",
          "colorway": [
           "#636efa",
           "#EF553B",
           "#00cc96",
           "#ab63fa",
           "#FFA15A",
           "#19d3f3",
           "#FF6692",
           "#B6E880",
           "#FF97FF",
           "#FECB52"
          ],
          "font": {
           "color": "#f2f5fa"
          },
          "hovermode": "closest",
          "hoverlabel": {
           "align": "left"
          },
          "paper_bgcolor": "rgb(17,17,17)",
          "plot_bgcolor": "rgb(17,17,17)",
          "polar": {
           "bgcolor": "rgb(17,17,17)",
           "angularaxis": {
            "gridcolor": "#506784",
            "linecolor": "#506784",
            "ticks": ""
           },
           "radialaxis": {
            "gridcolor": "#506784",
            "linecolor": "#506784",
            "ticks": ""
           }
          },
          "ternary": {
           "bgcolor": "rgb(17,17,17)",
           "aaxis": {
            "gridcolor": "#506784",
            "linecolor": "#506784",
            "ticks": ""
           },
           "baxis": {
            "gridcolor": "#506784",
            "linecolor": "#506784",
            "ticks": ""
           },
           "caxis": {
            "gridcolor": "#506784",
            "linecolor": "#506784",
            "ticks": ""
           }
          },
          "coloraxis": {
           "colorbar": {
            "outlinewidth": 0,
            "ticks": ""
           }
          },
          "colorscale": {
           "sequential": [
            [
             0.0,
             "#0d0887"
            ],
            [
             0.1111111111111111,
             "#46039f"
            ],
            [
             0.2222222222222222,
             "#7201a8"
            ],
            [
             0.3333333333333333,
             "#9c179e"
            ],
            [
             0.4444444444444444,
             "#bd3786"
            ],
            [
             0.5555555555555556,
             "#d8576b"
            ],
            [
             0.6666666666666666,
             "#ed7953"
            ],
            [
             0.7777777777777778,
             "#fb9f3a"
            ],
            [
             0.8888888888888888,
             "#fdca26"
            ],
            [
             1.0,
             "#f0f921"
            ]
           ],
           "sequentialminus": [
            [
             0.0,
             "#0d0887"
            ],
            [
             0.1111111111111111,
             "#46039f"
            ],
            [
             0.2222222222222222,
             "#7201a8"
            ],
            [
             0.3333333333333333,
             "#9c179e"
            ],
            [
             0.4444444444444444,
             "#bd3786"
            ],
            [
             0.5555555555555556,
             "#d8576b"
            ],
            [
             0.6666666666666666,
             "#ed7953"
            ],
            [
             0.7777777777777778,
             "#fb9f3a"
            ],
            [
             0.8888888888888888,
             "#fdca26"
            ],
            [
             1.0,
             "#f0f921"
            ]
           ],
           "diverging": [
            [
             0,
             "#8e0152"
            ],
            [
             0.1,
             "#c51b7d"
            ],
            [
             0.2,
             "#de77ae"
            ],
            [
             0.3,
             "#f1b6da"
            ],
            [
             0.4,
             "#fde0ef"
            ],
            [
             0.5,
             "#f7f7f7"
            ],
            [
             0.6,
             "#e6f5d0"
            ],
            [
             0.7,
             "#b8e186"
            ],
            [
             0.8,
             "#7fbc41"
            ],
            [
             0.9,
             "#4d9221"
            ],
            [
             1,
             "#276419"
            ]
           ]
          },
          "xaxis": {
           "gridcolor": "#283442",
           "linecolor": "#506784",
           "ticks": "",
           "title": {
            "standoff": 15
           },
           "zerolinecolor": "#283442",
           "automargin": true,
           "zerolinewidth": 2
          },
          "yaxis": {
           "gridcolor": "#283442",
           "linecolor": "#506784",
           "ticks": "",
           "title": {
            "standoff": 15
           },
           "zerolinecolor": "#283442",
           "automargin": true,
           "zerolinewidth": 2
          },
          "scene": {
           "xaxis": {
            "backgroundcolor": "rgb(17,17,17)",
            "gridcolor": "#506784",
            "linecolor": "#506784",
            "showbackground": true,
            "ticks": "",
            "zerolinecolor": "#C8D4E3",
            "gridwidth": 2
           },
           "yaxis": {
            "backgroundcolor": "rgb(17,17,17)",
            "gridcolor": "#506784",
            "linecolor": "#506784",
            "showbackground": true,
            "ticks": "",
            "zerolinecolor": "#C8D4E3",
            "gridwidth": 2
           },
           "zaxis": {
            "backgroundcolor": "rgb(17,17,17)",
            "gridcolor": "#506784",
            "linecolor": "#506784",
            "showbackground": true,
            "ticks": "",
            "zerolinecolor": "#C8D4E3",
            "gridwidth": 2
           }
          },
          "shapedefaults": {
           "line": {
            "color": "#f2f5fa"
           }
          },
          "annotationdefaults": {
           "arrowcolor": "#f2f5fa",
           "arrowhead": 0,
           "arrowwidth": 1
          },
          "geo": {
           "bgcolor": "rgb(17,17,17)",
           "landcolor": "rgb(17,17,17)",
           "subunitcolor": "#506784",
           "showland": true,
           "showlakes": true,
           "lakecolor": "rgb(17,17,17)"
          },
          "title": {
           "x": 0.05
          },
          "updatemenudefaults": {
           "bgcolor": "#506784",
           "borderwidth": 0
          },
          "sliderdefaults": {
           "bgcolor": "#C8D4E3",
           "borderwidth": 1,
           "bordercolor": "rgb(17,17,17)",
           "tickwidth": 0
          },
          "mapbox": {
           "style": "dark"
          }
         }
        },
        "xaxis": {
         "anchor": "y",
         "domain": [
          0.0,
          1.0
         ],
         "title": {
          "text": "FPR"
         }
        },
        "yaxis": {
         "anchor": "x",
         "domain": [
          0.0,
          1.0
         ],
         "title": {
          "text": "TPR"
         }
        },
        "legend": {
         "tracegroupgap": 0
        },
        "title": {
         "text": "<b>ROC curve</b>"
        },
        "font": {
         "size": 18
        },
        "autosize": false,
        "width": 700,
        "height": 600
       },
       "config": {
        "plotlyServerURL": "https://plot.ly"
       }
      },
      "text/html": "<div>                            <div id=\"7bedfb9a-c959-402b-94c3-0b642d0a0e30\" class=\"plotly-graph-div\" style=\"height:600px; width:700px;\"></div>            <script type=\"text/javascript\">                require([\"plotly\"], function(Plotly) {                    window.PLOTLYENV=window.PLOTLYENV || {};                                    if (document.getElementById(\"7bedfb9a-c959-402b-94c3-0b642d0a0e30\")) {                    Plotly.newPlot(                        \"7bedfb9a-c959-402b-94c3-0b642d0a0e30\",                        [{\"fillpattern\":{\"shape\":\"\"},\"hovertemplate\":\"FPR=%{x}<br>TPR=%{y}<extra></extra>\",\"legendgroup\":\"\",\"line\":{\"color\":\"#636efa\"},\"marker\":{\"symbol\":\"circle\"},\"mode\":\"lines\",\"name\":\"\",\"orientation\":\"v\",\"showlegend\":false,\"stackgroup\":\"1\",\"x\":[0.0,0.0,0.0,0.0,0.0,0.0,0.0,0.0,0.0,0.0,0.0,0.0,0.0,0.0,0.0,0.0,0.0,0.0,0.0,0.0,0.0,0.0,0.0,0.0,0.0,0.0,0.0,0.0,0.0,0.03571428571428571,0.03571428571428571,0.07142857142857142,0.07142857142857142,0.10714285714285714,0.14285714285714285,0.17857142857142858,0.21428571428571427,0.21428571428571427,0.25,0.2857142857142857,0.32142857142857145,0.35714285714285715,0.39285714285714285,0.42857142857142855,0.4642857142857143,0.5,0.5357142857142857,0.5714285714285714,0.6071428571428571,0.6428571428571429,0.6785714285714286,0.7142857142857143,0.75,0.7857142857142857,0.8214285714285714,0.8571428571428571,0.8928571428571429,0.9285714285714286,0.9642857142857143,1.0],\"xaxis\":\"x\",\"y\":[0.03125,0.0625,0.09375,0.125,0.15625,0.1875,0.21875,0.25,0.28125,0.3125,0.34375,0.375,0.40625,0.4375,0.46875,0.5,0.53125,0.5625,0.59375,0.625,0.65625,0.6875,0.71875,0.75,0.78125,0.8125,0.84375,0.875,0.90625,0.90625,0.9375,0.9375,0.96875,0.96875,0.96875,0.96875,0.96875,1.0,1.0,1.0,1.0,1.0,1.0,1.0,1.0,1.0,1.0,1.0,1.0,1.0,1.0,1.0,1.0,1.0,1.0,1.0,1.0,1.0,1.0,1.0],\"yaxis\":\"y\",\"type\":\"scatter\"},{\"line\":{\"dash\":\"dash\"},\"mode\":\"lines\",\"showlegend\":false,\"x\":[0,1],\"y\":[0,1],\"type\":\"scatter\"}],                        {\"template\":{\"data\":{\"histogram2dcontour\":[{\"type\":\"histogram2dcontour\",\"colorbar\":{\"outlinewidth\":0,\"ticks\":\"\"},\"colorscale\":[[0.0,\"#0d0887\"],[0.1111111111111111,\"#46039f\"],[0.2222222222222222,\"#7201a8\"],[0.3333333333333333,\"#9c179e\"],[0.4444444444444444,\"#bd3786\"],[0.5555555555555556,\"#d8576b\"],[0.6666666666666666,\"#ed7953\"],[0.7777777777777778,\"#fb9f3a\"],[0.8888888888888888,\"#fdca26\"],[1.0,\"#f0f921\"]]}],\"choropleth\":[{\"type\":\"choropleth\",\"colorbar\":{\"outlinewidth\":0,\"ticks\":\"\"}}],\"histogram2d\":[{\"type\":\"histogram2d\",\"colorbar\":{\"outlinewidth\":0,\"ticks\":\"\"},\"colorscale\":[[0.0,\"#0d0887\"],[0.1111111111111111,\"#46039f\"],[0.2222222222222222,\"#7201a8\"],[0.3333333333333333,\"#9c179e\"],[0.4444444444444444,\"#bd3786\"],[0.5555555555555556,\"#d8576b\"],[0.6666666666666666,\"#ed7953\"],[0.7777777777777778,\"#fb9f3a\"],[0.8888888888888888,\"#fdca26\"],[1.0,\"#f0f921\"]]}],\"heatmap\":[{\"type\":\"heatmap\",\"colorbar\":{\"outlinewidth\":0,\"ticks\":\"\"},\"colorscale\":[[0.0,\"#0d0887\"],[0.1111111111111111,\"#46039f\"],[0.2222222222222222,\"#7201a8\"],[0.3333333333333333,\"#9c179e\"],[0.4444444444444444,\"#bd3786\"],[0.5555555555555556,\"#d8576b\"],[0.6666666666666666,\"#ed7953\"],[0.7777777777777778,\"#fb9f3a\"],[0.8888888888888888,\"#fdca26\"],[1.0,\"#f0f921\"]]}],\"heatmapgl\":[{\"type\":\"heatmapgl\",\"colorbar\":{\"outlinewidth\":0,\"ticks\":\"\"},\"colorscale\":[[0.0,\"#0d0887\"],[0.1111111111111111,\"#46039f\"],[0.2222222222222222,\"#7201a8\"],[0.3333333333333333,\"#9c179e\"],[0.4444444444444444,\"#bd3786\"],[0.5555555555555556,\"#d8576b\"],[0.6666666666666666,\"#ed7953\"],[0.7777777777777778,\"#fb9f3a\"],[0.8888888888888888,\"#fdca26\"],[1.0,\"#f0f921\"]]}],\"contourcarpet\":[{\"type\":\"contourcarpet\",\"colorbar\":{\"outlinewidth\":0,\"ticks\":\"\"}}],\"contour\":[{\"type\":\"contour\",\"colorbar\":{\"outlinewidth\":0,\"ticks\":\"\"},\"colorscale\":[[0.0,\"#0d0887\"],[0.1111111111111111,\"#46039f\"],[0.2222222222222222,\"#7201a8\"],[0.3333333333333333,\"#9c179e\"],[0.4444444444444444,\"#bd3786\"],[0.5555555555555556,\"#d8576b\"],[0.6666666666666666,\"#ed7953\"],[0.7777777777777778,\"#fb9f3a\"],[0.8888888888888888,\"#fdca26\"],[1.0,\"#f0f921\"]]}],\"surface\":[{\"type\":\"surface\",\"colorbar\":{\"outlinewidth\":0,\"ticks\":\"\"},\"colorscale\":[[0.0,\"#0d0887\"],[0.1111111111111111,\"#46039f\"],[0.2222222222222222,\"#7201a8\"],[0.3333333333333333,\"#9c179e\"],[0.4444444444444444,\"#bd3786\"],[0.5555555555555556,\"#d8576b\"],[0.6666666666666666,\"#ed7953\"],[0.7777777777777778,\"#fb9f3a\"],[0.8888888888888888,\"#fdca26\"],[1.0,\"#f0f921\"]]}],\"mesh3d\":[{\"type\":\"mesh3d\",\"colorbar\":{\"outlinewidth\":0,\"ticks\":\"\"}}],\"scatter\":[{\"marker\":{\"line\":{\"color\":\"#283442\"}},\"type\":\"scatter\"}],\"parcoords\":[{\"type\":\"parcoords\",\"line\":{\"colorbar\":{\"outlinewidth\":0,\"ticks\":\"\"}}}],\"scatterpolargl\":[{\"type\":\"scatterpolargl\",\"marker\":{\"colorbar\":{\"outlinewidth\":0,\"ticks\":\"\"}}}],\"bar\":[{\"error_x\":{\"color\":\"#f2f5fa\"},\"error_y\":{\"color\":\"#f2f5fa\"},\"marker\":{\"line\":{\"color\":\"rgb(17,17,17)\",\"width\":0.5},\"pattern\":{\"fillmode\":\"overlay\",\"size\":10,\"solidity\":0.2}},\"type\":\"bar\"}],\"scattergeo\":[{\"type\":\"scattergeo\",\"marker\":{\"colorbar\":{\"outlinewidth\":0,\"ticks\":\"\"}}}],\"scatterpolar\":[{\"type\":\"scatterpolar\",\"marker\":{\"colorbar\":{\"outlinewidth\":0,\"ticks\":\"\"}}}],\"histogram\":[{\"marker\":{\"pattern\":{\"fillmode\":\"overlay\",\"size\":10,\"solidity\":0.2}},\"type\":\"histogram\"}],\"scattergl\":[{\"marker\":{\"line\":{\"color\":\"#283442\"}},\"type\":\"scattergl\"}],\"scatter3d\":[{\"type\":\"scatter3d\",\"line\":{\"colorbar\":{\"outlinewidth\":0,\"ticks\":\"\"}},\"marker\":{\"colorbar\":{\"outlinewidth\":0,\"ticks\":\"\"}}}],\"scattermapbox\":[{\"type\":\"scattermapbox\",\"marker\":{\"colorbar\":{\"outlinewidth\":0,\"ticks\":\"\"}}}],\"scatterternary\":[{\"type\":\"scatterternary\",\"marker\":{\"colorbar\":{\"outlinewidth\":0,\"ticks\":\"\"}}}],\"scattercarpet\":[{\"type\":\"scattercarpet\",\"marker\":{\"colorbar\":{\"outlinewidth\":0,\"ticks\":\"\"}}}],\"carpet\":[{\"aaxis\":{\"endlinecolor\":\"#A2B1C6\",\"gridcolor\":\"#506784\",\"linecolor\":\"#506784\",\"minorgridcolor\":\"#506784\",\"startlinecolor\":\"#A2B1C6\"},\"baxis\":{\"endlinecolor\":\"#A2B1C6\",\"gridcolor\":\"#506784\",\"linecolor\":\"#506784\",\"minorgridcolor\":\"#506784\",\"startlinecolor\":\"#A2B1C6\"},\"type\":\"carpet\"}],\"table\":[{\"cells\":{\"fill\":{\"color\":\"#506784\"},\"line\":{\"color\":\"rgb(17,17,17)\"}},\"header\":{\"fill\":{\"color\":\"#2a3f5f\"},\"line\":{\"color\":\"rgb(17,17,17)\"}},\"type\":\"table\"}],\"barpolar\":[{\"marker\":{\"line\":{\"color\":\"rgb(17,17,17)\",\"width\":0.5},\"pattern\":{\"fillmode\":\"overlay\",\"size\":10,\"solidity\":0.2}},\"type\":\"barpolar\"}],\"pie\":[{\"automargin\":true,\"type\":\"pie\"}]},\"layout\":{\"autotypenumbers\":\"strict\",\"colorway\":[\"#636efa\",\"#EF553B\",\"#00cc96\",\"#ab63fa\",\"#FFA15A\",\"#19d3f3\",\"#FF6692\",\"#B6E880\",\"#FF97FF\",\"#FECB52\"],\"font\":{\"color\":\"#f2f5fa\"},\"hovermode\":\"closest\",\"hoverlabel\":{\"align\":\"left\"},\"paper_bgcolor\":\"rgb(17,17,17)\",\"plot_bgcolor\":\"rgb(17,17,17)\",\"polar\":{\"bgcolor\":\"rgb(17,17,17)\",\"angularaxis\":{\"gridcolor\":\"#506784\",\"linecolor\":\"#506784\",\"ticks\":\"\"},\"radialaxis\":{\"gridcolor\":\"#506784\",\"linecolor\":\"#506784\",\"ticks\":\"\"}},\"ternary\":{\"bgcolor\":\"rgb(17,17,17)\",\"aaxis\":{\"gridcolor\":\"#506784\",\"linecolor\":\"#506784\",\"ticks\":\"\"},\"baxis\":{\"gridcolor\":\"#506784\",\"linecolor\":\"#506784\",\"ticks\":\"\"},\"caxis\":{\"gridcolor\":\"#506784\",\"linecolor\":\"#506784\",\"ticks\":\"\"}},\"coloraxis\":{\"colorbar\":{\"outlinewidth\":0,\"ticks\":\"\"}},\"colorscale\":{\"sequential\":[[0.0,\"#0d0887\"],[0.1111111111111111,\"#46039f\"],[0.2222222222222222,\"#7201a8\"],[0.3333333333333333,\"#9c179e\"],[0.4444444444444444,\"#bd3786\"],[0.5555555555555556,\"#d8576b\"],[0.6666666666666666,\"#ed7953\"],[0.7777777777777778,\"#fb9f3a\"],[0.8888888888888888,\"#fdca26\"],[1.0,\"#f0f921\"]],\"sequentialminus\":[[0.0,\"#0d0887\"],[0.1111111111111111,\"#46039f\"],[0.2222222222222222,\"#7201a8\"],[0.3333333333333333,\"#9c179e\"],[0.4444444444444444,\"#bd3786\"],[0.5555555555555556,\"#d8576b\"],[0.6666666666666666,\"#ed7953\"],[0.7777777777777778,\"#fb9f3a\"],[0.8888888888888888,\"#fdca26\"],[1.0,\"#f0f921\"]],\"diverging\":[[0,\"#8e0152\"],[0.1,\"#c51b7d\"],[0.2,\"#de77ae\"],[0.3,\"#f1b6da\"],[0.4,\"#fde0ef\"],[0.5,\"#f7f7f7\"],[0.6,\"#e6f5d0\"],[0.7,\"#b8e186\"],[0.8,\"#7fbc41\"],[0.9,\"#4d9221\"],[1,\"#276419\"]]},\"xaxis\":{\"gridcolor\":\"#283442\",\"linecolor\":\"#506784\",\"ticks\":\"\",\"title\":{\"standoff\":15},\"zerolinecolor\":\"#283442\",\"automargin\":true,\"zerolinewidth\":2},\"yaxis\":{\"gridcolor\":\"#283442\",\"linecolor\":\"#506784\",\"ticks\":\"\",\"title\":{\"standoff\":15},\"zerolinecolor\":\"#283442\",\"automargin\":true,\"zerolinewidth\":2},\"scene\":{\"xaxis\":{\"backgroundcolor\":\"rgb(17,17,17)\",\"gridcolor\":\"#506784\",\"linecolor\":\"#506784\",\"showbackground\":true,\"ticks\":\"\",\"zerolinecolor\":\"#C8D4E3\",\"gridwidth\":2},\"yaxis\":{\"backgroundcolor\":\"rgb(17,17,17)\",\"gridcolor\":\"#506784\",\"linecolor\":\"#506784\",\"showbackground\":true,\"ticks\":\"\",\"zerolinecolor\":\"#C8D4E3\",\"gridwidth\":2},\"zaxis\":{\"backgroundcolor\":\"rgb(17,17,17)\",\"gridcolor\":\"#506784\",\"linecolor\":\"#506784\",\"showbackground\":true,\"ticks\":\"\",\"zerolinecolor\":\"#C8D4E3\",\"gridwidth\":2}},\"shapedefaults\":{\"line\":{\"color\":\"#f2f5fa\"}},\"annotationdefaults\":{\"arrowcolor\":\"#f2f5fa\",\"arrowhead\":0,\"arrowwidth\":1},\"geo\":{\"bgcolor\":\"rgb(17,17,17)\",\"landcolor\":\"rgb(17,17,17)\",\"subunitcolor\":\"#506784\",\"showland\":true,\"showlakes\":true,\"lakecolor\":\"rgb(17,17,17)\"},\"title\":{\"x\":0.05},\"updatemenudefaults\":{\"bgcolor\":\"#506784\",\"borderwidth\":0},\"sliderdefaults\":{\"bgcolor\":\"#C8D4E3\",\"borderwidth\":1,\"bordercolor\":\"rgb(17,17,17)\",\"tickwidth\":0},\"mapbox\":{\"style\":\"dark\"}}},\"xaxis\":{\"anchor\":\"y\",\"domain\":[0.0,1.0],\"title\":{\"text\":\"FPR\"}},\"yaxis\":{\"anchor\":\"x\",\"domain\":[0.0,1.0],\"title\":{\"text\":\"TPR\"}},\"legend\":{\"tracegroupgap\":0},\"title\":{\"text\":\"<b>ROC curve</b>\"},\"font\":{\"size\":18},\"autosize\":false,\"width\":700,\"height\":600},                        {\"responsive\": true}                    ).then(function(){\n                            \nvar gd = document.getElementById('7bedfb9a-c959-402b-94c3-0b642d0a0e30');\nvar x = new MutationObserver(function (mutations, observer) {{\n        var display = window.getComputedStyle(gd).display;\n        if (!display || display === 'none') {{\n            console.log([gd, 'removed!']);\n            Plotly.purge(gd);\n            observer.disconnect();\n        }}\n}});\n\n// Listen for the removal of the full notebook cells\nvar notebookContainer = gd.closest('#notebook-container');\nif (notebookContainer) {{\n    x.observe(notebookContainer, {childList: true});\n}}\n\n// Listen for the clearing of the current output cell\nvar outputEl = gd.closest('.output');\nif (outputEl) {{\n    x.observe(outputEl, {childList: true});\n}}\n\n                        })                };                });            </script>        </div>"
     },
     "metadata": {},
     "output_type": "display_data"
    }
   ],
   "source": [
    "y_prob = model(x_test).detach().cpu().numpy().flatten()\n",
    "print(f'AUC-ROC: {auc_roc(y_test, y_prob): 0.4f}')\n",
    "roc_curve_plot(y_test, y_prob, fill=True)"
   ],
   "metadata": {
    "collapsed": false,
    "pycharm": {
     "name": "#%%\n"
    }
   }
  },
  {
   "cell_type": "markdown",
   "source": [
    "## Visualization of initial data"
   ],
   "metadata": {
    "collapsed": false,
    "pycharm": {
     "name": "#%% md\n"
    }
   }
  },
  {
   "cell_type": "code",
   "execution_count": 18,
   "outputs": [
    {
     "data": {
      "application/vnd.plotly.v1+json": {
       "data": [
        {
         "hovertemplate": "color=1<br>x=%{x}<br>y=%{y}<extra></extra>",
         "legendgroup": "1",
         "marker": {
          "color": "#636efa",
          "symbol": "circle"
         },
         "mode": "markers",
         "name": "1",
         "orientation": "v",
         "showlegend": true,
         "x": [
          -0.8986607789993286,
          -0.5920597314834595,
          -0.7033746242523193,
          -0.7175384163856506,
          -0.7809221148490906,
          -0.8527880907058716,
          -0.8530773520469666,
          -0.7795161008834839,
          -0.7484573125839233,
          -0.7144044637680054,
          -0.8152055144309998,
          -0.7394782900810242,
          -0.6427595615386963,
          -0.9193427562713623,
          -0.7649366855621338,
          -0.748231828212738,
          -0.696199893951416,
          -0.8566700220108032,
          -0.7649169564247131,
          -0.859732985496521,
          -0.5803543329238892,
          -0.7432818412780762,
          -0.6617462038993835,
          -0.7147763967514038,
          -0.8212667107582092,
          -0.9365047812461853,
          -0.7515297532081604,
          -0.6546738743782043,
          -0.7303252816200256,
          -0.7624713182449341,
          -0.7658624053001404,
          -0.8133133053779602,
          -0.7287505269050598,
          -0.7511416077613831,
          -0.7161775231361389,
          -0.6599359512329102,
          -0.8702858686447144,
          -0.7391632795333862,
          -0.7229156494140625,
          -0.7611083388328552,
          -0.6275882124900818,
          -0.8146819472312927,
          -0.7726882696151733,
          -0.8858139514923096,
          -0.7697474956512451,
          -0.7800712585449219,
          -0.8391167521476746,
          -0.8649570941925049,
          -0.6398143172264099,
          -0.6077733635902405,
          -0.6980071067810059,
          -0.8090090155601501,
          -0.8327693939208984,
          -0.8365688920021057,
          -0.687258780002594,
          -0.8093703389167786,
          -0.570495069026947,
          -0.6585139036178589,
          -0.7383691072463989,
          -0.7077393531799316,
          -0.7921467423439026,
          -0.7292701601982117,
          -0.7335682511329651,
          -0.7003819942474365,
          -0.7188214063644409,
          -0.7841565608978271,
          -0.8318291902542114,
          -0.7556332945823669
         ],
         "xaxis": "x",
         "y": [
          -0.1204424500465393,
          -0.04662793129682541,
          -0.08099193871021271,
          0.09118609875440598,
          -0.05484849587082863,
          -0.07721928507089615,
          -0.15098099410533905,
          -0.16619043052196503,
          -0.10406211763620377,
          -0.1117502748966217,
          -0.16375671327114105,
          0.04532548785209656,
          -0.2376517653465271,
          -0.05110478401184082,
          -0.1307305544614792,
          0.009271787479519844,
          -0.004349328577518463,
          -0.08041825145483017,
          -0.012237112037837505,
          -0.0627707988023758,
          -0.078219473361969,
          0.010514100082218647,
          -0.002031963784247637,
          -0.007485405076295137,
          -0.11512212455272675,
          -0.13228365778923035,
          -0.12941573560237885,
          -0.21757829189300537,
          -0.17939066886901855,
          -0.02456536516547203,
          -0.10709002614021301,
          0.11236502975225449,
          -0.14757145941257477,
          -0.014486447907984257,
          -0.04330280423164368,
          -0.17724622786045074,
          -0.03465034067630768,
          -0.11882392317056656,
          -0.12744766473770142,
          -0.08494116365909576,
          -0.04459083452820778,
          0.043554868549108505,
          -0.07347818464040756,
          -0.05706677958369255,
          -0.09203873574733734,
          -0.1491403430700302,
          0.023239683359861374,
          -0.159182608127594,
          -0.04541220888495445,
          -0.06233600154519081,
          -0.09235222637653351,
          -0.23590992391109467,
          -0.03376290947198868,
          -0.18823860585689545,
          -0.2647360861301422,
          -0.03213227167725563,
          -0.022468658164143562,
          -0.021284926682710648,
          -0.24027106165885925,
          -0.07567334175109863,
          -0.08666564524173737,
          -0.04213061183691025,
          -0.22058632969856262,
          -0.06375669687986374,
          0.09464046359062195,
          0.030265236273407936,
          -0.08112160861492157,
          -0.204442098736763
         ],
         "yaxis": "y",
         "type": "scatter"
        },
        {
         "hovertemplate": "color=0<br>x=%{x}<br>y=%{y}<extra></extra>",
         "legendgroup": "0",
         "marker": {
          "color": "#EF553B",
          "symbol": "circle"
         },
         "mode": "markers",
         "name": "0",
         "orientation": "v",
         "showlegend": true,
         "x": [
          -0.6437351703643799,
          -0.6759350299835205,
          -0.624351441860199,
          -0.7147114276885986,
          -0.5243724584579468,
          -0.5284026265144348,
          -0.6678939461708069,
          -0.39134395122528076,
          -0.5613479614257812,
          -0.7620542645454407,
          -0.5975890159606934,
          -0.5649897456169128,
          -0.5133653283119202,
          -0.644950270652771,
          -0.5421649813652039,
          -0.5785028338432312,
          -0.5620107054710388,
          -0.6294074058532715,
          -0.6937971711158752,
          -0.6093752384185791,
          -0.6282843351364136,
          -0.5763448476791382,
          -0.5690649747848511,
          -0.6473881006240845,
          -0.5979233980178833,
          -0.6505714654922485,
          -0.5546262860298157,
          -0.6476114988327026,
          -0.603187084197998,
          -0.5907998085021973,
          -0.44388219714164734,
          -0.6323029398918152,
          -0.5518858432769775,
          -0.663943350315094,
          -0.7860971093177795,
          -0.6447586417198181,
          -0.5340732336044312,
          -0.5913773775100708,
          -0.6469144225120544,
          -0.4504750072956085,
          -0.5617557764053345,
          -0.6002429127693176,
          -0.5348516702651978,
          -0.5608130097389221,
          -0.5361757278442383,
          -0.6478123068809509,
          -0.6360342502593994,
          -0.7165707349777222,
          -0.6614291667938232,
          -0.5083591938018799,
          -0.6912460327148438,
          -0.4849076569080353,
          -0.6375197768211365,
          -0.5291001200675964,
          -0.7297230362892151,
          -0.6497759222984314,
          -0.5291063189506531,
          -0.7337676882743835,
          -0.64574134349823,
          -0.5600817203521729,
          -0.6935251951217651,
          -0.6157019138336182,
          -0.6319154500961304,
          -0.45758214592933655,
          -0.6179410815238953,
          -0.48038071393966675,
          -0.6879306435585022,
          -0.48381420969963074,
          -0.6332057118415833,
          -0.6705532670021057,
          -0.5691649317741394,
          -0.7006129026412964
         ],
         "xaxis": "x",
         "y": [
          -0.40735363960266113,
          -0.4691867232322693,
          -0.3455504775047302,
          -0.5055320262908936,
          -0.34115123748779297,
          -0.3230566084384918,
          -0.21287555992603302,
          -0.30625247955322266,
          -0.5405550003051758,
          -0.25845906138420105,
          -0.4927266538143158,
          -0.20561787486076355,
          -0.2994800806045532,
          -0.3179382085800171,
          -0.35959723591804504,
          -0.4100143611431122,
          -0.2908317744731903,
          -0.345504492521286,
          -0.22909878194332123,
          -0.3937031924724579,
          -0.40014874935150146,
          -0.5693493485450745,
          -0.3104683756828308,
          -0.35042011737823486,
          -0.39313146471977234,
          -0.4158417284488678,
          -0.40246760845184326,
          -0.31831246614456177,
          -0.2434472292661667,
          -0.3136258125305176,
          -0.19907212257385254,
          -0.3988208472728729,
          -0.30269235372543335,
          -0.3952322006225586,
          -0.31733614206314087,
          -0.39129936695098877,
          -0.22458896040916443,
          -0.2117999792098999,
          -0.2507002651691437,
          -0.1661452203989029,
          -0.2986551523208618,
          -0.4814259111881256,
          -0.4805455803871155,
          -0.18025676906108856,
          -0.4622300863265991,
          -0.3843369781970978,
          -0.34443148970603943,
          -0.3847752511501312,
          -0.3041801452636719,
          -0.31247058510780334,
          -0.2993038296699524,
          -0.3573574721813202,
          -0.34933534264564514,
          -0.22991421818733215,
          -0.28622299432754517,
          -0.39031824469566345,
          -0.25613072514533997,
          -0.257146954536438,
          -0.49762433767318726,
          -0.41771602630615234,
          -0.34593239426612854,
          -0.37990596890449524,
          -0.3816125690937042,
          -0.28487181663513184,
          -0.3561450242996216,
          -0.43487197160720825,
          -0.4743577241897583,
          -0.2466130405664444,
          -0.1934589296579361,
          -0.3604394793510437,
          -0.12926681339740753,
          -0.44057637453079224
         ],
         "yaxis": "y",
         "type": "scatter"
        },
        {
         "mode": "lines",
         "name": "sep plane",
         "x": [
          -0.9365047812461853,
          -0.9359591007232666,
          -0.9354133605957031,
          -0.9348676800727844,
          -0.934321939945221,
          -0.9337762594223022,
          -0.9332305192947388,
          -0.9326848387718201,
          -0.9321391582489014,
          -0.9315934777259827,
          -0.9315934777259827,
          -0.9310477375984192,
          -0.929956316947937,
          -0.9294106364250183,
          -0.9288648962974548,
          -0.9283192157745361,
          -0.9277734756469727,
          -0.927227795124054,
          -0.9266820549964905,
          -0.9261363744735718,
          -0.9255906343460083,
          -0.9250449538230896,
          -0.9244992136955261,
          -0.9234078526496887,
          -0.92286217212677,
          -0.9223164319992065,
          -0.9217707514762878,
          -0.9212250113487244,
          -0.9206793308258057,
          -0.9201335906982422,
          -0.9195879101753235,
          -0.91904217004776,
          -0.9184964895248413,
          -0.9179507493972778,
          -0.9174050688743591,
          -0.9168593287467957,
          -0.916313648223877,
          -0.9157679080963135,
          -0.9152222275733948,
          -0.9146765470504761,
          -0.9141308665275574,
          -0.9135851263999939,
          -0.9130394458770752,
          -0.9124937057495117,
          -0.911948025226593,
          -0.9114022850990295,
          -0.9108566045761108,
          -0.9103108644485474,
          -0.9097651839256287,
          -0.9092194437980652,
          -0.9086737632751465,
          -0.908128023147583,
          -0.9075823426246643,
          -0.9070366024971008,
          -0.9064909219741821,
          -0.9059452414512634,
          -0.9053995609283447,
          -0.9048538208007812,
          -0.9043081402778625,
          -0.9037624001502991,
          -0.9032167196273804,
          -0.9026709794998169,
          -0.9021252989768982,
          -0.9015795588493347,
          -0.901033878326416,
          -0.9004881381988525,
          -0.8999424576759338,
          -0.8993967175483704,
          -0.8988510370254517,
          -0.8983052968978882,
          -0.8977596163749695,
          -0.8972139358520508,
          -0.8966682553291321,
          -0.8961225152015686,
          -0.8955768346786499,
          -0.8950310945510864,
          -0.8944854140281677,
          -0.8939396739006042,
          -0.8933939933776855,
          -0.8928482532501221,
          -0.8923025727272034,
          -0.8917568325996399,
          -0.8912111520767212,
          -0.8906654119491577,
          -0.890119731426239,
          -0.8895739912986755,
          -0.8890283107757568,
          -0.8884826302528381,
          -0.8879369497299194,
          -0.887391209602356,
          -0.8868455290794373,
          -0.8862997889518738,
          -0.8857541084289551,
          -0.8852083683013916,
          -0.8846626877784729,
          -0.8841169476509094,
          -0.8835712671279907,
          -0.8830255270004272,
          -0.8824798464775085,
          -0.8819341063499451,
          -0.8813884258270264,
          -0.8808426856994629,
          -0.8802970051765442,
          -0.8797513246536255,
          -0.8792056441307068,
          -0.8786599040031433,
          -0.8781142234802246,
          -0.8775684833526611,
          -0.8770228028297424,
          -0.876477062702179,
          -0.8759313821792603,
          -0.8753856420516968,
          -0.8748399615287781,
          -0.8742942214012146,
          -0.8737485408782959,
          -0.8732028007507324,
          -0.8726571202278137,
          -0.8721113801002502,
          -0.8715656995773315,
          -0.8710200190544128,
          -0.8704743385314941,
          -0.8699285984039307,
          -0.869382917881012,
          -0.8688371777534485,
          -0.8682914972305298,
          -0.8677457571029663,
          -0.8672000765800476,
          -0.8666543364524841,
          -0.8661086559295654,
          -0.865562915802002,
          -0.8650172352790833,
          -0.8644714951515198,
          -0.8639258146286011,
          -0.8633800745010376,
          -0.8628343939781189,
          -0.8622887134552002,
          -0.8617430329322815,
          -0.861197292804718,
          -0.8606516122817993,
          -0.8601058721542358,
          -0.8595601916313171,
          -0.8590144515037537,
          -0.858468770980835,
          -0.8579230308532715,
          -0.8573773503303528,
          -0.8568316102027893,
          -0.8562859296798706,
          -0.8557401895523071,
          -0.8551945090293884,
          -0.854648768901825,
          -0.8541030883789062,
          -0.8535574078559875,
          -0.8530117273330688,
          -0.8524659872055054,
          -0.8519203066825867,
          -0.8513745665550232,
          -0.8508288860321045,
          -0.850283145904541,
          -0.8497374653816223,
          -0.8491917252540588,
          -0.8486460447311401,
          -0.8481003046035767,
          -0.847554624080658,
          -0.8464632034301758,
          -0.8464632034301758,
          -0.8459174633026123,
          -0.8453717827796936,
          -0.8448261022567749,
          -0.8442804217338562,
          -0.8437346816062927,
          -0.843189001083374,
          -0.8426432609558105,
          -0.8420975804328918,
          -0.8415518403053284,
          -0.8410061597824097,
          -0.8404604196548462,
          -0.8399147391319275,
          -0.839368999004364,
          -0.8388233184814453,
          -0.8382775783538818,
          -0.8377318978309631,
          -0.8371861577033997,
          -0.836640477180481,
          -0.8360947966575623,
          -0.8355491161346436,
          -0.8350033760070801,
          -0.8344576954841614,
          -0.8339119553565979,
          -0.8333662748336792,
          -0.8328205347061157,
          -0.832274854183197,
          -0.832274854183197,
          -0.8317291140556335,
          -0.8311834335327148,
          -0.8306376934051514,
          -0.8295462727546692,
          -0.8290005922317505,
          -0.828454852104187,
          -0.8279091715812683,
          -0.8279091715812683,
          -0.8273634910583496,
          -0.8268178105354309,
          -0.8262720704078674,
          -0.8257263898849487,
          -0.8251806497573853,
          -0.8246349692344666,
          -0.8240892291069031,
          -0.8235435485839844,
          -0.8229978084564209,
          -0.8224521279335022,
          -0.8219063878059387,
          -0.82136070728302,
          -0.8208149671554565,
          -0.8202692866325378,
          -0.8197235465049744,
          -0.8191778659820557,
          -0.818632185459137,
          -0.8180865049362183,
          -0.8175407648086548,
          -0.8169950842857361,
          -0.8164493441581726,
          -0.8159036636352539,
          -0.8153579235076904,
          -0.8148122429847717,
          -0.8142665028572083,
          -0.8137208223342896,
          -0.8131750822067261,
          -0.8126294016838074,
          -0.8120836615562439,
          -0.8115379810333252,
          -0.8109922409057617,
          -0.810446560382843,
          -0.8099008798599243,
          -0.8093551993370056,
          -0.8088094592094421,
          -0.8082637786865234,
          -0.80771803855896,
          -0.8071723580360413,
          -0.8066266179084778,
          -0.8060809373855591,
          -0.8055351972579956,
          -0.8049895167350769,
          -0.8044437766075134,
          -0.8038980960845947,
          -0.8033523559570312,
          -0.8028066754341125,
          -0.8022609353065491,
          -0.8017152547836304,
          -0.8011695742607117,
          -0.800623893737793,
          -0.8000781536102295,
          -0.7995324730873108,
          -0.7989867329597473,
          -0.7984410524368286,
          -0.7978953123092651,
          -0.7973496317863464,
          -0.796803891658783,
          -0.7962582111358643,
          -0.7957124710083008,
          -0.7951667904853821,
          -0.7946210503578186,
          -0.7940753698348999,
          -0.7935296297073364,
          -0.7929839491844177,
          -0.792438268661499,
          -0.7918925881385803,
          -0.7913468480110168,
          -0.7908011674880981,
          -0.7902554273605347,
          -0.789709746837616,
          -0.7891640067100525,
          -0.7886183261871338,
          -0.7880725860595703,
          -0.7875269055366516,
          -0.7869811654090881,
          -0.785889744758606,
          -0.7853440642356873,
          -0.7853440642356873,
          -0.7847983241081238,
          -0.7842526435852051,
          -0.7837069630622864,
          -0.7831612825393677,
          -0.7826155424118042,
          -0.7820698618888855,
          -0.781524121761322,
          -0.7809784412384033,
          -0.7804327011108398,
          -0.7793412804603577,
          -0.778795599937439,
          -0.7782498598098755,
          -0.7782498598098755,
          -0.7777041792869568,
          -0.7771584391593933,
          -0.7766127586364746,
          -0.7760670185089111,
          -0.7755213379859924,
          -0.7749756574630737,
          -0.774429976940155,
          -0.7738842368125916,
          -0.7727928161621094,
          -0.7722471356391907,
          -0.7717013955116272,
          -0.7711557149887085,
          -0.7711557149887085,
          -0.770609974861145,
          -0.7700642943382263,
          -0.7695185542106628,
          -0.7689728736877441,
          -0.7684271335601807,
          -0.767881453037262,
          -0.7673357129096985,
          -0.7662443518638611,
          -0.7656986713409424,
          -0.7651529312133789,
          -0.7646072506904602,
          -0.7640615105628967,
          -0.7640615105628967,
          -0.763515830039978,
          -0.7629700899124146,
          -0.7624244093894958,
          -0.7618786692619324,
          -0.7613329887390137,
          -0.7607872486114502,
          -0.759695827960968,
          -0.7591501474380493,
          -0.7586044073104858,
          -0.7580587267875671,
          -0.7575130462646484,
          -0.7569673657417297,
          -0.7569673657417297,
          -0.7564216256141663,
          -0.7558759450912476,
          -0.7553302049636841,
          -0.7547845244407654,
          -0.7542387843132019,
          -0.7531473636627197,
          -0.752601683139801,
          -0.7520559430122375,
          -0.7515102624893188,
          -0.7509645223617554,
          -0.7504188418388367,
          -0.7498731017112732,
          -0.7498731017112732,
          -0.7493274211883545,
          -0.7487817406654358,
          -0.7482360601425171,
          -0.7476903200149536,
          -0.7465988993644714,
          -0.7460532188415527,
          -0.7455074787139893,
          -0.7449617981910706,
          -0.7444160580635071,
          -0.7438703775405884,
          -0.7433246374130249,
          -0.7427789568901062,
          -0.7422332167625427,
          -0.741687536239624,
          -0.7411417961120605,
          -0.7405961155891418,
          -0.7400504350662231,
          -0.7395047545433044,
          -0.738959014415741,
          -0.7384133338928223,
          -0.7378675937652588,
          -0.7373219132423401,
          -0.7367761731147766,
          -0.7362304925918579,
          -0.7356847524642944,
          -0.7351390719413757,
          -0.7345933318138123,
          -0.7340476512908936,
          -0.7335019111633301,
          -0.7329562306404114,
          -0.7324104905128479,
          -0.7318648099899292,
          -0.7313191294670105,
          -0.7307734489440918,
          -0.7302277088165283,
          -0.7296820282936096,
          -0.7291362881660461,
          -0.7285906076431274,
          -0.728044867515564,
          -0.7274991869926453,
          -0.7269535064697266,
          -0.7264078259468079,
          -0.7258620858192444,
          -0.7253164052963257,
          -0.7247706651687622,
          -0.7242249846458435,
          -0.72367924451828,
          -0.7231335639953613,
          -0.7225878238677979,
          -0.7220421433448792,
          -0.7214964032173157,
          -0.720950722694397,
          -0.7204049825668335,
          -0.7198593020439148,
          -0.7193135619163513,
          -0.7187678813934326,
          -0.7182221412658691,
          -0.7176764607429504,
          -0.717130720615387,
          -0.7165850400924683,
          -0.7160392999649048,
          -0.7154936194419861,
          -0.7149478793144226,
          -0.7144021987915039,
          -0.7138565182685852,
          -0.7133108377456665,
          -0.712765097618103,
          -0.7122194170951843,
          -0.7116736769676208,
          -0.7111279964447021,
          -0.7105822563171387,
          -0.71003657579422,
          -0.7094908952713013,
          -0.7089452147483826,
          -0.7083994746208191,
          -0.7078537940979004,
          -0.7073080539703369,
          -0.7067623734474182,
          -0.7062166333198547,
          -0.705670952796936,
          -0.7051252126693726,
          -0.7045795321464539,
          -0.7040337920188904,
          -0.7034881114959717,
          -0.7029423713684082,
          -0.7023966908454895,
          -0.701850950717926,
          -0.7013052701950073,
          -0.7007595300674438,
          -0.7002138495445251,
          -0.6996681094169617,
          -0.699122428894043,
          -0.6985766887664795,
          -0.6980310082435608,
          -0.6974852681159973,
          -0.6969395875930786,
          -0.6963939070701599,
          -0.6958482265472412,
          -0.6953024864196777,
          -0.694756805896759,
          -0.6942110657691956,
          -0.6936653852462769,
          -0.6931196451187134,
          -0.6925739645957947,
          -0.692028284072876,
          -0.6914826035499573,
          -0.6909368634223938,
          -0.6903911828994751,
          -0.6898454427719116,
          -0.6892997622489929,
          -0.6887540221214294,
          -0.6882083415985107,
          -0.6876626014709473,
          -0.6871169209480286,
          -0.6865711808204651,
          -0.6860255002975464,
          -0.6854797601699829,
          -0.6849340796470642,
          -0.6843883395195007,
          -0.683842658996582,
          -0.6832969188690186,
          -0.6827512383460999,
          -0.6822054982185364,
          -0.6816598176956177,
          -0.6811140775680542,
          -0.6805683970451355,
          -0.680022656917572,
          -0.6794769763946533,
          -0.6789312958717346,
          -0.6783856153488159,
          -0.6778398752212524,
          -0.6772941946983337,
          -0.6767484545707703,
          -0.6762027740478516,
          -0.6756570339202881,
          -0.6751113533973694,
          -0.6745656728744507,
          -0.674019992351532,
          -0.6734742522239685,
          -0.6729285717010498,
          -0.6718371510505676,
          -0.6718371510505676,
          -0.6712914109230042,
          -0.6707457304000854,
          -0.670199990272522,
          -0.6696543097496033,
          -0.6691085696220398,
          -0.6685628890991211,
          -0.6680171489715576,
          -0.6674714684486389,
          -0.6669257283210754,
          -0.6663800477981567,
          -0.6652886271476746,
          -0.6647428870201111,
          -0.6647428870201111,
          -0.6641972064971924,
          -0.6636514663696289,
          -0.6631057858467102,
          -0.6625600457191467,
          -0.662014365196228,
          -0.6614686846733093,
          -0.6609230041503906,
          -0.6603772640228271,
          -0.6598315834999084,
          -0.6587401628494263,
          -0.6581944227218628,
          -0.6576487421989441,
          -0.6576487421989441,
          -0.6571030616760254,
          -0.6565573811531067,
          -0.6560116410255432,
          -0.6554659605026245,
          -0.654920220375061,
          -0.6543745398521423,
          -0.6538287997245789,
          -0.6532831192016602,
          -0.652191698551178,
          -0.6516459584236145,
          -0.6511002779006958,
          -0.6505545377731323,
          -0.6505545377731323,
          -0.6500088572502136,
          -0.6494631171226501,
          -0.6489174365997314,
          -0.648371696472168,
          -0.6478260159492493,
          -0.6472802758216858,
          -0.6467345952987671,
          -0.6461888551712036,
          -0.6456431746482849,
          -0.6450974345207214,
          -0.6445517539978027,
          -0.644006073474884,
          -0.6434603929519653,
          -0.6429146528244019,
          -0.6423689723014832,
          -0.6418232321739197,
          -0.641277551651001,
          -0.6407318115234375,
          -0.6401861310005188,
          -0.6396404504776001,
          -0.6390947699546814,
          -0.6385490298271179,
          -0.6380033493041992,
          -0.6374576091766357,
          -0.636911928653717,
          -0.6363661885261536,
          -0.6352747678756714,
          -0.6347290873527527,
          -0.6341833472251892,
          -0.6336376667022705,
          -0.633091926574707,
          -0.6325462460517883,
          -0.6320005059242249,
          -0.6320005059242249,
          -0.6314548254013062,
          -0.6309091448783875,
          -0.6303634643554688,
          -0.6298177242279053,
          -0.6287263035774231,
          -0.6281806230545044,
          -0.6276348829269409,
          -0.6270892024040222,
          -0.6265434622764587,
          -0.62599778175354,
          -0.6254520416259766,
          -0.6249063611030579,
          -0.6249063611030579,
          -0.6243606209754944,
          -0.6238149404525757,
          -0.6232692003250122,
          -0.6221778392791748,
          -0.6216321587562561,
          -0.6210864186286926,
          -0.6205407381057739,
          -0.6199949979782104,
          -0.6194493174552917,
          -0.6189035773277283,
          -0.6183578968048096,
          -0.6178121566772461,
          -0.6178121566772461,
          -0.6172664761543274,
          -0.6167207360267639,
          -0.6156293153762817,
          -0.615083634853363,
          -0.6145378947257996,
          -0.6139922142028809,
          -0.6134465336799622,
          -0.6129008531570435,
          -0.61235511302948,
          -0.6118094325065613,
          -0.6112636923789978,
          -0.6107180118560791,
          -0.6107180118560791,
          -0.6101722717285156,
          -0.6090808510780334,
          -0.6085351705551147,
          -0.6079894304275513,
          -0.6074437499046326,
          -0.6068980097770691,
          -0.6063523292541504,
          -0.6058065891265869,
          -0.6052609086036682,
          -0.6047152280807495,
          -0.6041695475578308,
          -0.6036238074302673,
          -0.6025323867797852,
          -0.6019867062568665,
          -0.601440966129303,
          -0.6008952856063843,
          -0.6003495454788208,
          -0.5998038649559021,
          -0.5992581248283386,
          -0.5987124443054199,
          -0.5981667041778564,
          -0.5976210236549377,
          -0.5970752835273743,
          -0.5965296030044556,
          -0.5959839224815369,
          -0.5954382419586182,
          -0.5948925018310547,
          -0.594346821308136,
          -0.5938010811805725,
          -0.5932554006576538,
          -0.5927096605300903,
          -0.5921639800071716,
          -0.5916182398796082,
          -0.5910725593566895,
          -0.590526819229126,
          -0.5899811387062073,
          -0.5894353985786438,
          -0.5888897180557251,
          -0.5883439779281616,
          -0.5877982974052429,
          -0.5872526168823242,
          -0.5867069363594055,
          -0.586161196231842,
          -0.5856155157089233,
          -0.5850697755813599,
          -0.5845240950584412,
          -0.5839783549308777,
          -0.583432674407959,
          -0.5828869342803955,
          -0.5823412537574768,
          -0.5817955136299133,
          -0.5812498331069946,
          -0.5807040929794312,
          -0.5801584124565125,
          -0.579612672328949,
          -0.5790669918060303,
          -0.5785213112831116,
          -0.5779756307601929,
          -0.5774298906326294,
          -0.5768842101097107,
          -0.5763384699821472,
          -0.5757927894592285,
          -0.575247049331665,
          -0.5747013688087463,
          -0.5741556286811829,
          -0.5736099481582642,
          -0.5730642080307007,
          -0.572518527507782,
          -0.5719727873802185,
          -0.5714271068572998,
          -0.5708813667297363,
          -0.5703356862068176,
          -0.5697900056838989,
          -0.5692443251609802,
          -0.5686985850334167,
          -0.568152904510498,
          -0.5676071643829346,
          -0.5670614838600159,
          -0.5665157437324524,
          -0.5659700632095337,
          -0.5654243230819702,
          -0.5648786425590515,
          -0.564332902431488,
          -0.5637872219085693,
          -0.5632414817810059,
          -0.5626958012580872,
          -0.5621500611305237,
          -0.561604380607605,
          -0.5610587000846863,
          -0.5605130195617676,
          -0.5599672794342041,
          -0.5594215989112854,
          -0.5588758587837219,
          -0.5583301782608032,
          -0.5577844381332397,
          -0.557238757610321,
          -0.5566930174827576,
          -0.5561473369598389,
          -0.5556015968322754,
          -0.5550559163093567,
          -0.5545101761817932,
          -0.5539644956588745,
          -0.553418755531311,
          -0.5528730750083923,
          -0.5523273944854736,
          -0.5517817139625549,
          -0.5512359738349915,
          -0.5506902933120728,
          -0.5501445531845093,
          -0.5495988726615906,
          -0.5490531325340271,
          -0.5485074520111084,
          -0.5474160313606262,
          -0.5468702912330627,
          -0.5468702912330627,
          -0.546324610710144,
          -0.5457788705825806,
          -0.5452331900596619,
          -0.5446874499320984,
          -0.5441417694091797,
          -0.543596088886261,
          -0.5430504083633423,
          -0.5425046682357788,
          -0.5419589877128601,
          -0.5408675670623779,
          -0.5403218269348145,
          -0.5397761464118958,
          -0.5397761464118958,
          -0.5392304062843323,
          -0.5386847257614136,
          -0.5381389856338501,
          -0.5375933051109314,
          -0.5370475649833679,
          -0.5365018844604492,
          -0.5359561443328857,
          -0.535410463809967,
          -0.5343191027641296,
          -0.5337733626365662,
          -0.5332276821136475,
          -0.532681941986084,
          -0.532681941986084,
          -0.5321362614631653,
          -0.5315905213356018,
          -0.5310448408126831,
          -0.5304991006851196,
          -0.5299534201622009,
          -0.5294076800346375,
          -0.5288619995117188,
          -0.5277705788612366,
          -0.5272248387336731,
          -0.5266791582107544,
          -0.5261334776878357,
          -0.525587797164917,
          -0.525587797164917,
          -0.5250420570373535,
          -0.5244963765144348,
          -0.5239506363868713,
          -0.5234049558639526,
          -0.5228592157363892,
          -0.5223135352134705,
          -0.5212221145629883,
          -0.5206763744354248,
          -0.5201306939125061,
          -0.5195849537849426,
          -0.5190392732620239,
          -0.5184935331344604,
          -0.5184935331344604,
          -0.5179478526115417,
          -0.517402172088623,
          -0.5168564915657043,
          -0.5163107514381409,
          -0.5157650709152222,
          -0.51467365026474,
          -0.5141279101371765,
          -0.5135822296142578,
          -0.5130364894866943,
          -0.5124908089637756,
          -0.5119450688362122,
          -0.5113993883132935,
          -0.5113993883132935,
          -0.51085364818573,
          -0.5103079676628113,
          -0.5097622275352478,
          -0.5092165470123291,
          -0.5081251859664917,
          -0.5075794458389282,
          -0.5070337653160095,
          -0.506488025188446,
          -0.5059423446655273,
          -0.5053966045379639,
          -0.5048509240150452,
          -0.5043051838874817,
          -0.5043051838874817,
          -0.503759503364563,
          -0.5032137632369995,
          -0.5026680827140808,
          -0.5015766620635986,
          -0.5010309219360352,
          -0.5004852414131165,
          -0.49993956089019775,
          -0.49939385056495667,
          -0.4988481402397156,
          -0.4983024299144745,
          -0.4977567493915558,
          -0.4972110390663147,
          -0.4966653287410736,
          -0.4961196184158325,
          -0.49557390809059143,
          -0.49502819776535034,
          -0.49448248744010925,
          -0.49393677711486816,
          -0.49339109659194946,
          -0.4928453862667084,
          -0.4922996759414673,
          -0.4917539656162262,
          -0.4912082552909851,
          -0.490662544965744,
          -0.49011683464050293,
          -0.48957112431526184,
          -0.48902544379234314,
          -0.48847973346710205,
          -0.48793402314186096,
          -0.4873883128166199,
          -0.4868426024913788,
          -0.4862968921661377,
          -0.4857511818408966,
          -0.4852054715156555,
          -0.4846597909927368,
          -0.4841140806674957,
          -0.48356837034225464,
          -0.48302266001701355,
          -0.48247694969177246,
          -0.48193123936653137,
          -0.4813855290412903,
          -0.4808398187160492,
          -0.4802941381931305,
          -0.4797484278678894,
          -0.4792027175426483,
          -0.4786570072174072,
          -0.47811129689216614,
          -0.47756558656692505,
          -0.47701987624168396,
          -0.47647416591644287,
          -0.47592848539352417,
          -0.4753827750682831,
          -0.474837064743042,
          -0.4742913544178009,
          -0.4737456440925598,
          -0.4731999337673187,
          -0.47265422344207764,
          -0.47210851311683655,
          -0.47156283259391785,
          -0.47101712226867676,
          -0.47047141194343567,
          -0.4699257016181946,
          -0.4693799912929535,
          -0.4688342809677124,
          -0.4682885706424713,
          -0.4677428603172302,
          -0.4671971797943115,
          -0.46665146946907043,
          -0.46610575914382935,
          -0.46556004881858826,
          -0.46501433849334717,
          -0.4644686281681061,
          -0.463922917842865,
          -0.4633772075176239,
          -0.4628315269947052,
          -0.4622858166694641,
          -0.461740106344223,
          -0.46119439601898193,
          -0.46064868569374084,
          -0.46010297536849976,
          -0.45955726504325867,
          -0.4590115547180176,
          -0.4584658741950989,
          -0.4579201638698578,
          -0.4573744535446167,
          -0.4568287432193756,
          -0.4562830328941345,
          -0.45573732256889343,
          -0.45519161224365234,
          -0.45464590191841125,
          -0.45410022139549255,
          -0.45355451107025146,
          -0.4530088007450104,
          -0.4524630904197693,
          -0.4519173800945282,
          -0.4513716697692871,
          -0.450825959444046,
          -0.45028024911880493,
          -0.44973456859588623,
          -0.44918885827064514,
          -0.44864314794540405,
          -0.44809743762016296,
          -0.4475517272949219,
          -0.4470060169696808,
          -0.4464603066444397,
          -0.4459145963191986,
          -0.4453689157962799,
          -0.4448232054710388,
          -0.44427749514579773,
          -0.44373178482055664,
          -0.44318607449531555,
          -0.44318607449531555,
          -0.44264036417007446,
          -0.4420946538448334,
          -0.4415489435195923,
          -0.4404575526714325,
          -0.4399118423461914,
          -0.4393661320209503,
          -0.43882042169570923,
          -0.43827471137046814,
          -0.43772900104522705,
          -0.43718329071998596,
          -0.43663761019706726,
          -0.43609189987182617,
          -0.4355461895465851,
          -0.435000479221344,
          -0.4344547688961029,
          -0.4339090585708618,
          -0.4333633482456207,
          -0.43281763792037964,
          -0.43227195739746094,
          -0.43172624707221985,
          -0.43118053674697876,
          -0.43063482642173767,
          -0.4300891160964966,
          -0.4295434057712555,
          -0.4289976954460144,
          -0.4284519851207733,
          -0.4279063045978546,
          -0.4273605942726135,
          -0.42681488394737244,
          -0.42626917362213135,
          -0.42572346329689026,
          -0.42517775297164917,
          -0.4246320426464081,
          -0.424086332321167,
          -0.4235406517982483,
          -0.4229949414730072,
          -0.4224492311477661,
          -0.421903520822525,
          -0.42135781049728394,
          -0.42081210017204285,
          -0.42026638984680176,
          -0.41972067952156067,
          -0.41917499899864197,
          -0.4186292886734009,
          -0.4180835783481598,
          -0.4175378680229187,
          -0.4169921576976776,
          -0.4164464473724365,
          -0.41590073704719543,
          -0.41535502672195435,
          -0.41480934619903564,
          -0.41426363587379456,
          -0.41371792554855347,
          -0.4131722152233124,
          -0.4126265048980713,
          -0.4120807945728302,
          -0.4115350842475891,
          -0.410989373922348,
          -0.4104436933994293,
          -0.40989798307418823,
          -0.40935227274894714,
          -0.40880656242370605,
          -0.4077151417732239,
          -0.4077151417732239,
          -0.4071694314479828,
          -0.4066237211227417,
          -0.406078040599823,
          -0.4055323302745819,
          -0.4049866199493408,
          -0.40444090962409973,
          -0.40389519929885864,
          -0.40334948897361755,
          -0.40280377864837646,
          -0.4022580683231354,
          -0.4011666774749756,
          -0.4006209671497345,
          -0.4006209671497345,
          -0.4000752568244934,
          -0.3995295464992523,
          -0.39898383617401123,
          -0.39843812584877014,
          -0.39789241552352905,
          -0.39680102467536926,
          -0.3962553143501282,
          -0.3957096040248871,
          -0.395163893699646,
          -0.3946181833744049,
          -0.3940724730491638,
          -0.39352676272392273,
          -0.39352676272392273,
          -0.39298108220100403,
          -0.39243537187576294,
          -0.39188966155052185,
          -0.39134395122528076,
          -0.4404575526714325,
          null,
          -0.6036238074302673,
          -0.6363661885261536,
          null,
          -0.9244992136955261
         ],
         "y": [
          -0.3380168676376343,
          -0.3380168676376343,
          -0.33733445405960083,
          -0.33733445405960083,
          -0.33665207028388977,
          -0.33665207028388977,
          -0.33665207028388977,
          -0.3359696567058563,
          -0.3359696567058563,
          -0.3359696567058563,
          -0.3346048593521118,
          -0.3346048593521118,
          -0.3346048593521118,
          -0.3346048593521118,
          -0.3346048593521118,
          -0.33392247557640076,
          -0.33392247557640076,
          -0.3332400619983673,
          -0.3332400619983673,
          -0.3332400619983673,
          -0.33255767822265625,
          -0.33255767822265625,
          -0.33255767822265625,
          -0.3318752646446228,
          -0.33119288086891174,
          -0.33119288086891174,
          -0.33119288086891174,
          -0.3305104672908783,
          -0.3305104672908783,
          -0.32982808351516724,
          -0.32982808351516724,
          -0.32982808351516724,
          -0.3291456699371338,
          -0.3291456699371338,
          -0.3291456699371338,
          -0.32846328616142273,
          -0.32846328616142273,
          -0.3277808725833893,
          -0.3277808725833893,
          -0.3277808725833893,
          -0.3270984888076782,
          -0.3270984888076782,
          -0.3264160752296448,
          -0.3264160752296448,
          -0.3264160752296448,
          -0.3257336914539337,
          -0.3257336914539337,
          -0.32505127787590027,
          -0.32505127787590027,
          -0.32505127787590027,
          -0.3243688941001892,
          -0.3243688941001892,
          -0.3243688941001892,
          -0.32368651032447815,
          -0.32368651032447815,
          -0.3230041265487671,
          -0.3230041265487671,
          -0.3230041265487671,
          -0.32232171297073364,
          -0.3216393291950226,
          -0.3216393291950226,
          -0.3216393291950226,
          -0.3216393291950226,
          -0.32095691561698914,
          -0.32095691561698914,
          -0.32095691561698914,
          -0.3202745318412781,
          -0.3202745318412781,
          -0.31959211826324463,
          -0.31959211826324463,
          -0.31959211826324463,
          -0.3182273507118225,
          -0.3182273507118225,
          -0.3182273507118225,
          -0.3182273507118225,
          -0.3182273507118225,
          -0.31754496693611145,
          -0.31754496693611145,
          -0.31754496693611145,
          -0.316862553358078,
          -0.316862553358078,
          -0.31618016958236694,
          -0.31618016958236694,
          -0.3154977560043335,
          -0.31481537222862244,
          -0.31481537222862244,
          -0.31481537222862244,
          -0.31481537222862244,
          -0.31481537222862244,
          -0.314132958650589,
          -0.314132958650589,
          -0.31345057487487793,
          -0.3127681612968445,
          -0.3127681612968445,
          -0.3120857775211334,
          -0.3120857775211334,
          -0.3120857775211334,
          -0.3114033639431,
          -0.3114033639431,
          -0.3114033639431,
          -0.3114033639431,
          -0.3114033639431,
          -0.3107209801673889,
          -0.31003856658935547,
          -0.31003856658935547,
          -0.3093561828136444,
          -0.3093561828136444,
          -0.30867376923561096,
          -0.30867376923561096,
          -0.30867376923561096,
          -0.3079913854598999,
          -0.3079913854598999,
          -0.3079913854598999,
          -0.3079913854598999,
          -0.3079913854598999,
          -0.3066266179084778,
          -0.3066266179084778,
          -0.3066266179084778,
          -0.30594420433044434,
          -0.30594420433044434,
          -0.3052618205547333,
          -0.3052618205547333,
          -0.3052618205547333,
          -0.30457940697669983,
          -0.30457940697669983,
          -0.30457940697669983,
          -0.30457940697669983,
          -0.30389702320098877,
          -0.3032146096229553,
          -0.3032146096229553,
          -0.3032146096229553,
          -0.30253222584724426,
          -0.30253222584724426,
          -0.3018498122692108,
          -0.3018498122692108,
          -0.3018498122692108,
          -0.30116742849349976,
          -0.30116742849349976,
          -0.30116742849349976,
          -0.3004850149154663,
          -0.3004850149154663,
          -0.29980263113975525,
          -0.29980263113975525,
          -0.29980263113975525,
          -0.2991202175617218,
          -0.2991202175617218,
          -0.29843783378601074,
          -0.29843783378601074,
          -0.29843783378601074,
          -0.2977554202079773,
          -0.2977554202079773,
          -0.29707303643226624,
          -0.29707303643226624,
          -0.29707303643226624,
          -0.2963906526565552,
          -0.2963906526565552,
          -0.2963906526565552,
          -0.2957082688808441,
          -0.2957082688808441,
          -0.29502585530281067,
          -0.29502585530281067,
          -0.29502585530281067,
          -0.2943434715270996,
          -0.29502585530281067,
          -0.29366105794906616,
          -0.29366105794906616,
          -0.29366105794906616,
          -0.2929786741733551,
          -0.2929786741733551,
          -0.2929786741733551,
          -0.29229626059532166,
          -0.29229626059532166,
          -0.29229626059532166,
          -0.29229626059532166,
          -0.29229626059532166,
          -0.29093146324157715,
          -0.29093146324157715,
          -0.29093146324157715,
          -0.29093146324157715,
          -0.29093146324157715,
          -0.2902490794658661,
          -0.2902490794658661,
          -0.2902490794658661,
          -0.2888842821121216,
          -0.2888842821121216,
          -0.2888842821121216,
          -0.2888842821121216,
          -0.2888842821121216,
          -0.28820186853408813,
          -0.28820186853408813,
          -0.28820186853408813,
          -0.28683707118034363,
          -0.28683707118034363,
          -0.28683707118034363,
          -0.28615468740463257,
          -0.28683707118034363,
          -0.28615468740463257,
          -0.28615468740463257,
          -0.28615468740463257,
          -0.28478991985321045,
          -0.28478991985321045,
          -0.28478991985321045,
          -0.284107506275177,
          -0.284107506275177,
          -0.284107506275177,
          -0.284107506275177,
          -0.284107506275177,
          -0.2827427089214325,
          -0.2827427089214325,
          -0.2827427089214325,
          -0.28206032514572144,
          -0.28206032514572144,
          -0.28206032514572144,
          -0.28206032514572144,
          -0.28206032514572144,
          -0.281377911567688,
          -0.281377911567688,
          -0.281377911567688,
          -0.28069552779197693,
          -0.2800131142139435,
          -0.2793307304382324,
          -0.2793307304382324,
          -0.2793307304382324,
          -0.278648316860199,
          -0.278648316860199,
          -0.278648316860199,
          -0.278648316860199,
          -0.278648316860199,
          -0.2779659330844879,
          -0.2779659330844879,
          -0.2779659330844879,
          -0.2766011357307434,
          -0.2766011357307434,
          -0.27591872215270996,
          -0.27591872215270996,
          -0.27591872215270996,
          -0.2752363383769989,
          -0.2752363383769989,
          -0.2752363383769989,
          -0.2752363383769989,
          -0.2752363383769989,
          -0.27455395460128784,
          -0.27455395460128784,
          -0.2738715708255768,
          -0.27318915724754333,
          -0.27318915724754333,
          -0.2725067734718323,
          -0.2725067734718323,
          -0.2725067734718323,
          -0.27182435989379883,
          -0.27182435989379883,
          -0.27182435989379883,
          -0.27182435989379883,
          -0.27182435989379883,
          -0.27114197611808777,
          -0.2704595625400543,
          -0.2704595625400543,
          -0.26977717876434326,
          -0.26977717876434326,
          -0.2690947651863098,
          -0.2690947651863098,
          -0.2690947651863098,
          -0.26841238141059875,
          -0.26841238141059875,
          -0.26841238141059875,
          -0.26841238141059875,
          -0.26841238141059875,
          -0.26704758405685425,
          -0.26704758405685425,
          -0.26704758405685425,
          -0.2663651704788208,
          -0.2663651704788208,
          -0.26568278670310974,
          -0.26568278670310974,
          -0.26568278670310974,
          -0.26568278670310974,
          -0.26568278670310974,
          -0.26431798934936523,
          -0.26431798934936523,
          -0.26431798934936523,
          -0.2636356055736542,
          -0.2636356055736542,
          -0.2636356055736542,
          -0.2629532217979431,
          -0.2629532217979431,
          -0.26227080821990967,
          -0.26227080821990967,
          -0.26227080821990967,
          -0.26227080821990967,
          -0.26227080821990967,
          -0.26090601086616516,
          -0.26090601086616516,
          -0.26090601086616516,
          -0.2602236270904541,
          -0.2602236270904541,
          -0.2602236270904541,
          -0.25954121351242065,
          -0.25954121351242065,
          -0.2588588297367096,
          -0.25954121351242065,
          -0.2588588297367096,
          -0.2588588297367096,
          -0.2588588297367096,
          -0.2574940323829651,
          -0.2574940323829651,
          -0.2574940323829651,
          -0.25681161880493164,
          -0.25681161880493164,
          -0.25681161880493164,
          -0.2561292350292206,
          -0.2561292350292206,
          -0.2561292350292206,
          -0.2561292350292206,
          -0.25544682145118713,
          -0.25544682145118713,
          -0.25544682145118713,
          -0.2540820240974426,
          -0.2540820240974426,
          -0.2540820240974426,
          -0.25339964032173157,
          -0.25339964032173157,
          -0.25339964032173157,
          -0.2527172565460205,
          -0.2527172565460205,
          -0.2527172565460205,
          -0.2527172565460205,
          -0.25203487277030945,
          -0.25203487277030945,
          -0.25203487277030945,
          -0.25067007541656494,
          -0.25067007541656494,
          -0.25067007541656494,
          -0.2499876767396927,
          -0.2499876767396927,
          -0.2499876767396927,
          -0.2499876767396927,
          -0.24930527806282043,
          -0.24930527806282043,
          -0.24930527806282043,
          -0.24862287938594818,
          -0.24862287938594818,
          -0.24862287938594818,
          -0.24725806713104248,
          -0.24725806713104248,
          -0.24725806713104248,
          -0.24657566845417023,
          -0.24657566845417023,
          -0.24657566845417023,
          -0.24657566845417023,
          -0.24589326977729797,
          -0.24589326977729797,
          -0.24589326977729797,
          -0.24521087110042572,
          -0.24521087110042572,
          -0.24521087110042572,
          -0.24452848732471466,
          -0.24452848732471466,
          -0.2438460886478424,
          -0.2438460886478424,
          -0.2438460886478424,
          -0.24316368997097015,
          -0.24316368997097015,
          -0.2424812912940979,
          -0.2424812912940979,
          -0.2424812912940979,
          -0.24179890751838684,
          -0.24179890751838684,
          -0.2411165088415146,
          -0.2411165088415146,
          -0.2411165088415146,
          -0.24043411016464233,
          -0.24043411016464233,
          -0.24043411016464233,
          -0.23975171148777008,
          -0.23975171148777008,
          -0.23906932771205902,
          -0.23906932771205902,
          -0.23906932771205902,
          -0.23838692903518677,
          -0.23770453035831451,
          -0.23770453035831451,
          -0.23770453035831451,
          -0.23770453035831451,
          -0.23702213168144226,
          -0.23702213168144226,
          -0.23702213168144226,
          -0.2363397181034088,
          -0.2363397181034088,
          -0.23565731942653656,
          -0.23565731942653656,
          -0.23565731942653656,
          -0.23429252207279205,
          -0.23429252207279205,
          -0.23429252207279205,
          -0.23429252207279205,
          -0.23429252207279205,
          -0.233610138297081,
          -0.233610138297081,
          -0.233610138297081,
          -0.23292773962020874,
          -0.23292773962020874,
          -0.2322453409433365,
          -0.2322453409433365,
          -0.23156294226646423,
          -0.23088055849075317,
          -0.23088055849075317,
          -0.23088055849075317,
          -0.23088055849075317,
          -0.23088055849075317,
          -0.23019815981388092,
          -0.23019815981388092,
          -0.23019815981388092,
          -0.22951576113700867,
          -0.22951576113700867,
          -0.2288333624601364,
          -0.22815097868442535,
          -0.22815097868442535,
          -0.2274685800075531,
          -0.2274685800075531,
          -0.2274685800075531,
          -0.2274685800075531,
          -0.2274685800075531,
          -0.22678618133068085,
          -0.22678618133068085,
          -0.22678618133068085,
          -0.2261037826538086,
          -0.2261037826538086,
          -0.2247389703989029,
          -0.2247389703989029,
          -0.2247389703989029,
          -0.22405657172203064,
          -0.22405657172203064,
          -0.22405657172203064,
          -0.22405657172203064,
          -0.22405657172203064,
          -0.2233741730451584,
          -0.2233741730451584,
          -0.2233741730451584,
          -0.22269178926944733,
          -0.22200939059257507,
          -0.22132699191570282,
          -0.22132699191570282,
          -0.22132699191570282,
          -0.22064459323883057,
          -0.22064459323883057,
          -0.22064459323883057,
          -0.22064459323883057,
          -0.21996217966079712,
          -0.21927978098392487,
          -0.21927978098392487,
          -0.21927978098392487,
          -0.2185973823070526,
          -0.2185973823070526,
          -0.21791498363018036,
          -0.21791498363018036,
          -0.21791498363018036,
          -0.2172325998544693,
          -0.2172325998544693,
          -0.2172325998544693,
          -0.21655020117759705,
          -0.21655020117759705,
          -0.2158678025007248,
          -0.2158678025007248,
          -0.2158678025007248,
          -0.21518540382385254,
          -0.21518540382385254,
          -0.21450302004814148,
          -0.21450302004814148,
          -0.21450302004814148,
          -0.21382062137126923,
          -0.21382062137126923,
          -0.21313822269439697,
          -0.21313822269439697,
          -0.21313822269439697,
          -0.21245582401752472,
          -0.21245582401752472,
          -0.21245582401752472,
          -0.21177344024181366,
          -0.21177344024181366,
          -0.2110910415649414,
          -0.2110910415649414,
          -0.2110910415649414,
          -0.21040864288806915,
          -0.2110910415649414,
          -0.2097262442111969,
          -0.2097262442111969,
          -0.2097262442111969,
          -0.20904383063316345,
          -0.20904383063316345,
          -0.20904383063316345,
          -0.2083614319562912,
          -0.2083614319562912,
          -0.20767903327941895,
          -0.20767903327941895,
          -0.20767903327941895,
          -0.20767903327941895,
          -0.20767903327941895,
          -0.20631425082683563,
          -0.20631425082683563,
          -0.20631425082683563,
          -0.20563185214996338,
          -0.20563185214996338,
          -0.20563185214996338,
          -0.20494945347309113,
          -0.20494945347309113,
          -0.20426705479621887,
          -0.20426705479621887,
          -0.20426705479621887,
          -0.20426705479621887,
          -0.20426705479621887,
          -0.20290227234363556,
          -0.20290227234363556,
          -0.20290227234363556,
          -0.2022198736667633,
          -0.2022198736667633,
          -0.2022198736667633,
          -0.20153747498989105,
          -0.20153747498989105,
          -0.20085509121418,
          -0.20153747498989105,
          -0.20085509121418,
          -0.20085509121418,
          -0.20085509121418,
          -0.19949029386043549,
          -0.19949029386043549,
          -0.19949029386043549,
          -0.19880789518356323,
          -0.19880789518356323,
          -0.19880789518356323,
          -0.19812548160552979,
          -0.19812548160552979,
          -0.19744308292865753,
          -0.19744308292865753,
          -0.19744308292865753,
          -0.19676068425178528,
          -0.19676068425178528,
          -0.19676068425178528,
          -0.19676068425178528,
          -0.19676068425178528,
          -0.19539590179920197,
          -0.19539590179920197,
          -0.19539590179920197,
          -0.1947135031223297,
          -0.1947135031223297,
          -0.1947135031223297,
          -0.1947135031223297,
          -0.1947135031223297,
          -0.19403110444545746,
          -0.19403110444545746,
          -0.19403110444545746,
          -0.1933487057685852,
          -0.19266632199287415,
          -0.19266632199287415,
          -0.19266632199287415,
          -0.1919839233160019,
          -0.1919839233160019,
          -0.1919839233160019,
          -0.19061912596225739,
          -0.19061912596225739,
          -0.19061912596225739,
          -0.18993674218654633,
          -0.18993674218654633,
          -0.18993674218654633,
          -0.18993674218654633,
          -0.18925434350967407,
          -0.18925434350967407,
          -0.18925434350967407,
          -0.18857194483280182,
          -0.18857194483280182,
          -0.18857194483280182,
          -0.18720713257789612,
          -0.18720713257789612,
          -0.18720713257789612,
          -0.18652473390102386,
          -0.18720713257789612,
          -0.18652473390102386,
          -0.18652473390102386,
          -0.1858423352241516,
          -0.1858423352241516,
          -0.1858423352241516,
          -0.18515993654727936,
          -0.18515993654727936,
          -0.18515993654727936,
          -0.18379515409469604,
          -0.18379515409469604,
          -0.18379515409469604,
          -0.18379515409469604,
          -0.18379515409469604,
          -0.1831127554178238,
          -0.1831127554178238,
          -0.18243035674095154,
          -0.18243035674095154,
          -0.18243035674095154,
          -0.18174797296524048,
          -0.18174797296524048,
          -0.18174797296524048,
          -0.18038317561149597,
          -0.18038317561149597,
          -0.18038317561149597,
          -0.18038317561149597,
          -0.18038317561149597,
          -0.17970077693462372,
          -0.17970077693462372,
          -0.17901839315891266,
          -0.17901839315891266,
          -0.17901839315891266,
          -0.1783359944820404,
          -0.1783359944820404,
          -0.1783359944820404,
          -0.17765359580516815,
          -0.1769711971282959,
          -0.1769711971282959,
          -0.1769711971282959,
          -0.17628878355026245,
          -0.17628878355026245,
          -0.1756063848733902,
          -0.1756063848733902,
          -0.1756063848733902,
          -0.17492398619651794,
          -0.17492398619651794,
          -0.17492398619651794,
          -0.1742415875196457,
          -0.1742415875196457,
          -0.17355920374393463,
          -0.17355920374393463,
          -0.17355920374393463,
          -0.17287680506706238,
          -0.17287680506706238,
          -0.17219440639019012,
          -0.17151200771331787,
          -0.17151200771331787,
          -0.1708296239376068,
          -0.1708296239376068,
          -0.1708296239376068,
          -0.1708296239376068,
          -0.1708296239376068,
          -0.17014722526073456,
          -0.17014722526073456,
          -0.17014722526073456,
          -0.1694648265838623,
          -0.1694648265838623,
          -0.168100044131279,
          -0.168100044131279,
          -0.168100044131279,
          -0.16741764545440674,
          -0.16741764545440674,
          -0.16741764545440674,
          -0.16741764545440674,
          -0.16741764545440674,
          -0.16673524677753448,
          -0.16673524677753448,
          -0.16673524677753448,
          -0.16605284810066223,
          -0.16537043452262878,
          -0.16468803584575653,
          -0.16468803584575653,
          -0.16468803584575653,
          -0.16400563716888428,
          -0.16400563716888428,
          -0.16400563716888428,
          -0.16400563716888428,
          -0.16400563716888428,
          -0.16332323849201202,
          -0.16332323849201202,
          -0.16332323849201202,
          -0.1619584560394287,
          -0.1619584560394287,
          -0.16127605736255646,
          -0.16127605736255646,
          -0.16127605736255646,
          -0.1605936586856842,
          -0.1605936586856842,
          -0.1605936586856842,
          -0.1605936586856842,
          -0.1605936586856842,
          -0.15991127490997314,
          -0.15991127490997314,
          -0.1592288762331009,
          -0.15854647755622864,
          -0.15854647755622864,
          -0.15786407887935638,
          -0.15786407887935638,
          -0.15786407887935638,
          -0.15718169510364532,
          -0.15718169510364532,
          -0.15718169510364532,
          -0.15718169510364532,
          -0.15718169510364532,
          -0.15649929642677307,
          -0.15581689774990082,
          -0.15581689774990082,
          -0.15513449907302856,
          -0.15513449907302856,
          -0.15445208549499512,
          -0.15445208549499512,
          -0.15445208549499512,
          -0.15376968681812286,
          -0.15376968681812286,
          -0.15376968681812286,
          -0.15376968681812286,
          -0.15376968681812286,
          -0.15240488946437836,
          -0.15240488946437836,
          -0.15240488946437836,
          -0.1517225056886673,
          -0.1517225056886673,
          -0.15104010701179504,
          -0.15104010701179504,
          -0.15104010701179504,
          -0.15104010701179504,
          -0.15104010701179504,
          -0.14967530965805054,
          -0.14967530965805054,
          -0.14967530965805054,
          -0.14899292588233948,
          -0.14899292588233948,
          -0.14899292588233948,
          -0.14831052720546722,
          -0.14831052720546722,
          -0.14762812852859497,
          -0.14762812852859497,
          -0.14762812852859497,
          -0.14762812852859497,
          -0.14762812852859497,
          -0.14626334607601166,
          -0.14626334607601166,
          -0.14626334607601166,
          -0.1455809473991394,
          -0.1455809473991394,
          -0.1455809473991394,
          -0.14489854872226715,
          -0.14489854872226715,
          -0.1442161500453949,
          -0.14489854872226715,
          -0.1442161500453949,
          -0.1442161500453949,
          -0.1442161500453949,
          -0.1428513377904892,
          -0.1428513377904892,
          -0.1428513377904892,
          -0.14216893911361694,
          -0.14216893911361694,
          -0.14216893911361694,
          -0.1414865404367447,
          -0.1414865404367447,
          -0.1414865404367447,
          -0.1414865404367447,
          -0.14080415666103363,
          -0.14080415666103363,
          -0.14080415666103363,
          -0.13943935930728912,
          -0.13943935930728912,
          -0.13943935930728912,
          -0.13875696063041687,
          -0.13875696063041687,
          -0.13875696063041687,
          -0.1380745768547058,
          -0.1380745768547058,
          -0.1380745768547058,
          -0.1380745768547058,
          -0.13739217817783356,
          -0.13739217817783356,
          -0.13739217817783356,
          -0.13602738082408905,
          -0.13602738082408905,
          -0.13602738082408905,
          -0.135344997048378,
          -0.135344997048378,
          -0.135344997048378,
          -0.135344997048378,
          -0.13466259837150574,
          -0.13466259837150574,
          -0.13466259837150574,
          -0.13398019969463348,
          -0.13398019969463348,
          -0.13398019969463348,
          -0.13261541724205017,
          -0.13261541724205017,
          -0.13261541724205017,
          -0.13193301856517792,
          -0.13193301856517792,
          -0.13193301856517792,
          -0.13193301856517792,
          -0.13125061988830566,
          -0.13125061988830566,
          -0.13125061988830566,
          -0.1305682212114334,
          -0.1305682212114334,
          -0.1305682212114334,
          -0.1292034387588501,
          -0.1292034387588501,
          -0.1292034387588501,
          -0.12852104008197784,
          -0.1292034387588501,
          -0.12852104008197784,
          -0.12852104008197784,
          -0.1278386414051056,
          -0.1278386414051056,
          -0.1278386414051056,
          -0.12715622782707214,
          -0.12715622782707214,
          -0.1264738291501999,
          -0.1264738291501999,
          -0.1264738291501999,
          -0.12579143047332764,
          -0.12579143047332764,
          -0.12579143047332764,
          -0.12510903179645538,
          -0.12510903179645538,
          -0.12442664057016373,
          -0.12442664057016373,
          -0.12442664057016373,
          -0.12374424189329147,
          -0.12306185066699982,
          -0.12306185066699982,
          -0.12306185066699982,
          -0.12306185066699982,
          -0.12237945199012756,
          -0.12237945199012756,
          -0.12237945199012756,
          -0.12169706076383591,
          -0.12169706076383591,
          -0.12101466208696365,
          -0.12101466208696365,
          -0.12101466208696365,
          -0.11964987218379974,
          -0.11964987218379974,
          -0.11964987218379974,
          -0.11964987218379974,
          -0.11964987218379974,
          -0.11896747350692749,
          -0.11896747350692749,
          -0.11896747350692749,
          -0.11828507483005524,
          -0.11828507483005524,
          -0.11760268360376358,
          -0.11760268360376358,
          -0.11692028492689133,
          -0.11623788625001907,
          -0.11623788625001907,
          -0.11623788625001907,
          -0.11623788625001907,
          -0.11623788625001907,
          -0.11555548757314682,
          -0.11555548757314682,
          -0.11555548757314682,
          -0.11487309634685516,
          -0.11487309634685516,
          -0.11419069766998291,
          -0.11350829899311066,
          -0.11350829899311066,
          -0.1128259003162384,
          -0.1128259003162384,
          -0.1128259003162384,
          -0.1128259003162384,
          -0.1128259003162384,
          -0.11214350908994675,
          -0.11214350908994675,
          -0.11214350908994675,
          -0.1114611104130745,
          -0.1114611104130745,
          -0.11009631305932999,
          -0.11009631305932999,
          -0.11009631305932999,
          -0.10941392183303833,
          -0.10941392183303833,
          -0.10941392183303833,
          -0.10941392183303833,
          -0.10941392183303833,
          -0.10873152315616608,
          -0.10873152315616608,
          -0.10873152315616608,
          -0.10804912447929382,
          -0.10736672580242157,
          -0.10668433457612991,
          -0.10668433457612991,
          -0.10668433457612991,
          -0.10600193589925766,
          -0.10600193589925766,
          -0.10600193589925766,
          -0.10600193589925766,
          -0.10600193589925766,
          -0.1053195372223854,
          -0.1053195372223854,
          -0.1053195372223854,
          -0.1039547473192215,
          -0.1039547473192215,
          -0.1039547473192215,
          -0.1039547473192215,
          -0.1039547473192215,
          -0.10327234864234924,
          -0.10327234864234924,
          -0.10327234864234924,
          -0.10258994996547699,
          -0.10258994996547699,
          -0.10190755128860474,
          -0.10190755128860474,
          -0.10190755128860474,
          -0.10122516006231308,
          -0.10122516006231308,
          -0.10122516006231308,
          -0.09986036270856857,
          -0.09986036270856857,
          -0.09986036270856857,
          -0.09917796403169632,
          -0.09849557280540466,
          -0.09849557280540466,
          -0.09849557280540466,
          -0.09781317412853241,
          -0.09781317412853241,
          -0.09781317412853241,
          -0.09713077545166016,
          -0.09713077545166016,
          -0.09713077545166016,
          -0.09713077545166016,
          -0.09713077545166016,
          -0.09576598554849625,
          -0.09576598554849625,
          -0.09576598554849625,
          -0.09508358687162399,
          -0.09508358687162399,
          -0.09440118819475174,
          -0.09440118819475174,
          -0.09440118819475174,
          -0.09371878951787949,
          -0.09371878951787949,
          -0.09371878951787949,
          -0.09371878951787949,
          -0.09303639829158783,
          -0.09235399961471558,
          -0.09235399961471558,
          -0.09235399961471558,
          -0.09167160093784332,
          -0.09167160093784332,
          -0.09098920226097107,
          -0.09098920226097107,
          -0.09098920226097107,
          -0.09030681103467941,
          -0.09030681103467941,
          -0.09030681103467941,
          -0.08962441235780716,
          -0.08962441235780716,
          -0.0889420136809349,
          -0.0889420136809349,
          -0.0889420136809349,
          -0.08825961500406265,
          -0.08825961500406265,
          -0.087577223777771,
          -0.087577223777771,
          -0.087577223777771,
          -0.08689482510089874,
          -0.08689482510089874,
          -0.08621242642402649,
          -0.08621242642402649,
          -0.08621242642402649,
          -0.08553002774715424,
          -0.08553002774715424,
          -0.08553002774715424,
          -0.08484763652086258,
          -0.08484763652086258,
          -0.08416523784399033,
          -0.08416523784399033,
          -0.08416523784399033,
          -0.08348283916711807,
          -0.08416523784399033,
          -0.08280044049024582,
          -0.08280044049024582,
          -0.08280044049024582,
          -0.08211804926395416,
          -0.08211804926395416,
          -0.08211804926395416,
          -0.08143565058708191,
          -0.08143565058708191,
          -0.08075325191020966,
          -0.08075325191020966,
          -0.08075325191020966,
          -0.08075325191020966,
          -0.08075325191020966,
          -0.07938846200704575,
          -0.07938846200704575,
          -0.07938846200704575,
          -0.07870606333017349,
          -0.07870606333017349,
          -0.07870606333017349,
          -0.07870606333017349,
          -0.07802366465330124,
          -0.07802366465330124,
          -0.07802366465330124,
          -0.07734126597642899,
          -0.07734126597642899,
          -0.07734126597642899,
          -0.07597647607326508,
          -0.07597647607326508,
          -0.07597647607326508,
          -0.07529407739639282,
          -0.07529407739639282,
          -0.09986036270856857,
          null,
          -0.1769711971282959,
          -0.19266632199287415,
          null,
          -0.33119288086891174
         ],
         "type": "scatter"
        }
       ],
       "layout": {
        "template": {
         "data": {
          "histogram2dcontour": [
           {
            "type": "histogram2dcontour",
            "colorbar": {
             "outlinewidth": 0,
             "ticks": ""
            },
            "colorscale": [
             [
              0.0,
              "#0d0887"
             ],
             [
              0.1111111111111111,
              "#46039f"
             ],
             [
              0.2222222222222222,
              "#7201a8"
             ],
             [
              0.3333333333333333,
              "#9c179e"
             ],
             [
              0.4444444444444444,
              "#bd3786"
             ],
             [
              0.5555555555555556,
              "#d8576b"
             ],
             [
              0.6666666666666666,
              "#ed7953"
             ],
             [
              0.7777777777777778,
              "#fb9f3a"
             ],
             [
              0.8888888888888888,
              "#fdca26"
             ],
             [
              1.0,
              "#f0f921"
             ]
            ]
           }
          ],
          "choropleth": [
           {
            "type": "choropleth",
            "colorbar": {
             "outlinewidth": 0,
             "ticks": ""
            }
           }
          ],
          "histogram2d": [
           {
            "type": "histogram2d",
            "colorbar": {
             "outlinewidth": 0,
             "ticks": ""
            },
            "colorscale": [
             [
              0.0,
              "#0d0887"
             ],
             [
              0.1111111111111111,
              "#46039f"
             ],
             [
              0.2222222222222222,
              "#7201a8"
             ],
             [
              0.3333333333333333,
              "#9c179e"
             ],
             [
              0.4444444444444444,
              "#bd3786"
             ],
             [
              0.5555555555555556,
              "#d8576b"
             ],
             [
              0.6666666666666666,
              "#ed7953"
             ],
             [
              0.7777777777777778,
              "#fb9f3a"
             ],
             [
              0.8888888888888888,
              "#fdca26"
             ],
             [
              1.0,
              "#f0f921"
             ]
            ]
           }
          ],
          "heatmap": [
           {
            "type": "heatmap",
            "colorbar": {
             "outlinewidth": 0,
             "ticks": ""
            },
            "colorscale": [
             [
              0.0,
              "#0d0887"
             ],
             [
              0.1111111111111111,
              "#46039f"
             ],
             [
              0.2222222222222222,
              "#7201a8"
             ],
             [
              0.3333333333333333,
              "#9c179e"
             ],
             [
              0.4444444444444444,
              "#bd3786"
             ],
             [
              0.5555555555555556,
              "#d8576b"
             ],
             [
              0.6666666666666666,
              "#ed7953"
             ],
             [
              0.7777777777777778,
              "#fb9f3a"
             ],
             [
              0.8888888888888888,
              "#fdca26"
             ],
             [
              1.0,
              "#f0f921"
             ]
            ]
           }
          ],
          "heatmapgl": [
           {
            "type": "heatmapgl",
            "colorbar": {
             "outlinewidth": 0,
             "ticks": ""
            },
            "colorscale": [
             [
              0.0,
              "#0d0887"
             ],
             [
              0.1111111111111111,
              "#46039f"
             ],
             [
              0.2222222222222222,
              "#7201a8"
             ],
             [
              0.3333333333333333,
              "#9c179e"
             ],
             [
              0.4444444444444444,
              "#bd3786"
             ],
             [
              0.5555555555555556,
              "#d8576b"
             ],
             [
              0.6666666666666666,
              "#ed7953"
             ],
             [
              0.7777777777777778,
              "#fb9f3a"
             ],
             [
              0.8888888888888888,
              "#fdca26"
             ],
             [
              1.0,
              "#f0f921"
             ]
            ]
           }
          ],
          "contourcarpet": [
           {
            "type": "contourcarpet",
            "colorbar": {
             "outlinewidth": 0,
             "ticks": ""
            }
           }
          ],
          "contour": [
           {
            "type": "contour",
            "colorbar": {
             "outlinewidth": 0,
             "ticks": ""
            },
            "colorscale": [
             [
              0.0,
              "#0d0887"
             ],
             [
              0.1111111111111111,
              "#46039f"
             ],
             [
              0.2222222222222222,
              "#7201a8"
             ],
             [
              0.3333333333333333,
              "#9c179e"
             ],
             [
              0.4444444444444444,
              "#bd3786"
             ],
             [
              0.5555555555555556,
              "#d8576b"
             ],
             [
              0.6666666666666666,
              "#ed7953"
             ],
             [
              0.7777777777777778,
              "#fb9f3a"
             ],
             [
              0.8888888888888888,
              "#fdca26"
             ],
             [
              1.0,
              "#f0f921"
             ]
            ]
           }
          ],
          "surface": [
           {
            "type": "surface",
            "colorbar": {
             "outlinewidth": 0,
             "ticks": ""
            },
            "colorscale": [
             [
              0.0,
              "#0d0887"
             ],
             [
              0.1111111111111111,
              "#46039f"
             ],
             [
              0.2222222222222222,
              "#7201a8"
             ],
             [
              0.3333333333333333,
              "#9c179e"
             ],
             [
              0.4444444444444444,
              "#bd3786"
             ],
             [
              0.5555555555555556,
              "#d8576b"
             ],
             [
              0.6666666666666666,
              "#ed7953"
             ],
             [
              0.7777777777777778,
              "#fb9f3a"
             ],
             [
              0.8888888888888888,
              "#fdca26"
             ],
             [
              1.0,
              "#f0f921"
             ]
            ]
           }
          ],
          "mesh3d": [
           {
            "type": "mesh3d",
            "colorbar": {
             "outlinewidth": 0,
             "ticks": ""
            }
           }
          ],
          "scatter": [
           {
            "marker": {
             "line": {
              "color": "#283442"
             }
            },
            "type": "scatter"
           }
          ],
          "parcoords": [
           {
            "type": "parcoords",
            "line": {
             "colorbar": {
              "outlinewidth": 0,
              "ticks": ""
             }
            }
           }
          ],
          "scatterpolargl": [
           {
            "type": "scatterpolargl",
            "marker": {
             "colorbar": {
              "outlinewidth": 0,
              "ticks": ""
             }
            }
           }
          ],
          "bar": [
           {
            "error_x": {
             "color": "#f2f5fa"
            },
            "error_y": {
             "color": "#f2f5fa"
            },
            "marker": {
             "line": {
              "color": "rgb(17,17,17)",
              "width": 0.5
             },
             "pattern": {
              "fillmode": "overlay",
              "size": 10,
              "solidity": 0.2
             }
            },
            "type": "bar"
           }
          ],
          "scattergeo": [
           {
            "type": "scattergeo",
            "marker": {
             "colorbar": {
              "outlinewidth": 0,
              "ticks": ""
             }
            }
           }
          ],
          "scatterpolar": [
           {
            "type": "scatterpolar",
            "marker": {
             "colorbar": {
              "outlinewidth": 0,
              "ticks": ""
             }
            }
           }
          ],
          "histogram": [
           {
            "marker": {
             "pattern": {
              "fillmode": "overlay",
              "size": 10,
              "solidity": 0.2
             }
            },
            "type": "histogram"
           }
          ],
          "scattergl": [
           {
            "marker": {
             "line": {
              "color": "#283442"
             }
            },
            "type": "scattergl"
           }
          ],
          "scatter3d": [
           {
            "type": "scatter3d",
            "line": {
             "colorbar": {
              "outlinewidth": 0,
              "ticks": ""
             }
            },
            "marker": {
             "colorbar": {
              "outlinewidth": 0,
              "ticks": ""
             }
            }
           }
          ],
          "scattermapbox": [
           {
            "type": "scattermapbox",
            "marker": {
             "colorbar": {
              "outlinewidth": 0,
              "ticks": ""
             }
            }
           }
          ],
          "scatterternary": [
           {
            "type": "scatterternary",
            "marker": {
             "colorbar": {
              "outlinewidth": 0,
              "ticks": ""
             }
            }
           }
          ],
          "scattercarpet": [
           {
            "type": "scattercarpet",
            "marker": {
             "colorbar": {
              "outlinewidth": 0,
              "ticks": ""
             }
            }
           }
          ],
          "carpet": [
           {
            "aaxis": {
             "endlinecolor": "#A2B1C6",
             "gridcolor": "#506784",
             "linecolor": "#506784",
             "minorgridcolor": "#506784",
             "startlinecolor": "#A2B1C6"
            },
            "baxis": {
             "endlinecolor": "#A2B1C6",
             "gridcolor": "#506784",
             "linecolor": "#506784",
             "minorgridcolor": "#506784",
             "startlinecolor": "#A2B1C6"
            },
            "type": "carpet"
           }
          ],
          "table": [
           {
            "cells": {
             "fill": {
              "color": "#506784"
             },
             "line": {
              "color": "rgb(17,17,17)"
             }
            },
            "header": {
             "fill": {
              "color": "#2a3f5f"
             },
             "line": {
              "color": "rgb(17,17,17)"
             }
            },
            "type": "table"
           }
          ],
          "barpolar": [
           {
            "marker": {
             "line": {
              "color": "rgb(17,17,17)",
              "width": 0.5
             },
             "pattern": {
              "fillmode": "overlay",
              "size": 10,
              "solidity": 0.2
             }
            },
            "type": "barpolar"
           }
          ],
          "pie": [
           {
            "automargin": true,
            "type": "pie"
           }
          ]
         },
         "layout": {
          "autotypenumbers": "strict",
          "colorway": [
           "#636efa",
           "#EF553B",
           "#00cc96",
           "#ab63fa",
           "#FFA15A",
           "#19d3f3",
           "#FF6692",
           "#B6E880",
           "#FF97FF",
           "#FECB52"
          ],
          "font": {
           "color": "#f2f5fa"
          },
          "hovermode": "closest",
          "hoverlabel": {
           "align": "left"
          },
          "paper_bgcolor": "rgb(17,17,17)",
          "plot_bgcolor": "rgb(17,17,17)",
          "polar": {
           "bgcolor": "rgb(17,17,17)",
           "angularaxis": {
            "gridcolor": "#506784",
            "linecolor": "#506784",
            "ticks": ""
           },
           "radialaxis": {
            "gridcolor": "#506784",
            "linecolor": "#506784",
            "ticks": ""
           }
          },
          "ternary": {
           "bgcolor": "rgb(17,17,17)",
           "aaxis": {
            "gridcolor": "#506784",
            "linecolor": "#506784",
            "ticks": ""
           },
           "baxis": {
            "gridcolor": "#506784",
            "linecolor": "#506784",
            "ticks": ""
           },
           "caxis": {
            "gridcolor": "#506784",
            "linecolor": "#506784",
            "ticks": ""
           }
          },
          "coloraxis": {
           "colorbar": {
            "outlinewidth": 0,
            "ticks": ""
           }
          },
          "colorscale": {
           "sequential": [
            [
             0.0,
             "#0d0887"
            ],
            [
             0.1111111111111111,
             "#46039f"
            ],
            [
             0.2222222222222222,
             "#7201a8"
            ],
            [
             0.3333333333333333,
             "#9c179e"
            ],
            [
             0.4444444444444444,
             "#bd3786"
            ],
            [
             0.5555555555555556,
             "#d8576b"
            ],
            [
             0.6666666666666666,
             "#ed7953"
            ],
            [
             0.7777777777777778,
             "#fb9f3a"
            ],
            [
             0.8888888888888888,
             "#fdca26"
            ],
            [
             1.0,
             "#f0f921"
            ]
           ],
           "sequentialminus": [
            [
             0.0,
             "#0d0887"
            ],
            [
             0.1111111111111111,
             "#46039f"
            ],
            [
             0.2222222222222222,
             "#7201a8"
            ],
            [
             0.3333333333333333,
             "#9c179e"
            ],
            [
             0.4444444444444444,
             "#bd3786"
            ],
            [
             0.5555555555555556,
             "#d8576b"
            ],
            [
             0.6666666666666666,
             "#ed7953"
            ],
            [
             0.7777777777777778,
             "#fb9f3a"
            ],
            [
             0.8888888888888888,
             "#fdca26"
            ],
            [
             1.0,
             "#f0f921"
            ]
           ],
           "diverging": [
            [
             0,
             "#8e0152"
            ],
            [
             0.1,
             "#c51b7d"
            ],
            [
             0.2,
             "#de77ae"
            ],
            [
             0.3,
             "#f1b6da"
            ],
            [
             0.4,
             "#fde0ef"
            ],
            [
             0.5,
             "#f7f7f7"
            ],
            [
             0.6,
             "#e6f5d0"
            ],
            [
             0.7,
             "#b8e186"
            ],
            [
             0.8,
             "#7fbc41"
            ],
            [
             0.9,
             "#4d9221"
            ],
            [
             1,
             "#276419"
            ]
           ]
          },
          "xaxis": {
           "gridcolor": "#283442",
           "linecolor": "#506784",
           "ticks": "",
           "title": {
            "standoff": 15
           },
           "zerolinecolor": "#283442",
           "automargin": true,
           "zerolinewidth": 2
          },
          "yaxis": {
           "gridcolor": "#283442",
           "linecolor": "#506784",
           "ticks": "",
           "title": {
            "standoff": 15
           },
           "zerolinecolor": "#283442",
           "automargin": true,
           "zerolinewidth": 2
          },
          "scene": {
           "xaxis": {
            "backgroundcolor": "rgb(17,17,17)",
            "gridcolor": "#506784",
            "linecolor": "#506784",
            "showbackground": true,
            "ticks": "",
            "zerolinecolor": "#C8D4E3",
            "gridwidth": 2
           },
           "yaxis": {
            "backgroundcolor": "rgb(17,17,17)",
            "gridcolor": "#506784",
            "linecolor": "#506784",
            "showbackground": true,
            "ticks": "",
            "zerolinecolor": "#C8D4E3",
            "gridwidth": 2
           },
           "zaxis": {
            "backgroundcolor": "rgb(17,17,17)",
            "gridcolor": "#506784",
            "linecolor": "#506784",
            "showbackground": true,
            "ticks": "",
            "zerolinecolor": "#C8D4E3",
            "gridwidth": 2
           }
          },
          "shapedefaults": {
           "line": {
            "color": "#f2f5fa"
           }
          },
          "annotationdefaults": {
           "arrowcolor": "#f2f5fa",
           "arrowhead": 0,
           "arrowwidth": 1
          },
          "geo": {
           "bgcolor": "rgb(17,17,17)",
           "landcolor": "rgb(17,17,17)",
           "subunitcolor": "#506784",
           "showland": true,
           "showlakes": true,
           "lakecolor": "rgb(17,17,17)"
          },
          "title": {
           "x": 0.05
          },
          "updatemenudefaults": {
           "bgcolor": "#506784",
           "borderwidth": 0
          },
          "sliderdefaults": {
           "bgcolor": "#C8D4E3",
           "borderwidth": 1,
           "bordercolor": "rgb(17,17,17)",
           "tickwidth": 0
          },
          "mapbox": {
           "style": "dark"
          }
         }
        },
        "xaxis": {
         "anchor": "y",
         "domain": [
          0.0,
          1.0
         ],
         "title": {
          "text": "x"
         }
        },
        "yaxis": {
         "anchor": "x",
         "domain": [
          0.0,
          1.0
         ],
         "title": {
          "text": "y"
         }
        },
        "legend": {
         "title": {
          "text": "color"
         },
         "tracegroupgap": 0
        },
        "title": {
         "text": "<b>Initial Distribution</b>"
        }
       },
       "config": {
        "plotlyServerURL": "https://plot.ly"
       }
      },
      "text/html": "<div>                            <div id=\"217f67a2-cc87-4fd5-b7e5-46f39a668569\" class=\"plotly-graph-div\" style=\"height:525px; width:100%;\"></div>            <script type=\"text/javascript\">                require([\"plotly\"], function(Plotly) {                    window.PLOTLYENV=window.PLOTLYENV || {};                                    if (document.getElementById(\"217f67a2-cc87-4fd5-b7e5-46f39a668569\")) {                    Plotly.newPlot(                        \"217f67a2-cc87-4fd5-b7e5-46f39a668569\",                        [{\"hovertemplate\":\"color=1<br>x=%{x}<br>y=%{y}<extra></extra>\",\"legendgroup\":\"1\",\"marker\":{\"color\":\"#636efa\",\"symbol\":\"circle\"},\"mode\":\"markers\",\"name\":\"1\",\"orientation\":\"v\",\"showlegend\":true,\"x\":[-0.8986607789993286,-0.5920597314834595,-0.7033746242523193,-0.7175384163856506,-0.7809221148490906,-0.8527880907058716,-0.8530773520469666,-0.7795161008834839,-0.7484573125839233,-0.7144044637680054,-0.8152055144309998,-0.7394782900810242,-0.6427595615386963,-0.9193427562713623,-0.7649366855621338,-0.748231828212738,-0.696199893951416,-0.8566700220108032,-0.7649169564247131,-0.859732985496521,-0.5803543329238892,-0.7432818412780762,-0.6617462038993835,-0.7147763967514038,-0.8212667107582092,-0.9365047812461853,-0.7515297532081604,-0.6546738743782043,-0.7303252816200256,-0.7624713182449341,-0.7658624053001404,-0.8133133053779602,-0.7287505269050598,-0.7511416077613831,-0.7161775231361389,-0.6599359512329102,-0.8702858686447144,-0.7391632795333862,-0.7229156494140625,-0.7611083388328552,-0.6275882124900818,-0.8146819472312927,-0.7726882696151733,-0.8858139514923096,-0.7697474956512451,-0.7800712585449219,-0.8391167521476746,-0.8649570941925049,-0.6398143172264099,-0.6077733635902405,-0.6980071067810059,-0.8090090155601501,-0.8327693939208984,-0.8365688920021057,-0.687258780002594,-0.8093703389167786,-0.570495069026947,-0.6585139036178589,-0.7383691072463989,-0.7077393531799316,-0.7921467423439026,-0.7292701601982117,-0.7335682511329651,-0.7003819942474365,-0.7188214063644409,-0.7841565608978271,-0.8318291902542114,-0.7556332945823669],\"xaxis\":\"x\",\"y\":[-0.1204424500465393,-0.04662793129682541,-0.08099193871021271,0.09118609875440598,-0.05484849587082863,-0.07721928507089615,-0.15098099410533905,-0.16619043052196503,-0.10406211763620377,-0.1117502748966217,-0.16375671327114105,0.04532548785209656,-0.2376517653465271,-0.05110478401184082,-0.1307305544614792,0.009271787479519844,-0.004349328577518463,-0.08041825145483017,-0.012237112037837505,-0.0627707988023758,-0.078219473361969,0.010514100082218647,-0.002031963784247637,-0.007485405076295137,-0.11512212455272675,-0.13228365778923035,-0.12941573560237885,-0.21757829189300537,-0.17939066886901855,-0.02456536516547203,-0.10709002614021301,0.11236502975225449,-0.14757145941257477,-0.014486447907984257,-0.04330280423164368,-0.17724622786045074,-0.03465034067630768,-0.11882392317056656,-0.12744766473770142,-0.08494116365909576,-0.04459083452820778,0.043554868549108505,-0.07347818464040756,-0.05706677958369255,-0.09203873574733734,-0.1491403430700302,0.023239683359861374,-0.159182608127594,-0.04541220888495445,-0.06233600154519081,-0.09235222637653351,-0.23590992391109467,-0.03376290947198868,-0.18823860585689545,-0.2647360861301422,-0.03213227167725563,-0.022468658164143562,-0.021284926682710648,-0.24027106165885925,-0.07567334175109863,-0.08666564524173737,-0.04213061183691025,-0.22058632969856262,-0.06375669687986374,0.09464046359062195,0.030265236273407936,-0.08112160861492157,-0.204442098736763],\"yaxis\":\"y\",\"type\":\"scatter\"},{\"hovertemplate\":\"color=0<br>x=%{x}<br>y=%{y}<extra></extra>\",\"legendgroup\":\"0\",\"marker\":{\"color\":\"#EF553B\",\"symbol\":\"circle\"},\"mode\":\"markers\",\"name\":\"0\",\"orientation\":\"v\",\"showlegend\":true,\"x\":[-0.6437351703643799,-0.6759350299835205,-0.624351441860199,-0.7147114276885986,-0.5243724584579468,-0.5284026265144348,-0.6678939461708069,-0.39134395122528076,-0.5613479614257812,-0.7620542645454407,-0.5975890159606934,-0.5649897456169128,-0.5133653283119202,-0.644950270652771,-0.5421649813652039,-0.5785028338432312,-0.5620107054710388,-0.6294074058532715,-0.6937971711158752,-0.6093752384185791,-0.6282843351364136,-0.5763448476791382,-0.5690649747848511,-0.6473881006240845,-0.5979233980178833,-0.6505714654922485,-0.5546262860298157,-0.6476114988327026,-0.603187084197998,-0.5907998085021973,-0.44388219714164734,-0.6323029398918152,-0.5518858432769775,-0.663943350315094,-0.7860971093177795,-0.6447586417198181,-0.5340732336044312,-0.5913773775100708,-0.6469144225120544,-0.4504750072956085,-0.5617557764053345,-0.6002429127693176,-0.5348516702651978,-0.5608130097389221,-0.5361757278442383,-0.6478123068809509,-0.6360342502593994,-0.7165707349777222,-0.6614291667938232,-0.5083591938018799,-0.6912460327148438,-0.4849076569080353,-0.6375197768211365,-0.5291001200675964,-0.7297230362892151,-0.6497759222984314,-0.5291063189506531,-0.7337676882743835,-0.64574134349823,-0.5600817203521729,-0.6935251951217651,-0.6157019138336182,-0.6319154500961304,-0.45758214592933655,-0.6179410815238953,-0.48038071393966675,-0.6879306435585022,-0.48381420969963074,-0.6332057118415833,-0.6705532670021057,-0.5691649317741394,-0.7006129026412964],\"xaxis\":\"x\",\"y\":[-0.40735363960266113,-0.4691867232322693,-0.3455504775047302,-0.5055320262908936,-0.34115123748779297,-0.3230566084384918,-0.21287555992603302,-0.30625247955322266,-0.5405550003051758,-0.25845906138420105,-0.4927266538143158,-0.20561787486076355,-0.2994800806045532,-0.3179382085800171,-0.35959723591804504,-0.4100143611431122,-0.2908317744731903,-0.345504492521286,-0.22909878194332123,-0.3937031924724579,-0.40014874935150146,-0.5693493485450745,-0.3104683756828308,-0.35042011737823486,-0.39313146471977234,-0.4158417284488678,-0.40246760845184326,-0.31831246614456177,-0.2434472292661667,-0.3136258125305176,-0.19907212257385254,-0.3988208472728729,-0.30269235372543335,-0.3952322006225586,-0.31733614206314087,-0.39129936695098877,-0.22458896040916443,-0.2117999792098999,-0.2507002651691437,-0.1661452203989029,-0.2986551523208618,-0.4814259111881256,-0.4805455803871155,-0.18025676906108856,-0.4622300863265991,-0.3843369781970978,-0.34443148970603943,-0.3847752511501312,-0.3041801452636719,-0.31247058510780334,-0.2993038296699524,-0.3573574721813202,-0.34933534264564514,-0.22991421818733215,-0.28622299432754517,-0.39031824469566345,-0.25613072514533997,-0.257146954536438,-0.49762433767318726,-0.41771602630615234,-0.34593239426612854,-0.37990596890449524,-0.3816125690937042,-0.28487181663513184,-0.3561450242996216,-0.43487197160720825,-0.4743577241897583,-0.2466130405664444,-0.1934589296579361,-0.3604394793510437,-0.12926681339740753,-0.44057637453079224],\"yaxis\":\"y\",\"type\":\"scatter\"},{\"mode\":\"lines\",\"name\":\"sep plane\",\"x\":[-0.9365047812461853,-0.9359591007232666,-0.9354133605957031,-0.9348676800727844,-0.934321939945221,-0.9337762594223022,-0.9332305192947388,-0.9326848387718201,-0.9321391582489014,-0.9315934777259827,-0.9315934777259827,-0.9310477375984192,-0.929956316947937,-0.9294106364250183,-0.9288648962974548,-0.9283192157745361,-0.9277734756469727,-0.927227795124054,-0.9266820549964905,-0.9261363744735718,-0.9255906343460083,-0.9250449538230896,-0.9244992136955261,-0.9234078526496887,-0.92286217212677,-0.9223164319992065,-0.9217707514762878,-0.9212250113487244,-0.9206793308258057,-0.9201335906982422,-0.9195879101753235,-0.91904217004776,-0.9184964895248413,-0.9179507493972778,-0.9174050688743591,-0.9168593287467957,-0.916313648223877,-0.9157679080963135,-0.9152222275733948,-0.9146765470504761,-0.9141308665275574,-0.9135851263999939,-0.9130394458770752,-0.9124937057495117,-0.911948025226593,-0.9114022850990295,-0.9108566045761108,-0.9103108644485474,-0.9097651839256287,-0.9092194437980652,-0.9086737632751465,-0.908128023147583,-0.9075823426246643,-0.9070366024971008,-0.9064909219741821,-0.9059452414512634,-0.9053995609283447,-0.9048538208007812,-0.9043081402778625,-0.9037624001502991,-0.9032167196273804,-0.9026709794998169,-0.9021252989768982,-0.9015795588493347,-0.901033878326416,-0.9004881381988525,-0.8999424576759338,-0.8993967175483704,-0.8988510370254517,-0.8983052968978882,-0.8977596163749695,-0.8972139358520508,-0.8966682553291321,-0.8961225152015686,-0.8955768346786499,-0.8950310945510864,-0.8944854140281677,-0.8939396739006042,-0.8933939933776855,-0.8928482532501221,-0.8923025727272034,-0.8917568325996399,-0.8912111520767212,-0.8906654119491577,-0.890119731426239,-0.8895739912986755,-0.8890283107757568,-0.8884826302528381,-0.8879369497299194,-0.887391209602356,-0.8868455290794373,-0.8862997889518738,-0.8857541084289551,-0.8852083683013916,-0.8846626877784729,-0.8841169476509094,-0.8835712671279907,-0.8830255270004272,-0.8824798464775085,-0.8819341063499451,-0.8813884258270264,-0.8808426856994629,-0.8802970051765442,-0.8797513246536255,-0.8792056441307068,-0.8786599040031433,-0.8781142234802246,-0.8775684833526611,-0.8770228028297424,-0.876477062702179,-0.8759313821792603,-0.8753856420516968,-0.8748399615287781,-0.8742942214012146,-0.8737485408782959,-0.8732028007507324,-0.8726571202278137,-0.8721113801002502,-0.8715656995773315,-0.8710200190544128,-0.8704743385314941,-0.8699285984039307,-0.869382917881012,-0.8688371777534485,-0.8682914972305298,-0.8677457571029663,-0.8672000765800476,-0.8666543364524841,-0.8661086559295654,-0.865562915802002,-0.8650172352790833,-0.8644714951515198,-0.8639258146286011,-0.8633800745010376,-0.8628343939781189,-0.8622887134552002,-0.8617430329322815,-0.861197292804718,-0.8606516122817993,-0.8601058721542358,-0.8595601916313171,-0.8590144515037537,-0.858468770980835,-0.8579230308532715,-0.8573773503303528,-0.8568316102027893,-0.8562859296798706,-0.8557401895523071,-0.8551945090293884,-0.854648768901825,-0.8541030883789062,-0.8535574078559875,-0.8530117273330688,-0.8524659872055054,-0.8519203066825867,-0.8513745665550232,-0.8508288860321045,-0.850283145904541,-0.8497374653816223,-0.8491917252540588,-0.8486460447311401,-0.8481003046035767,-0.847554624080658,-0.8464632034301758,-0.8464632034301758,-0.8459174633026123,-0.8453717827796936,-0.8448261022567749,-0.8442804217338562,-0.8437346816062927,-0.843189001083374,-0.8426432609558105,-0.8420975804328918,-0.8415518403053284,-0.8410061597824097,-0.8404604196548462,-0.8399147391319275,-0.839368999004364,-0.8388233184814453,-0.8382775783538818,-0.8377318978309631,-0.8371861577033997,-0.836640477180481,-0.8360947966575623,-0.8355491161346436,-0.8350033760070801,-0.8344576954841614,-0.8339119553565979,-0.8333662748336792,-0.8328205347061157,-0.832274854183197,-0.832274854183197,-0.8317291140556335,-0.8311834335327148,-0.8306376934051514,-0.8295462727546692,-0.8290005922317505,-0.828454852104187,-0.8279091715812683,-0.8279091715812683,-0.8273634910583496,-0.8268178105354309,-0.8262720704078674,-0.8257263898849487,-0.8251806497573853,-0.8246349692344666,-0.8240892291069031,-0.8235435485839844,-0.8229978084564209,-0.8224521279335022,-0.8219063878059387,-0.82136070728302,-0.8208149671554565,-0.8202692866325378,-0.8197235465049744,-0.8191778659820557,-0.818632185459137,-0.8180865049362183,-0.8175407648086548,-0.8169950842857361,-0.8164493441581726,-0.8159036636352539,-0.8153579235076904,-0.8148122429847717,-0.8142665028572083,-0.8137208223342896,-0.8131750822067261,-0.8126294016838074,-0.8120836615562439,-0.8115379810333252,-0.8109922409057617,-0.810446560382843,-0.8099008798599243,-0.8093551993370056,-0.8088094592094421,-0.8082637786865234,-0.80771803855896,-0.8071723580360413,-0.8066266179084778,-0.8060809373855591,-0.8055351972579956,-0.8049895167350769,-0.8044437766075134,-0.8038980960845947,-0.8033523559570312,-0.8028066754341125,-0.8022609353065491,-0.8017152547836304,-0.8011695742607117,-0.800623893737793,-0.8000781536102295,-0.7995324730873108,-0.7989867329597473,-0.7984410524368286,-0.7978953123092651,-0.7973496317863464,-0.796803891658783,-0.7962582111358643,-0.7957124710083008,-0.7951667904853821,-0.7946210503578186,-0.7940753698348999,-0.7935296297073364,-0.7929839491844177,-0.792438268661499,-0.7918925881385803,-0.7913468480110168,-0.7908011674880981,-0.7902554273605347,-0.789709746837616,-0.7891640067100525,-0.7886183261871338,-0.7880725860595703,-0.7875269055366516,-0.7869811654090881,-0.785889744758606,-0.7853440642356873,-0.7853440642356873,-0.7847983241081238,-0.7842526435852051,-0.7837069630622864,-0.7831612825393677,-0.7826155424118042,-0.7820698618888855,-0.781524121761322,-0.7809784412384033,-0.7804327011108398,-0.7793412804603577,-0.778795599937439,-0.7782498598098755,-0.7782498598098755,-0.7777041792869568,-0.7771584391593933,-0.7766127586364746,-0.7760670185089111,-0.7755213379859924,-0.7749756574630737,-0.774429976940155,-0.7738842368125916,-0.7727928161621094,-0.7722471356391907,-0.7717013955116272,-0.7711557149887085,-0.7711557149887085,-0.770609974861145,-0.7700642943382263,-0.7695185542106628,-0.7689728736877441,-0.7684271335601807,-0.767881453037262,-0.7673357129096985,-0.7662443518638611,-0.7656986713409424,-0.7651529312133789,-0.7646072506904602,-0.7640615105628967,-0.7640615105628967,-0.763515830039978,-0.7629700899124146,-0.7624244093894958,-0.7618786692619324,-0.7613329887390137,-0.7607872486114502,-0.759695827960968,-0.7591501474380493,-0.7586044073104858,-0.7580587267875671,-0.7575130462646484,-0.7569673657417297,-0.7569673657417297,-0.7564216256141663,-0.7558759450912476,-0.7553302049636841,-0.7547845244407654,-0.7542387843132019,-0.7531473636627197,-0.752601683139801,-0.7520559430122375,-0.7515102624893188,-0.7509645223617554,-0.7504188418388367,-0.7498731017112732,-0.7498731017112732,-0.7493274211883545,-0.7487817406654358,-0.7482360601425171,-0.7476903200149536,-0.7465988993644714,-0.7460532188415527,-0.7455074787139893,-0.7449617981910706,-0.7444160580635071,-0.7438703775405884,-0.7433246374130249,-0.7427789568901062,-0.7422332167625427,-0.741687536239624,-0.7411417961120605,-0.7405961155891418,-0.7400504350662231,-0.7395047545433044,-0.738959014415741,-0.7384133338928223,-0.7378675937652588,-0.7373219132423401,-0.7367761731147766,-0.7362304925918579,-0.7356847524642944,-0.7351390719413757,-0.7345933318138123,-0.7340476512908936,-0.7335019111633301,-0.7329562306404114,-0.7324104905128479,-0.7318648099899292,-0.7313191294670105,-0.7307734489440918,-0.7302277088165283,-0.7296820282936096,-0.7291362881660461,-0.7285906076431274,-0.728044867515564,-0.7274991869926453,-0.7269535064697266,-0.7264078259468079,-0.7258620858192444,-0.7253164052963257,-0.7247706651687622,-0.7242249846458435,-0.72367924451828,-0.7231335639953613,-0.7225878238677979,-0.7220421433448792,-0.7214964032173157,-0.720950722694397,-0.7204049825668335,-0.7198593020439148,-0.7193135619163513,-0.7187678813934326,-0.7182221412658691,-0.7176764607429504,-0.717130720615387,-0.7165850400924683,-0.7160392999649048,-0.7154936194419861,-0.7149478793144226,-0.7144021987915039,-0.7138565182685852,-0.7133108377456665,-0.712765097618103,-0.7122194170951843,-0.7116736769676208,-0.7111279964447021,-0.7105822563171387,-0.71003657579422,-0.7094908952713013,-0.7089452147483826,-0.7083994746208191,-0.7078537940979004,-0.7073080539703369,-0.7067623734474182,-0.7062166333198547,-0.705670952796936,-0.7051252126693726,-0.7045795321464539,-0.7040337920188904,-0.7034881114959717,-0.7029423713684082,-0.7023966908454895,-0.701850950717926,-0.7013052701950073,-0.7007595300674438,-0.7002138495445251,-0.6996681094169617,-0.699122428894043,-0.6985766887664795,-0.6980310082435608,-0.6974852681159973,-0.6969395875930786,-0.6963939070701599,-0.6958482265472412,-0.6953024864196777,-0.694756805896759,-0.6942110657691956,-0.6936653852462769,-0.6931196451187134,-0.6925739645957947,-0.692028284072876,-0.6914826035499573,-0.6909368634223938,-0.6903911828994751,-0.6898454427719116,-0.6892997622489929,-0.6887540221214294,-0.6882083415985107,-0.6876626014709473,-0.6871169209480286,-0.6865711808204651,-0.6860255002975464,-0.6854797601699829,-0.6849340796470642,-0.6843883395195007,-0.683842658996582,-0.6832969188690186,-0.6827512383460999,-0.6822054982185364,-0.6816598176956177,-0.6811140775680542,-0.6805683970451355,-0.680022656917572,-0.6794769763946533,-0.6789312958717346,-0.6783856153488159,-0.6778398752212524,-0.6772941946983337,-0.6767484545707703,-0.6762027740478516,-0.6756570339202881,-0.6751113533973694,-0.6745656728744507,-0.674019992351532,-0.6734742522239685,-0.6729285717010498,-0.6718371510505676,-0.6718371510505676,-0.6712914109230042,-0.6707457304000854,-0.670199990272522,-0.6696543097496033,-0.6691085696220398,-0.6685628890991211,-0.6680171489715576,-0.6674714684486389,-0.6669257283210754,-0.6663800477981567,-0.6652886271476746,-0.6647428870201111,-0.6647428870201111,-0.6641972064971924,-0.6636514663696289,-0.6631057858467102,-0.6625600457191467,-0.662014365196228,-0.6614686846733093,-0.6609230041503906,-0.6603772640228271,-0.6598315834999084,-0.6587401628494263,-0.6581944227218628,-0.6576487421989441,-0.6576487421989441,-0.6571030616760254,-0.6565573811531067,-0.6560116410255432,-0.6554659605026245,-0.654920220375061,-0.6543745398521423,-0.6538287997245789,-0.6532831192016602,-0.652191698551178,-0.6516459584236145,-0.6511002779006958,-0.6505545377731323,-0.6505545377731323,-0.6500088572502136,-0.6494631171226501,-0.6489174365997314,-0.648371696472168,-0.6478260159492493,-0.6472802758216858,-0.6467345952987671,-0.6461888551712036,-0.6456431746482849,-0.6450974345207214,-0.6445517539978027,-0.644006073474884,-0.6434603929519653,-0.6429146528244019,-0.6423689723014832,-0.6418232321739197,-0.641277551651001,-0.6407318115234375,-0.6401861310005188,-0.6396404504776001,-0.6390947699546814,-0.6385490298271179,-0.6380033493041992,-0.6374576091766357,-0.636911928653717,-0.6363661885261536,-0.6352747678756714,-0.6347290873527527,-0.6341833472251892,-0.6336376667022705,-0.633091926574707,-0.6325462460517883,-0.6320005059242249,-0.6320005059242249,-0.6314548254013062,-0.6309091448783875,-0.6303634643554688,-0.6298177242279053,-0.6287263035774231,-0.6281806230545044,-0.6276348829269409,-0.6270892024040222,-0.6265434622764587,-0.62599778175354,-0.6254520416259766,-0.6249063611030579,-0.6249063611030579,-0.6243606209754944,-0.6238149404525757,-0.6232692003250122,-0.6221778392791748,-0.6216321587562561,-0.6210864186286926,-0.6205407381057739,-0.6199949979782104,-0.6194493174552917,-0.6189035773277283,-0.6183578968048096,-0.6178121566772461,-0.6178121566772461,-0.6172664761543274,-0.6167207360267639,-0.6156293153762817,-0.615083634853363,-0.6145378947257996,-0.6139922142028809,-0.6134465336799622,-0.6129008531570435,-0.61235511302948,-0.6118094325065613,-0.6112636923789978,-0.6107180118560791,-0.6107180118560791,-0.6101722717285156,-0.6090808510780334,-0.6085351705551147,-0.6079894304275513,-0.6074437499046326,-0.6068980097770691,-0.6063523292541504,-0.6058065891265869,-0.6052609086036682,-0.6047152280807495,-0.6041695475578308,-0.6036238074302673,-0.6025323867797852,-0.6019867062568665,-0.601440966129303,-0.6008952856063843,-0.6003495454788208,-0.5998038649559021,-0.5992581248283386,-0.5987124443054199,-0.5981667041778564,-0.5976210236549377,-0.5970752835273743,-0.5965296030044556,-0.5959839224815369,-0.5954382419586182,-0.5948925018310547,-0.594346821308136,-0.5938010811805725,-0.5932554006576538,-0.5927096605300903,-0.5921639800071716,-0.5916182398796082,-0.5910725593566895,-0.590526819229126,-0.5899811387062073,-0.5894353985786438,-0.5888897180557251,-0.5883439779281616,-0.5877982974052429,-0.5872526168823242,-0.5867069363594055,-0.586161196231842,-0.5856155157089233,-0.5850697755813599,-0.5845240950584412,-0.5839783549308777,-0.583432674407959,-0.5828869342803955,-0.5823412537574768,-0.5817955136299133,-0.5812498331069946,-0.5807040929794312,-0.5801584124565125,-0.579612672328949,-0.5790669918060303,-0.5785213112831116,-0.5779756307601929,-0.5774298906326294,-0.5768842101097107,-0.5763384699821472,-0.5757927894592285,-0.575247049331665,-0.5747013688087463,-0.5741556286811829,-0.5736099481582642,-0.5730642080307007,-0.572518527507782,-0.5719727873802185,-0.5714271068572998,-0.5708813667297363,-0.5703356862068176,-0.5697900056838989,-0.5692443251609802,-0.5686985850334167,-0.568152904510498,-0.5676071643829346,-0.5670614838600159,-0.5665157437324524,-0.5659700632095337,-0.5654243230819702,-0.5648786425590515,-0.564332902431488,-0.5637872219085693,-0.5632414817810059,-0.5626958012580872,-0.5621500611305237,-0.561604380607605,-0.5610587000846863,-0.5605130195617676,-0.5599672794342041,-0.5594215989112854,-0.5588758587837219,-0.5583301782608032,-0.5577844381332397,-0.557238757610321,-0.5566930174827576,-0.5561473369598389,-0.5556015968322754,-0.5550559163093567,-0.5545101761817932,-0.5539644956588745,-0.553418755531311,-0.5528730750083923,-0.5523273944854736,-0.5517817139625549,-0.5512359738349915,-0.5506902933120728,-0.5501445531845093,-0.5495988726615906,-0.5490531325340271,-0.5485074520111084,-0.5474160313606262,-0.5468702912330627,-0.5468702912330627,-0.546324610710144,-0.5457788705825806,-0.5452331900596619,-0.5446874499320984,-0.5441417694091797,-0.543596088886261,-0.5430504083633423,-0.5425046682357788,-0.5419589877128601,-0.5408675670623779,-0.5403218269348145,-0.5397761464118958,-0.5397761464118958,-0.5392304062843323,-0.5386847257614136,-0.5381389856338501,-0.5375933051109314,-0.5370475649833679,-0.5365018844604492,-0.5359561443328857,-0.535410463809967,-0.5343191027641296,-0.5337733626365662,-0.5332276821136475,-0.532681941986084,-0.532681941986084,-0.5321362614631653,-0.5315905213356018,-0.5310448408126831,-0.5304991006851196,-0.5299534201622009,-0.5294076800346375,-0.5288619995117188,-0.5277705788612366,-0.5272248387336731,-0.5266791582107544,-0.5261334776878357,-0.525587797164917,-0.525587797164917,-0.5250420570373535,-0.5244963765144348,-0.5239506363868713,-0.5234049558639526,-0.5228592157363892,-0.5223135352134705,-0.5212221145629883,-0.5206763744354248,-0.5201306939125061,-0.5195849537849426,-0.5190392732620239,-0.5184935331344604,-0.5184935331344604,-0.5179478526115417,-0.517402172088623,-0.5168564915657043,-0.5163107514381409,-0.5157650709152222,-0.51467365026474,-0.5141279101371765,-0.5135822296142578,-0.5130364894866943,-0.5124908089637756,-0.5119450688362122,-0.5113993883132935,-0.5113993883132935,-0.51085364818573,-0.5103079676628113,-0.5097622275352478,-0.5092165470123291,-0.5081251859664917,-0.5075794458389282,-0.5070337653160095,-0.506488025188446,-0.5059423446655273,-0.5053966045379639,-0.5048509240150452,-0.5043051838874817,-0.5043051838874817,-0.503759503364563,-0.5032137632369995,-0.5026680827140808,-0.5015766620635986,-0.5010309219360352,-0.5004852414131165,-0.49993956089019775,-0.49939385056495667,-0.4988481402397156,-0.4983024299144745,-0.4977567493915558,-0.4972110390663147,-0.4966653287410736,-0.4961196184158325,-0.49557390809059143,-0.49502819776535034,-0.49448248744010925,-0.49393677711486816,-0.49339109659194946,-0.4928453862667084,-0.4922996759414673,-0.4917539656162262,-0.4912082552909851,-0.490662544965744,-0.49011683464050293,-0.48957112431526184,-0.48902544379234314,-0.48847973346710205,-0.48793402314186096,-0.4873883128166199,-0.4868426024913788,-0.4862968921661377,-0.4857511818408966,-0.4852054715156555,-0.4846597909927368,-0.4841140806674957,-0.48356837034225464,-0.48302266001701355,-0.48247694969177246,-0.48193123936653137,-0.4813855290412903,-0.4808398187160492,-0.4802941381931305,-0.4797484278678894,-0.4792027175426483,-0.4786570072174072,-0.47811129689216614,-0.47756558656692505,-0.47701987624168396,-0.47647416591644287,-0.47592848539352417,-0.4753827750682831,-0.474837064743042,-0.4742913544178009,-0.4737456440925598,-0.4731999337673187,-0.47265422344207764,-0.47210851311683655,-0.47156283259391785,-0.47101712226867676,-0.47047141194343567,-0.4699257016181946,-0.4693799912929535,-0.4688342809677124,-0.4682885706424713,-0.4677428603172302,-0.4671971797943115,-0.46665146946907043,-0.46610575914382935,-0.46556004881858826,-0.46501433849334717,-0.4644686281681061,-0.463922917842865,-0.4633772075176239,-0.4628315269947052,-0.4622858166694641,-0.461740106344223,-0.46119439601898193,-0.46064868569374084,-0.46010297536849976,-0.45955726504325867,-0.4590115547180176,-0.4584658741950989,-0.4579201638698578,-0.4573744535446167,-0.4568287432193756,-0.4562830328941345,-0.45573732256889343,-0.45519161224365234,-0.45464590191841125,-0.45410022139549255,-0.45355451107025146,-0.4530088007450104,-0.4524630904197693,-0.4519173800945282,-0.4513716697692871,-0.450825959444046,-0.45028024911880493,-0.44973456859588623,-0.44918885827064514,-0.44864314794540405,-0.44809743762016296,-0.4475517272949219,-0.4470060169696808,-0.4464603066444397,-0.4459145963191986,-0.4453689157962799,-0.4448232054710388,-0.44427749514579773,-0.44373178482055664,-0.44318607449531555,-0.44318607449531555,-0.44264036417007446,-0.4420946538448334,-0.4415489435195923,-0.4404575526714325,-0.4399118423461914,-0.4393661320209503,-0.43882042169570923,-0.43827471137046814,-0.43772900104522705,-0.43718329071998596,-0.43663761019706726,-0.43609189987182617,-0.4355461895465851,-0.435000479221344,-0.4344547688961029,-0.4339090585708618,-0.4333633482456207,-0.43281763792037964,-0.43227195739746094,-0.43172624707221985,-0.43118053674697876,-0.43063482642173767,-0.4300891160964966,-0.4295434057712555,-0.4289976954460144,-0.4284519851207733,-0.4279063045978546,-0.4273605942726135,-0.42681488394737244,-0.42626917362213135,-0.42572346329689026,-0.42517775297164917,-0.4246320426464081,-0.424086332321167,-0.4235406517982483,-0.4229949414730072,-0.4224492311477661,-0.421903520822525,-0.42135781049728394,-0.42081210017204285,-0.42026638984680176,-0.41972067952156067,-0.41917499899864197,-0.4186292886734009,-0.4180835783481598,-0.4175378680229187,-0.4169921576976776,-0.4164464473724365,-0.41590073704719543,-0.41535502672195435,-0.41480934619903564,-0.41426363587379456,-0.41371792554855347,-0.4131722152233124,-0.4126265048980713,-0.4120807945728302,-0.4115350842475891,-0.410989373922348,-0.4104436933994293,-0.40989798307418823,-0.40935227274894714,-0.40880656242370605,-0.4077151417732239,-0.4077151417732239,-0.4071694314479828,-0.4066237211227417,-0.406078040599823,-0.4055323302745819,-0.4049866199493408,-0.40444090962409973,-0.40389519929885864,-0.40334948897361755,-0.40280377864837646,-0.4022580683231354,-0.4011666774749756,-0.4006209671497345,-0.4006209671497345,-0.4000752568244934,-0.3995295464992523,-0.39898383617401123,-0.39843812584877014,-0.39789241552352905,-0.39680102467536926,-0.3962553143501282,-0.3957096040248871,-0.395163893699646,-0.3946181833744049,-0.3940724730491638,-0.39352676272392273,-0.39352676272392273,-0.39298108220100403,-0.39243537187576294,-0.39188966155052185,-0.39134395122528076,-0.4404575526714325,null,-0.6036238074302673,-0.6363661885261536,null,-0.9244992136955261],\"y\":[-0.3380168676376343,-0.3380168676376343,-0.33733445405960083,-0.33733445405960083,-0.33665207028388977,-0.33665207028388977,-0.33665207028388977,-0.3359696567058563,-0.3359696567058563,-0.3359696567058563,-0.3346048593521118,-0.3346048593521118,-0.3346048593521118,-0.3346048593521118,-0.3346048593521118,-0.33392247557640076,-0.33392247557640076,-0.3332400619983673,-0.3332400619983673,-0.3332400619983673,-0.33255767822265625,-0.33255767822265625,-0.33255767822265625,-0.3318752646446228,-0.33119288086891174,-0.33119288086891174,-0.33119288086891174,-0.3305104672908783,-0.3305104672908783,-0.32982808351516724,-0.32982808351516724,-0.32982808351516724,-0.3291456699371338,-0.3291456699371338,-0.3291456699371338,-0.32846328616142273,-0.32846328616142273,-0.3277808725833893,-0.3277808725833893,-0.3277808725833893,-0.3270984888076782,-0.3270984888076782,-0.3264160752296448,-0.3264160752296448,-0.3264160752296448,-0.3257336914539337,-0.3257336914539337,-0.32505127787590027,-0.32505127787590027,-0.32505127787590027,-0.3243688941001892,-0.3243688941001892,-0.3243688941001892,-0.32368651032447815,-0.32368651032447815,-0.3230041265487671,-0.3230041265487671,-0.3230041265487671,-0.32232171297073364,-0.3216393291950226,-0.3216393291950226,-0.3216393291950226,-0.3216393291950226,-0.32095691561698914,-0.32095691561698914,-0.32095691561698914,-0.3202745318412781,-0.3202745318412781,-0.31959211826324463,-0.31959211826324463,-0.31959211826324463,-0.3182273507118225,-0.3182273507118225,-0.3182273507118225,-0.3182273507118225,-0.3182273507118225,-0.31754496693611145,-0.31754496693611145,-0.31754496693611145,-0.316862553358078,-0.316862553358078,-0.31618016958236694,-0.31618016958236694,-0.3154977560043335,-0.31481537222862244,-0.31481537222862244,-0.31481537222862244,-0.31481537222862244,-0.31481537222862244,-0.314132958650589,-0.314132958650589,-0.31345057487487793,-0.3127681612968445,-0.3127681612968445,-0.3120857775211334,-0.3120857775211334,-0.3120857775211334,-0.3114033639431,-0.3114033639431,-0.3114033639431,-0.3114033639431,-0.3114033639431,-0.3107209801673889,-0.31003856658935547,-0.31003856658935547,-0.3093561828136444,-0.3093561828136444,-0.30867376923561096,-0.30867376923561096,-0.30867376923561096,-0.3079913854598999,-0.3079913854598999,-0.3079913854598999,-0.3079913854598999,-0.3079913854598999,-0.3066266179084778,-0.3066266179084778,-0.3066266179084778,-0.30594420433044434,-0.30594420433044434,-0.3052618205547333,-0.3052618205547333,-0.3052618205547333,-0.30457940697669983,-0.30457940697669983,-0.30457940697669983,-0.30457940697669983,-0.30389702320098877,-0.3032146096229553,-0.3032146096229553,-0.3032146096229553,-0.30253222584724426,-0.30253222584724426,-0.3018498122692108,-0.3018498122692108,-0.3018498122692108,-0.30116742849349976,-0.30116742849349976,-0.30116742849349976,-0.3004850149154663,-0.3004850149154663,-0.29980263113975525,-0.29980263113975525,-0.29980263113975525,-0.2991202175617218,-0.2991202175617218,-0.29843783378601074,-0.29843783378601074,-0.29843783378601074,-0.2977554202079773,-0.2977554202079773,-0.29707303643226624,-0.29707303643226624,-0.29707303643226624,-0.2963906526565552,-0.2963906526565552,-0.2963906526565552,-0.2957082688808441,-0.2957082688808441,-0.29502585530281067,-0.29502585530281067,-0.29502585530281067,-0.2943434715270996,-0.29502585530281067,-0.29366105794906616,-0.29366105794906616,-0.29366105794906616,-0.2929786741733551,-0.2929786741733551,-0.2929786741733551,-0.29229626059532166,-0.29229626059532166,-0.29229626059532166,-0.29229626059532166,-0.29229626059532166,-0.29093146324157715,-0.29093146324157715,-0.29093146324157715,-0.29093146324157715,-0.29093146324157715,-0.2902490794658661,-0.2902490794658661,-0.2902490794658661,-0.2888842821121216,-0.2888842821121216,-0.2888842821121216,-0.2888842821121216,-0.2888842821121216,-0.28820186853408813,-0.28820186853408813,-0.28820186853408813,-0.28683707118034363,-0.28683707118034363,-0.28683707118034363,-0.28615468740463257,-0.28683707118034363,-0.28615468740463257,-0.28615468740463257,-0.28615468740463257,-0.28478991985321045,-0.28478991985321045,-0.28478991985321045,-0.284107506275177,-0.284107506275177,-0.284107506275177,-0.284107506275177,-0.284107506275177,-0.2827427089214325,-0.2827427089214325,-0.2827427089214325,-0.28206032514572144,-0.28206032514572144,-0.28206032514572144,-0.28206032514572144,-0.28206032514572144,-0.281377911567688,-0.281377911567688,-0.281377911567688,-0.28069552779197693,-0.2800131142139435,-0.2793307304382324,-0.2793307304382324,-0.2793307304382324,-0.278648316860199,-0.278648316860199,-0.278648316860199,-0.278648316860199,-0.278648316860199,-0.2779659330844879,-0.2779659330844879,-0.2779659330844879,-0.2766011357307434,-0.2766011357307434,-0.27591872215270996,-0.27591872215270996,-0.27591872215270996,-0.2752363383769989,-0.2752363383769989,-0.2752363383769989,-0.2752363383769989,-0.2752363383769989,-0.27455395460128784,-0.27455395460128784,-0.2738715708255768,-0.27318915724754333,-0.27318915724754333,-0.2725067734718323,-0.2725067734718323,-0.2725067734718323,-0.27182435989379883,-0.27182435989379883,-0.27182435989379883,-0.27182435989379883,-0.27182435989379883,-0.27114197611808777,-0.2704595625400543,-0.2704595625400543,-0.26977717876434326,-0.26977717876434326,-0.2690947651863098,-0.2690947651863098,-0.2690947651863098,-0.26841238141059875,-0.26841238141059875,-0.26841238141059875,-0.26841238141059875,-0.26841238141059875,-0.26704758405685425,-0.26704758405685425,-0.26704758405685425,-0.2663651704788208,-0.2663651704788208,-0.26568278670310974,-0.26568278670310974,-0.26568278670310974,-0.26568278670310974,-0.26568278670310974,-0.26431798934936523,-0.26431798934936523,-0.26431798934936523,-0.2636356055736542,-0.2636356055736542,-0.2636356055736542,-0.2629532217979431,-0.2629532217979431,-0.26227080821990967,-0.26227080821990967,-0.26227080821990967,-0.26227080821990967,-0.26227080821990967,-0.26090601086616516,-0.26090601086616516,-0.26090601086616516,-0.2602236270904541,-0.2602236270904541,-0.2602236270904541,-0.25954121351242065,-0.25954121351242065,-0.2588588297367096,-0.25954121351242065,-0.2588588297367096,-0.2588588297367096,-0.2588588297367096,-0.2574940323829651,-0.2574940323829651,-0.2574940323829651,-0.25681161880493164,-0.25681161880493164,-0.25681161880493164,-0.2561292350292206,-0.2561292350292206,-0.2561292350292206,-0.2561292350292206,-0.25544682145118713,-0.25544682145118713,-0.25544682145118713,-0.2540820240974426,-0.2540820240974426,-0.2540820240974426,-0.25339964032173157,-0.25339964032173157,-0.25339964032173157,-0.2527172565460205,-0.2527172565460205,-0.2527172565460205,-0.2527172565460205,-0.25203487277030945,-0.25203487277030945,-0.25203487277030945,-0.25067007541656494,-0.25067007541656494,-0.25067007541656494,-0.2499876767396927,-0.2499876767396927,-0.2499876767396927,-0.2499876767396927,-0.24930527806282043,-0.24930527806282043,-0.24930527806282043,-0.24862287938594818,-0.24862287938594818,-0.24862287938594818,-0.24725806713104248,-0.24725806713104248,-0.24725806713104248,-0.24657566845417023,-0.24657566845417023,-0.24657566845417023,-0.24657566845417023,-0.24589326977729797,-0.24589326977729797,-0.24589326977729797,-0.24521087110042572,-0.24521087110042572,-0.24521087110042572,-0.24452848732471466,-0.24452848732471466,-0.2438460886478424,-0.2438460886478424,-0.2438460886478424,-0.24316368997097015,-0.24316368997097015,-0.2424812912940979,-0.2424812912940979,-0.2424812912940979,-0.24179890751838684,-0.24179890751838684,-0.2411165088415146,-0.2411165088415146,-0.2411165088415146,-0.24043411016464233,-0.24043411016464233,-0.24043411016464233,-0.23975171148777008,-0.23975171148777008,-0.23906932771205902,-0.23906932771205902,-0.23906932771205902,-0.23838692903518677,-0.23770453035831451,-0.23770453035831451,-0.23770453035831451,-0.23770453035831451,-0.23702213168144226,-0.23702213168144226,-0.23702213168144226,-0.2363397181034088,-0.2363397181034088,-0.23565731942653656,-0.23565731942653656,-0.23565731942653656,-0.23429252207279205,-0.23429252207279205,-0.23429252207279205,-0.23429252207279205,-0.23429252207279205,-0.233610138297081,-0.233610138297081,-0.233610138297081,-0.23292773962020874,-0.23292773962020874,-0.2322453409433365,-0.2322453409433365,-0.23156294226646423,-0.23088055849075317,-0.23088055849075317,-0.23088055849075317,-0.23088055849075317,-0.23088055849075317,-0.23019815981388092,-0.23019815981388092,-0.23019815981388092,-0.22951576113700867,-0.22951576113700867,-0.2288333624601364,-0.22815097868442535,-0.22815097868442535,-0.2274685800075531,-0.2274685800075531,-0.2274685800075531,-0.2274685800075531,-0.2274685800075531,-0.22678618133068085,-0.22678618133068085,-0.22678618133068085,-0.2261037826538086,-0.2261037826538086,-0.2247389703989029,-0.2247389703989029,-0.2247389703989029,-0.22405657172203064,-0.22405657172203064,-0.22405657172203064,-0.22405657172203064,-0.22405657172203064,-0.2233741730451584,-0.2233741730451584,-0.2233741730451584,-0.22269178926944733,-0.22200939059257507,-0.22132699191570282,-0.22132699191570282,-0.22132699191570282,-0.22064459323883057,-0.22064459323883057,-0.22064459323883057,-0.22064459323883057,-0.21996217966079712,-0.21927978098392487,-0.21927978098392487,-0.21927978098392487,-0.2185973823070526,-0.2185973823070526,-0.21791498363018036,-0.21791498363018036,-0.21791498363018036,-0.2172325998544693,-0.2172325998544693,-0.2172325998544693,-0.21655020117759705,-0.21655020117759705,-0.2158678025007248,-0.2158678025007248,-0.2158678025007248,-0.21518540382385254,-0.21518540382385254,-0.21450302004814148,-0.21450302004814148,-0.21450302004814148,-0.21382062137126923,-0.21382062137126923,-0.21313822269439697,-0.21313822269439697,-0.21313822269439697,-0.21245582401752472,-0.21245582401752472,-0.21245582401752472,-0.21177344024181366,-0.21177344024181366,-0.2110910415649414,-0.2110910415649414,-0.2110910415649414,-0.21040864288806915,-0.2110910415649414,-0.2097262442111969,-0.2097262442111969,-0.2097262442111969,-0.20904383063316345,-0.20904383063316345,-0.20904383063316345,-0.2083614319562912,-0.2083614319562912,-0.20767903327941895,-0.20767903327941895,-0.20767903327941895,-0.20767903327941895,-0.20767903327941895,-0.20631425082683563,-0.20631425082683563,-0.20631425082683563,-0.20563185214996338,-0.20563185214996338,-0.20563185214996338,-0.20494945347309113,-0.20494945347309113,-0.20426705479621887,-0.20426705479621887,-0.20426705479621887,-0.20426705479621887,-0.20426705479621887,-0.20290227234363556,-0.20290227234363556,-0.20290227234363556,-0.2022198736667633,-0.2022198736667633,-0.2022198736667633,-0.20153747498989105,-0.20153747498989105,-0.20085509121418,-0.20153747498989105,-0.20085509121418,-0.20085509121418,-0.20085509121418,-0.19949029386043549,-0.19949029386043549,-0.19949029386043549,-0.19880789518356323,-0.19880789518356323,-0.19880789518356323,-0.19812548160552979,-0.19812548160552979,-0.19744308292865753,-0.19744308292865753,-0.19744308292865753,-0.19676068425178528,-0.19676068425178528,-0.19676068425178528,-0.19676068425178528,-0.19676068425178528,-0.19539590179920197,-0.19539590179920197,-0.19539590179920197,-0.1947135031223297,-0.1947135031223297,-0.1947135031223297,-0.1947135031223297,-0.1947135031223297,-0.19403110444545746,-0.19403110444545746,-0.19403110444545746,-0.1933487057685852,-0.19266632199287415,-0.19266632199287415,-0.19266632199287415,-0.1919839233160019,-0.1919839233160019,-0.1919839233160019,-0.19061912596225739,-0.19061912596225739,-0.19061912596225739,-0.18993674218654633,-0.18993674218654633,-0.18993674218654633,-0.18993674218654633,-0.18925434350967407,-0.18925434350967407,-0.18925434350967407,-0.18857194483280182,-0.18857194483280182,-0.18857194483280182,-0.18720713257789612,-0.18720713257789612,-0.18720713257789612,-0.18652473390102386,-0.18720713257789612,-0.18652473390102386,-0.18652473390102386,-0.1858423352241516,-0.1858423352241516,-0.1858423352241516,-0.18515993654727936,-0.18515993654727936,-0.18515993654727936,-0.18379515409469604,-0.18379515409469604,-0.18379515409469604,-0.18379515409469604,-0.18379515409469604,-0.1831127554178238,-0.1831127554178238,-0.18243035674095154,-0.18243035674095154,-0.18243035674095154,-0.18174797296524048,-0.18174797296524048,-0.18174797296524048,-0.18038317561149597,-0.18038317561149597,-0.18038317561149597,-0.18038317561149597,-0.18038317561149597,-0.17970077693462372,-0.17970077693462372,-0.17901839315891266,-0.17901839315891266,-0.17901839315891266,-0.1783359944820404,-0.1783359944820404,-0.1783359944820404,-0.17765359580516815,-0.1769711971282959,-0.1769711971282959,-0.1769711971282959,-0.17628878355026245,-0.17628878355026245,-0.1756063848733902,-0.1756063848733902,-0.1756063848733902,-0.17492398619651794,-0.17492398619651794,-0.17492398619651794,-0.1742415875196457,-0.1742415875196457,-0.17355920374393463,-0.17355920374393463,-0.17355920374393463,-0.17287680506706238,-0.17287680506706238,-0.17219440639019012,-0.17151200771331787,-0.17151200771331787,-0.1708296239376068,-0.1708296239376068,-0.1708296239376068,-0.1708296239376068,-0.1708296239376068,-0.17014722526073456,-0.17014722526073456,-0.17014722526073456,-0.1694648265838623,-0.1694648265838623,-0.168100044131279,-0.168100044131279,-0.168100044131279,-0.16741764545440674,-0.16741764545440674,-0.16741764545440674,-0.16741764545440674,-0.16741764545440674,-0.16673524677753448,-0.16673524677753448,-0.16673524677753448,-0.16605284810066223,-0.16537043452262878,-0.16468803584575653,-0.16468803584575653,-0.16468803584575653,-0.16400563716888428,-0.16400563716888428,-0.16400563716888428,-0.16400563716888428,-0.16400563716888428,-0.16332323849201202,-0.16332323849201202,-0.16332323849201202,-0.1619584560394287,-0.1619584560394287,-0.16127605736255646,-0.16127605736255646,-0.16127605736255646,-0.1605936586856842,-0.1605936586856842,-0.1605936586856842,-0.1605936586856842,-0.1605936586856842,-0.15991127490997314,-0.15991127490997314,-0.1592288762331009,-0.15854647755622864,-0.15854647755622864,-0.15786407887935638,-0.15786407887935638,-0.15786407887935638,-0.15718169510364532,-0.15718169510364532,-0.15718169510364532,-0.15718169510364532,-0.15718169510364532,-0.15649929642677307,-0.15581689774990082,-0.15581689774990082,-0.15513449907302856,-0.15513449907302856,-0.15445208549499512,-0.15445208549499512,-0.15445208549499512,-0.15376968681812286,-0.15376968681812286,-0.15376968681812286,-0.15376968681812286,-0.15376968681812286,-0.15240488946437836,-0.15240488946437836,-0.15240488946437836,-0.1517225056886673,-0.1517225056886673,-0.15104010701179504,-0.15104010701179504,-0.15104010701179504,-0.15104010701179504,-0.15104010701179504,-0.14967530965805054,-0.14967530965805054,-0.14967530965805054,-0.14899292588233948,-0.14899292588233948,-0.14899292588233948,-0.14831052720546722,-0.14831052720546722,-0.14762812852859497,-0.14762812852859497,-0.14762812852859497,-0.14762812852859497,-0.14762812852859497,-0.14626334607601166,-0.14626334607601166,-0.14626334607601166,-0.1455809473991394,-0.1455809473991394,-0.1455809473991394,-0.14489854872226715,-0.14489854872226715,-0.1442161500453949,-0.14489854872226715,-0.1442161500453949,-0.1442161500453949,-0.1442161500453949,-0.1428513377904892,-0.1428513377904892,-0.1428513377904892,-0.14216893911361694,-0.14216893911361694,-0.14216893911361694,-0.1414865404367447,-0.1414865404367447,-0.1414865404367447,-0.1414865404367447,-0.14080415666103363,-0.14080415666103363,-0.14080415666103363,-0.13943935930728912,-0.13943935930728912,-0.13943935930728912,-0.13875696063041687,-0.13875696063041687,-0.13875696063041687,-0.1380745768547058,-0.1380745768547058,-0.1380745768547058,-0.1380745768547058,-0.13739217817783356,-0.13739217817783356,-0.13739217817783356,-0.13602738082408905,-0.13602738082408905,-0.13602738082408905,-0.135344997048378,-0.135344997048378,-0.135344997048378,-0.135344997048378,-0.13466259837150574,-0.13466259837150574,-0.13466259837150574,-0.13398019969463348,-0.13398019969463348,-0.13398019969463348,-0.13261541724205017,-0.13261541724205017,-0.13261541724205017,-0.13193301856517792,-0.13193301856517792,-0.13193301856517792,-0.13193301856517792,-0.13125061988830566,-0.13125061988830566,-0.13125061988830566,-0.1305682212114334,-0.1305682212114334,-0.1305682212114334,-0.1292034387588501,-0.1292034387588501,-0.1292034387588501,-0.12852104008197784,-0.1292034387588501,-0.12852104008197784,-0.12852104008197784,-0.1278386414051056,-0.1278386414051056,-0.1278386414051056,-0.12715622782707214,-0.12715622782707214,-0.1264738291501999,-0.1264738291501999,-0.1264738291501999,-0.12579143047332764,-0.12579143047332764,-0.12579143047332764,-0.12510903179645538,-0.12510903179645538,-0.12442664057016373,-0.12442664057016373,-0.12442664057016373,-0.12374424189329147,-0.12306185066699982,-0.12306185066699982,-0.12306185066699982,-0.12306185066699982,-0.12237945199012756,-0.12237945199012756,-0.12237945199012756,-0.12169706076383591,-0.12169706076383591,-0.12101466208696365,-0.12101466208696365,-0.12101466208696365,-0.11964987218379974,-0.11964987218379974,-0.11964987218379974,-0.11964987218379974,-0.11964987218379974,-0.11896747350692749,-0.11896747350692749,-0.11896747350692749,-0.11828507483005524,-0.11828507483005524,-0.11760268360376358,-0.11760268360376358,-0.11692028492689133,-0.11623788625001907,-0.11623788625001907,-0.11623788625001907,-0.11623788625001907,-0.11623788625001907,-0.11555548757314682,-0.11555548757314682,-0.11555548757314682,-0.11487309634685516,-0.11487309634685516,-0.11419069766998291,-0.11350829899311066,-0.11350829899311066,-0.1128259003162384,-0.1128259003162384,-0.1128259003162384,-0.1128259003162384,-0.1128259003162384,-0.11214350908994675,-0.11214350908994675,-0.11214350908994675,-0.1114611104130745,-0.1114611104130745,-0.11009631305932999,-0.11009631305932999,-0.11009631305932999,-0.10941392183303833,-0.10941392183303833,-0.10941392183303833,-0.10941392183303833,-0.10941392183303833,-0.10873152315616608,-0.10873152315616608,-0.10873152315616608,-0.10804912447929382,-0.10736672580242157,-0.10668433457612991,-0.10668433457612991,-0.10668433457612991,-0.10600193589925766,-0.10600193589925766,-0.10600193589925766,-0.10600193589925766,-0.10600193589925766,-0.1053195372223854,-0.1053195372223854,-0.1053195372223854,-0.1039547473192215,-0.1039547473192215,-0.1039547473192215,-0.1039547473192215,-0.1039547473192215,-0.10327234864234924,-0.10327234864234924,-0.10327234864234924,-0.10258994996547699,-0.10258994996547699,-0.10190755128860474,-0.10190755128860474,-0.10190755128860474,-0.10122516006231308,-0.10122516006231308,-0.10122516006231308,-0.09986036270856857,-0.09986036270856857,-0.09986036270856857,-0.09917796403169632,-0.09849557280540466,-0.09849557280540466,-0.09849557280540466,-0.09781317412853241,-0.09781317412853241,-0.09781317412853241,-0.09713077545166016,-0.09713077545166016,-0.09713077545166016,-0.09713077545166016,-0.09713077545166016,-0.09576598554849625,-0.09576598554849625,-0.09576598554849625,-0.09508358687162399,-0.09508358687162399,-0.09440118819475174,-0.09440118819475174,-0.09440118819475174,-0.09371878951787949,-0.09371878951787949,-0.09371878951787949,-0.09371878951787949,-0.09303639829158783,-0.09235399961471558,-0.09235399961471558,-0.09235399961471558,-0.09167160093784332,-0.09167160093784332,-0.09098920226097107,-0.09098920226097107,-0.09098920226097107,-0.09030681103467941,-0.09030681103467941,-0.09030681103467941,-0.08962441235780716,-0.08962441235780716,-0.0889420136809349,-0.0889420136809349,-0.0889420136809349,-0.08825961500406265,-0.08825961500406265,-0.087577223777771,-0.087577223777771,-0.087577223777771,-0.08689482510089874,-0.08689482510089874,-0.08621242642402649,-0.08621242642402649,-0.08621242642402649,-0.08553002774715424,-0.08553002774715424,-0.08553002774715424,-0.08484763652086258,-0.08484763652086258,-0.08416523784399033,-0.08416523784399033,-0.08416523784399033,-0.08348283916711807,-0.08416523784399033,-0.08280044049024582,-0.08280044049024582,-0.08280044049024582,-0.08211804926395416,-0.08211804926395416,-0.08211804926395416,-0.08143565058708191,-0.08143565058708191,-0.08075325191020966,-0.08075325191020966,-0.08075325191020966,-0.08075325191020966,-0.08075325191020966,-0.07938846200704575,-0.07938846200704575,-0.07938846200704575,-0.07870606333017349,-0.07870606333017349,-0.07870606333017349,-0.07870606333017349,-0.07802366465330124,-0.07802366465330124,-0.07802366465330124,-0.07734126597642899,-0.07734126597642899,-0.07734126597642899,-0.07597647607326508,-0.07597647607326508,-0.07597647607326508,-0.07529407739639282,-0.07529407739639282,-0.09986036270856857,null,-0.1769711971282959,-0.19266632199287415,null,-0.33119288086891174],\"type\":\"scatter\"}],                        {\"template\":{\"data\":{\"histogram2dcontour\":[{\"type\":\"histogram2dcontour\",\"colorbar\":{\"outlinewidth\":0,\"ticks\":\"\"},\"colorscale\":[[0.0,\"#0d0887\"],[0.1111111111111111,\"#46039f\"],[0.2222222222222222,\"#7201a8\"],[0.3333333333333333,\"#9c179e\"],[0.4444444444444444,\"#bd3786\"],[0.5555555555555556,\"#d8576b\"],[0.6666666666666666,\"#ed7953\"],[0.7777777777777778,\"#fb9f3a\"],[0.8888888888888888,\"#fdca26\"],[1.0,\"#f0f921\"]]}],\"choropleth\":[{\"type\":\"choropleth\",\"colorbar\":{\"outlinewidth\":0,\"ticks\":\"\"}}],\"histogram2d\":[{\"type\":\"histogram2d\",\"colorbar\":{\"outlinewidth\":0,\"ticks\":\"\"},\"colorscale\":[[0.0,\"#0d0887\"],[0.1111111111111111,\"#46039f\"],[0.2222222222222222,\"#7201a8\"],[0.3333333333333333,\"#9c179e\"],[0.4444444444444444,\"#bd3786\"],[0.5555555555555556,\"#d8576b\"],[0.6666666666666666,\"#ed7953\"],[0.7777777777777778,\"#fb9f3a\"],[0.8888888888888888,\"#fdca26\"],[1.0,\"#f0f921\"]]}],\"heatmap\":[{\"type\":\"heatmap\",\"colorbar\":{\"outlinewidth\":0,\"ticks\":\"\"},\"colorscale\":[[0.0,\"#0d0887\"],[0.1111111111111111,\"#46039f\"],[0.2222222222222222,\"#7201a8\"],[0.3333333333333333,\"#9c179e\"],[0.4444444444444444,\"#bd3786\"],[0.5555555555555556,\"#d8576b\"],[0.6666666666666666,\"#ed7953\"],[0.7777777777777778,\"#fb9f3a\"],[0.8888888888888888,\"#fdca26\"],[1.0,\"#f0f921\"]]}],\"heatmapgl\":[{\"type\":\"heatmapgl\",\"colorbar\":{\"outlinewidth\":0,\"ticks\":\"\"},\"colorscale\":[[0.0,\"#0d0887\"],[0.1111111111111111,\"#46039f\"],[0.2222222222222222,\"#7201a8\"],[0.3333333333333333,\"#9c179e\"],[0.4444444444444444,\"#bd3786\"],[0.5555555555555556,\"#d8576b\"],[0.6666666666666666,\"#ed7953\"],[0.7777777777777778,\"#fb9f3a\"],[0.8888888888888888,\"#fdca26\"],[1.0,\"#f0f921\"]]}],\"contourcarpet\":[{\"type\":\"contourcarpet\",\"colorbar\":{\"outlinewidth\":0,\"ticks\":\"\"}}],\"contour\":[{\"type\":\"contour\",\"colorbar\":{\"outlinewidth\":0,\"ticks\":\"\"},\"colorscale\":[[0.0,\"#0d0887\"],[0.1111111111111111,\"#46039f\"],[0.2222222222222222,\"#7201a8\"],[0.3333333333333333,\"#9c179e\"],[0.4444444444444444,\"#bd3786\"],[0.5555555555555556,\"#d8576b\"],[0.6666666666666666,\"#ed7953\"],[0.7777777777777778,\"#fb9f3a\"],[0.8888888888888888,\"#fdca26\"],[1.0,\"#f0f921\"]]}],\"surface\":[{\"type\":\"surface\",\"colorbar\":{\"outlinewidth\":0,\"ticks\":\"\"},\"colorscale\":[[0.0,\"#0d0887\"],[0.1111111111111111,\"#46039f\"],[0.2222222222222222,\"#7201a8\"],[0.3333333333333333,\"#9c179e\"],[0.4444444444444444,\"#bd3786\"],[0.5555555555555556,\"#d8576b\"],[0.6666666666666666,\"#ed7953\"],[0.7777777777777778,\"#fb9f3a\"],[0.8888888888888888,\"#fdca26\"],[1.0,\"#f0f921\"]]}],\"mesh3d\":[{\"type\":\"mesh3d\",\"colorbar\":{\"outlinewidth\":0,\"ticks\":\"\"}}],\"scatter\":[{\"marker\":{\"line\":{\"color\":\"#283442\"}},\"type\":\"scatter\"}],\"parcoords\":[{\"type\":\"parcoords\",\"line\":{\"colorbar\":{\"outlinewidth\":0,\"ticks\":\"\"}}}],\"scatterpolargl\":[{\"type\":\"scatterpolargl\",\"marker\":{\"colorbar\":{\"outlinewidth\":0,\"ticks\":\"\"}}}],\"bar\":[{\"error_x\":{\"color\":\"#f2f5fa\"},\"error_y\":{\"color\":\"#f2f5fa\"},\"marker\":{\"line\":{\"color\":\"rgb(17,17,17)\",\"width\":0.5},\"pattern\":{\"fillmode\":\"overlay\",\"size\":10,\"solidity\":0.2}},\"type\":\"bar\"}],\"scattergeo\":[{\"type\":\"scattergeo\",\"marker\":{\"colorbar\":{\"outlinewidth\":0,\"ticks\":\"\"}}}],\"scatterpolar\":[{\"type\":\"scatterpolar\",\"marker\":{\"colorbar\":{\"outlinewidth\":0,\"ticks\":\"\"}}}],\"histogram\":[{\"marker\":{\"pattern\":{\"fillmode\":\"overlay\",\"size\":10,\"solidity\":0.2}},\"type\":\"histogram\"}],\"scattergl\":[{\"marker\":{\"line\":{\"color\":\"#283442\"}},\"type\":\"scattergl\"}],\"scatter3d\":[{\"type\":\"scatter3d\",\"line\":{\"colorbar\":{\"outlinewidth\":0,\"ticks\":\"\"}},\"marker\":{\"colorbar\":{\"outlinewidth\":0,\"ticks\":\"\"}}}],\"scattermapbox\":[{\"type\":\"scattermapbox\",\"marker\":{\"colorbar\":{\"outlinewidth\":0,\"ticks\":\"\"}}}],\"scatterternary\":[{\"type\":\"scatterternary\",\"marker\":{\"colorbar\":{\"outlinewidth\":0,\"ticks\":\"\"}}}],\"scattercarpet\":[{\"type\":\"scattercarpet\",\"marker\":{\"colorbar\":{\"outlinewidth\":0,\"ticks\":\"\"}}}],\"carpet\":[{\"aaxis\":{\"endlinecolor\":\"#A2B1C6\",\"gridcolor\":\"#506784\",\"linecolor\":\"#506784\",\"minorgridcolor\":\"#506784\",\"startlinecolor\":\"#A2B1C6\"},\"baxis\":{\"endlinecolor\":\"#A2B1C6\",\"gridcolor\":\"#506784\",\"linecolor\":\"#506784\",\"minorgridcolor\":\"#506784\",\"startlinecolor\":\"#A2B1C6\"},\"type\":\"carpet\"}],\"table\":[{\"cells\":{\"fill\":{\"color\":\"#506784\"},\"line\":{\"color\":\"rgb(17,17,17)\"}},\"header\":{\"fill\":{\"color\":\"#2a3f5f\"},\"line\":{\"color\":\"rgb(17,17,17)\"}},\"type\":\"table\"}],\"barpolar\":[{\"marker\":{\"line\":{\"color\":\"rgb(17,17,17)\",\"width\":0.5},\"pattern\":{\"fillmode\":\"overlay\",\"size\":10,\"solidity\":0.2}},\"type\":\"barpolar\"}],\"pie\":[{\"automargin\":true,\"type\":\"pie\"}]},\"layout\":{\"autotypenumbers\":\"strict\",\"colorway\":[\"#636efa\",\"#EF553B\",\"#00cc96\",\"#ab63fa\",\"#FFA15A\",\"#19d3f3\",\"#FF6692\",\"#B6E880\",\"#FF97FF\",\"#FECB52\"],\"font\":{\"color\":\"#f2f5fa\"},\"hovermode\":\"closest\",\"hoverlabel\":{\"align\":\"left\"},\"paper_bgcolor\":\"rgb(17,17,17)\",\"plot_bgcolor\":\"rgb(17,17,17)\",\"polar\":{\"bgcolor\":\"rgb(17,17,17)\",\"angularaxis\":{\"gridcolor\":\"#506784\",\"linecolor\":\"#506784\",\"ticks\":\"\"},\"radialaxis\":{\"gridcolor\":\"#506784\",\"linecolor\":\"#506784\",\"ticks\":\"\"}},\"ternary\":{\"bgcolor\":\"rgb(17,17,17)\",\"aaxis\":{\"gridcolor\":\"#506784\",\"linecolor\":\"#506784\",\"ticks\":\"\"},\"baxis\":{\"gridcolor\":\"#506784\",\"linecolor\":\"#506784\",\"ticks\":\"\"},\"caxis\":{\"gridcolor\":\"#506784\",\"linecolor\":\"#506784\",\"ticks\":\"\"}},\"coloraxis\":{\"colorbar\":{\"outlinewidth\":0,\"ticks\":\"\"}},\"colorscale\":{\"sequential\":[[0.0,\"#0d0887\"],[0.1111111111111111,\"#46039f\"],[0.2222222222222222,\"#7201a8\"],[0.3333333333333333,\"#9c179e\"],[0.4444444444444444,\"#bd3786\"],[0.5555555555555556,\"#d8576b\"],[0.6666666666666666,\"#ed7953\"],[0.7777777777777778,\"#fb9f3a\"],[0.8888888888888888,\"#fdca26\"],[1.0,\"#f0f921\"]],\"sequentialminus\":[[0.0,\"#0d0887\"],[0.1111111111111111,\"#46039f\"],[0.2222222222222222,\"#7201a8\"],[0.3333333333333333,\"#9c179e\"],[0.4444444444444444,\"#bd3786\"],[0.5555555555555556,\"#d8576b\"],[0.6666666666666666,\"#ed7953\"],[0.7777777777777778,\"#fb9f3a\"],[0.8888888888888888,\"#fdca26\"],[1.0,\"#f0f921\"]],\"diverging\":[[0,\"#8e0152\"],[0.1,\"#c51b7d\"],[0.2,\"#de77ae\"],[0.3,\"#f1b6da\"],[0.4,\"#fde0ef\"],[0.5,\"#f7f7f7\"],[0.6,\"#e6f5d0\"],[0.7,\"#b8e186\"],[0.8,\"#7fbc41\"],[0.9,\"#4d9221\"],[1,\"#276419\"]]},\"xaxis\":{\"gridcolor\":\"#283442\",\"linecolor\":\"#506784\",\"ticks\":\"\",\"title\":{\"standoff\":15},\"zerolinecolor\":\"#283442\",\"automargin\":true,\"zerolinewidth\":2},\"yaxis\":{\"gridcolor\":\"#283442\",\"linecolor\":\"#506784\",\"ticks\":\"\",\"title\":{\"standoff\":15},\"zerolinecolor\":\"#283442\",\"automargin\":true,\"zerolinewidth\":2},\"scene\":{\"xaxis\":{\"backgroundcolor\":\"rgb(17,17,17)\",\"gridcolor\":\"#506784\",\"linecolor\":\"#506784\",\"showbackground\":true,\"ticks\":\"\",\"zerolinecolor\":\"#C8D4E3\",\"gridwidth\":2},\"yaxis\":{\"backgroundcolor\":\"rgb(17,17,17)\",\"gridcolor\":\"#506784\",\"linecolor\":\"#506784\",\"showbackground\":true,\"ticks\":\"\",\"zerolinecolor\":\"#C8D4E3\",\"gridwidth\":2},\"zaxis\":{\"backgroundcolor\":\"rgb(17,17,17)\",\"gridcolor\":\"#506784\",\"linecolor\":\"#506784\",\"showbackground\":true,\"ticks\":\"\",\"zerolinecolor\":\"#C8D4E3\",\"gridwidth\":2}},\"shapedefaults\":{\"line\":{\"color\":\"#f2f5fa\"}},\"annotationdefaults\":{\"arrowcolor\":\"#f2f5fa\",\"arrowhead\":0,\"arrowwidth\":1},\"geo\":{\"bgcolor\":\"rgb(17,17,17)\",\"landcolor\":\"rgb(17,17,17)\",\"subunitcolor\":\"#506784\",\"showland\":true,\"showlakes\":true,\"lakecolor\":\"rgb(17,17,17)\"},\"title\":{\"x\":0.05},\"updatemenudefaults\":{\"bgcolor\":\"#506784\",\"borderwidth\":0},\"sliderdefaults\":{\"bgcolor\":\"#C8D4E3\",\"borderwidth\":1,\"bordercolor\":\"rgb(17,17,17)\",\"tickwidth\":0},\"mapbox\":{\"style\":\"dark\"}}},\"xaxis\":{\"anchor\":\"y\",\"domain\":[0.0,1.0],\"title\":{\"text\":\"x\"}},\"yaxis\":{\"anchor\":\"x\",\"domain\":[0.0,1.0],\"title\":{\"text\":\"y\"}},\"legend\":{\"title\":{\"text\":\"color\"},\"tracegroupgap\":0},\"title\":{\"text\":\"<b>Initial Distribution</b>\"}},                        {\"responsive\": true}                    ).then(function(){\n                            \nvar gd = document.getElementById('217f67a2-cc87-4fd5-b7e5-46f39a668569');\nvar x = new MutationObserver(function (mutations, observer) {{\n        var display = window.getComputedStyle(gd).display;\n        if (!display || display === 'none') {{\n            console.log([gd, 'removed!']);\n            Plotly.purge(gd);\n            observer.disconnect();\n        }}\n}});\n\n// Listen for the removal of the full notebook cells\nvar notebookContainer = gd.closest('#notebook-container');\nif (notebookContainer) {{\n    x.observe(notebookContainer, {childList: true});\n}}\n\n// Listen for the clearing of the current output cell\nvar outputEl = gd.closest('.output');\nif (outputEl) {{\n    x.observe(outputEl, {childList: true});\n}}\n\n                        })                };                });            </script>        </div>"
     },
     "metadata": {},
     "output_type": "display_data"
    }
   ],
   "source": [
    "from visualizer import make_distribution_plot\n",
    "make_distribution_plot(x_train, y_train, model, metrics['threshold'], k=0., cnt_points=1000, insert_na=True, epsilon=1e-4)"
   ],
   "metadata": {
    "collapsed": false,
    "pycharm": {
     "name": "#%%\n"
    }
   }
  },
  {
   "cell_type": "code",
   "execution_count": null,
   "outputs": [],
   "source": [],
   "metadata": {
    "collapsed": false,
    "pycharm": {
     "name": "#%%\n"
    }
   }
  }
 ],
 "metadata": {
  "kernelspec": {
   "display_name": "Python 3",
   "language": "python",
   "name": "python3"
  },
  "language_info": {
   "codemirror_mode": {
    "name": "ipython",
    "version": 2
   },
   "file_extension": ".py",
   "mimetype": "text/x-python",
   "name": "python",
   "nbconvert_exporter": "python",
   "pygments_lexer": "ipython2",
   "version": "2.7.6"
  }
 },
 "nbformat": 4,
 "nbformat_minor": 0
}