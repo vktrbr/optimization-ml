{
 "cells": [
  {
   "cell_type": "code",
   "execution_count": 1,
   "id": "0cd74980",
   "metadata": {},
   "outputs": [],
   "source": [
    "import os \n",
    "import sys\n",
    "sys.path.insert(0, os.path.abspath('..'))\n",
    "\n",
    "import pandas as pd\n",
    "import numpy as np\n",
    "from plotly.subplots import make_subplots\n",
    "import plotly.express as px\n",
    "from sklearn.preprocessing import PolynomialFeatures\n",
    "\n",
    "from algorithms import linear_regression\n",
    "from algorithms import polynomial_regression"
   ]
  },
  {
   "cell_type": "markdown",
   "id": "69a94dee",
   "metadata": {},
   "source": [
    "### For our regression model we chosee stock market data(RUBCNY for last 5 weeks)"
   ]
  },
  {
   "cell_type": "code",
   "execution_count": null,
   "id": "37ea06ec",
   "metadata": {},
   "outputs": [],
   "source": [
    "df = pd.read_csv('/Users/adelinatsoi/Downloads/Download Data - CURRENCY_US_XTUP_RUBCNY-3.csv')\n",
    "df.head()"
   ]
  },
  {
   "cell_type": "code",
   "execution_count": null,
   "id": "14c6440e",
   "metadata": {
    "scrolled": true
   },
   "outputs": [],
   "source": [
    "X = np.arange(len(df)).reshape(-1,1)\n",
    "Y = df['Close'].values"
   ]
  },
  {
   "cell_type": "markdown",
   "id": "905ee5df",
   "metadata": {},
   "source": [
    "#### Linear regression"
   ]
  },
  {
   "cell_type": "code",
   "execution_count": null,
   "id": "a8711358",
   "metadata": {},
   "outputs": [],
   "source": [
    "w_opt_none = linear_regression(X, Y, flag_constant = True)\n",
    "w_opt_l1 = linear_regression(X, Y, reg_type='l1', flag_constant = True)\n",
    "w_opt_l2 = linear_regression(X, Y, reg_type='l2', flag_constant = True)"
   ]
  },
  {
   "cell_type": "code",
   "execution_count": null,
   "id": "8d143154",
   "metadata": {},
   "outputs": [],
   "source": [
    "min_max_delta = 0.05 * (X.max() - X.min()) \n",
    "\n",
    "x_axis = np.linspace(X.min() - min_max_delta,\n",
    "                     X.max() + min_max_delta,\n",
    "                     50)\n",
    "y_axis_none = PolynomialFeatures(1).fit_transform(x_axis.reshape(-1, 1)) @ w_opt_none\n",
    "y_axis_l1 = PolynomialFeatures(1).fit_transform(x_axis.reshape(-1, 1)) @ w_opt_l1\n",
    "y_axis_l2 = PolynomialFeatures(1).fit_transform(x_axis.reshape(-1, 1)) @ w_opt_l2"
   ]
  },
  {
   "cell_type": "code",
   "execution_count": null,
   "id": "bc0eeb3e",
   "metadata": {},
   "outputs": [],
   "source": [
    "fig = px.scatter({'x': X.reshape(-1), 'y': Y}, x='x', y='y',title='<b>Regression with different regularization</b>')\n",
    "fig = fig.add_scatter(x=x_axis, y=y_axis_none, mode='lines', name='without regularization')\n",
    "fig = fig.add_scatter(x=x_axis, y=y_axis_l1, mode='lines', name='with L1 regularization')\n",
    "fig = fig.add_scatter(x=x_axis, y=y_axis_l2, mode='lines', name='with L2 regularization')\n",
    "fig.update_layout(\n",
    "    xaxis_title=r'<b>x</b>',\n",
    "    yaxis_title=r'<b>y</b>',\n",
    "    font=dict(size=14)\n",
    ")\n",
    "fig.show()"
   ]
  },
  {
   "cell_type": "markdown",
   "id": "aa1ef8da",
   "metadata": {},
   "source": [
    "#### Polynomial regression"
   ]
  },
  {
   "cell_type": "code",
   "execution_count": null,
   "id": "3fdbc952",
   "metadata": {},
   "outputs": [],
   "source": [
    "X = (np.arange(len(df)) / 100).reshape(-1,1)  # here we need to normalize on order to avoid divergence of method\n",
    "# because the value is too big\n",
    "Y = df['Close'].values"
   ]
  },
  {
   "cell_type": "code",
   "execution_count": null,
   "id": "d42be85a",
   "metadata": {},
   "outputs": [],
   "source": [
    "w_opt_none = polynomial_regression(X, Y, degree=5)\n",
    "w_opt_l1 = polynomial_regression(X, Y, reg_type='l1', degree=5)\n",
    "w_opt_l2 = polynomial_regression(X, Y, reg_type='l2', degree=5)\n",
    "w_opt_l1"
   ]
  },
  {
   "cell_type": "code",
   "execution_count": null,
   "id": "9c0589a9",
   "metadata": {},
   "outputs": [],
   "source": [
    "min_max_delta = 0.05 * (X.max() - X.min()) \n",
    "\n",
    "x_axis = np.linspace(X.min() - min_max_delta,\n",
    "                     X.max() + min_max_delta,\n",
    "                     50)\n",
    "y_axis_none = PolynomialFeatures(5).fit_transform(x_axis.reshape(-1, 1)) @ w_opt_none\n",
    "y_axis_l1 = PolynomialFeatures(5).fit_transform(x_axis.reshape(-1, 1)) @ w_opt_l1\n",
    "y_axis_l2 = PolynomialFeatures(5).fit_transform(x_axis.reshape(-1, 1)) @ w_opt_l2"
   ]
  },
  {
   "cell_type": "code",
   "execution_count": null,
   "id": "bd124c5e",
   "metadata": {},
   "outputs": [],
   "source": [
    "fig = px.scatter({'x': X.reshape(-1), 'y': Y}, x='x', y='y',title='<b>Regression with different regularization</b>')\n",
    "fig = fig.add_scatter(x=x_axis, y=y_axis_none, mode='lines', name='without regularization')\n",
    "fig = fig.add_scatter(x=x_axis, y=y_axis_l1, mode='lines', name='with L1 regularization')\n",
    "fig = fig.add_scatter(x=x_axis, y=y_axis_l2, mode='lines', name='with L2 regularization')\n",
    "fig.update_layout(\n",
    "    xaxis_title=r'<b>x</b>',\n",
    "    yaxis_title=r'<b>y</b>',\n",
    "    font=dict(size=14)\n",
    ")\n",
    "fig.show()"
   ]
  },
  {
   "cell_type": "code",
   "execution_count": null,
   "id": "b9c592ae",
   "metadata": {},
   "outputs": [],
   "source": []
  }
 ],
 "metadata": {
  "kernelspec": {
   "display_name": "Python 3 (ipykernel)",
   "language": "python",
   "name": "python3"
  },
  "language_info": {
   "codemirror_mode": {
    "name": "ipython",
    "version": 3
   },
   "file_extension": ".py",
   "mimetype": "text/x-python",
   "name": "python",
   "nbconvert_exporter": "python",
   "pygments_lexer": "ipython3",
   "version": "3.9.7"
  }
 },
 "nbformat": 4,
 "nbformat_minor": 5
}
