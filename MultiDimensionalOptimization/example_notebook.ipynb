{
 "cells": [
  {
   "cell_type": "code",
   "execution_count": null,
   "id": "d1c18615",
   "metadata": {},
   "outputs": [],
   "source": [
    "import os \n",
    "import sys\n",
    "sys.path.insert(0, os.path.abspath('..'))"
   ]
  },
  {
   "cell_type": "code",
   "execution_count": null,
   "id": "be171514",
   "metadata": {},
   "outputs": [],
   "source": [
    "from algorithms.gd_optimal_step import gradient_descent_optimal_step\n",
    "from algorithms.gd_constant_step import gradient_descent_constant_step\n",
    "from algorithms.gd_frac_step import gradient_descent_frac_step\n",
    "from algorithms.nonlinear_cgm import nonlinear_cgm\n",
    "from drawing.data_converter import make_descent_history, make_contour, make_surface\n",
    "from drawing.visualizer import simple_gradient, make_descent_frames_3d, animated_surface, make_grad_norm_f_value_plot\n",
    "\n",
    "import pandas as pd\n",
    "import numpy as np\n",
    "import plotly.graph_objects as go\n",
    "import plotly\n",
    "import plotly.express as px\n",
    "plotly.offline.init_notebook_mode(connected = True)"
   ]
  },
  {
   "cell_type": "code",
   "execution_count": null,
   "id": "1fdc89bc",
   "metadata": {},
   "outputs": [],
   "source": [
    "def f1(x): return np.sin(0.5 * x[0] ** 2 - 0.25 * x[1] ** 2 + 3) * np.cos(2 * x[0] + 1 - np.e ** x[1])\n",
    "def f2(x): return -np.e ** (-(x[0]**2+x[1]**2)) + 2 * np.e ** (-2 * ((0.5 * x[0] + 2) ** 2 + (0.25 * x[1]) ** 2))\n",
    "bounds1 = [.1, 1.]\n",
    "bounds2 = [-1.5, 0.5]\n",
    "MAXITER = 50"
   ]
  },
  {
   "cell_type": "markdown",
   "id": "231934be",
   "metadata": {},
   "source": [
    "### Results for gradient descent with optimal step"
   ]
  },
  {
   "cell_type": "code",
   "execution_count": null,
   "id": "d7ec58ed",
   "metadata": {},
   "outputs": [],
   "source": [
    "point1, history1 = gradient_descent_optimal_step(f1, bounds1, keep_history=True,max_iter=MAXITER)"
   ]
  },
  {
   "cell_type": "code",
   "execution_count": null,
   "id": "d76b5056",
   "metadata": {},
   "outputs": [],
   "source": [
    "point2, history2 = gradient_descent_optimal_step(f2, bounds2, keep_history=True,max_iter=MAXITER)"
   ]
  },
  {
   "cell_type": "code",
   "execution_count": null,
   "id": "d4eab4d0",
   "metadata": {},
   "outputs": [],
   "source": [
    "fig1 = simple_gradient(function=f1, history=history1)\n",
    "fig1"
   ]
  },
  {
   "cell_type": "code",
   "execution_count": null,
   "id": "7ccace1f",
   "metadata": {},
   "outputs": [],
   "source": [
    "fig1 = animated_surface(f1, history1)\n",
    "fig1"
   ]
  },
  {
   "cell_type": "code",
   "execution_count": null,
   "id": "a4d82684",
   "metadata": {},
   "outputs": [],
   "source": [
    "make_grad_norm_f_value_plot(history1)"
   ]
  },
  {
   "cell_type": "code",
   "execution_count": null,
   "id": "71f0c573",
   "metadata": {},
   "outputs": [],
   "source": [
    "fig2 = simple_gradient(function=f2, history=history2)\n",
    "fig2"
   ]
  },
  {
   "cell_type": "code",
   "execution_count": null,
   "id": "0fed1aea",
   "metadata": {},
   "outputs": [],
   "source": [
    "fig2 = animated_surface(f2, history2)\n",
    "fig2"
   ]
  },
  {
   "cell_type": "code",
   "execution_count": null,
   "id": "f954c2cb",
   "metadata": {
    "scrolled": false
   },
   "outputs": [],
   "source": [
    "make_grad_norm_f_value_plot(history2)"
   ]
  },
  {
   "cell_type": "markdown",
   "id": "6c260790",
   "metadata": {},
   "source": [
    "### Results for gradient descent constant step"
   ]
  },
  {
   "cell_type": "code",
   "execution_count": null,
   "id": "8ce185c3",
   "metadata": {},
   "outputs": [],
   "source": [
    "point1, history1 = gradient_descent_constant_step(f1, bounds1, keep_history=True,max_iter=MAXITER)"
   ]
  },
  {
   "cell_type": "code",
   "execution_count": null,
   "id": "b4799e8b",
   "metadata": {},
   "outputs": [],
   "source": [
    "point2, history2 = gradient_descent_constant_step(f2, bounds2, keep_history=True,max_iter=MAXITER)"
   ]
  },
  {
   "cell_type": "code",
   "execution_count": null,
   "id": "de2e8155",
   "metadata": {},
   "outputs": [],
   "source": [
    "fig1 = simple_gradient(function=f1, history=history1)\n",
    "fig1"
   ]
  },
  {
   "cell_type": "code",
   "execution_count": null,
   "id": "d8bbc549",
   "metadata": {},
   "outputs": [],
   "source": [
    "fig1 = animated_surface(f1, history1)\n",
    "fig1"
   ]
  },
  {
   "cell_type": "code",
   "execution_count": null,
   "id": "ab24329a",
   "metadata": {},
   "outputs": [],
   "source": [
    "make_grad_norm_f_value_plot(history1)"
   ]
  },
  {
   "cell_type": "code",
   "execution_count": null,
   "id": "191a15f6",
   "metadata": {},
   "outputs": [],
   "source": [
    "fig2 = simple_gradient(function=f2, history=history2)\n",
    "fig2"
   ]
  },
  {
   "cell_type": "code",
   "execution_count": null,
   "id": "1145f759",
   "metadata": {},
   "outputs": [],
   "source": [
    "fig2 = animated_surface(f2, history2)\n",
    "fig2"
   ]
  },
  {
   "cell_type": "code",
   "execution_count": null,
   "id": "be774e25",
   "metadata": {},
   "outputs": [],
   "source": [
    "make_grad_norm_f_value_plot(history2)"
   ]
  },
  {
   "cell_type": "markdown",
   "id": "dc05f574",
   "metadata": {},
   "source": [
    "### Example for gradient descent frac step"
   ]
  },
  {
   "cell_type": "code",
   "execution_count": null,
   "id": "f2beec50",
   "metadata": {},
   "outputs": [],
   "source": [
    "point1, history1 = gradient_descent_frac_step(f1, bounds1, keep_history=True,max_iter=MAXITER)"
   ]
  },
  {
   "cell_type": "code",
   "execution_count": null,
   "id": "b439ad7d",
   "metadata": {},
   "outputs": [],
   "source": [
    "point2, history2 = gradient_descent_frac_step(f2, bounds1, keep_history=True,max_iter=MAXITER)"
   ]
  },
  {
   "cell_type": "code",
   "execution_count": null,
   "id": "c50579c6",
   "metadata": {},
   "outputs": [],
   "source": [
    "fig1 = simple_gradient(function=f1, history=history1)\n",
    "fig1"
   ]
  },
  {
   "cell_type": "code",
   "execution_count": null,
   "id": "c9868df2",
   "metadata": {},
   "outputs": [],
   "source": [
    "fig1 = animated_surface(f1, history1)\n",
    "fig1"
   ]
  },
  {
   "cell_type": "code",
   "execution_count": null,
   "id": "7614f360",
   "metadata": {},
   "outputs": [],
   "source": [
    "make_grad_norm_f_value_plot(history1)"
   ]
  },
  {
   "cell_type": "code",
   "execution_count": null,
   "id": "1f245a4e",
   "metadata": {},
   "outputs": [],
   "source": [
    "fig2 = simple_gradient(function=f2, history=history2)\n",
    "fig2"
   ]
  },
  {
   "cell_type": "code",
   "execution_count": null,
   "id": "aeecbfad",
   "metadata": {},
   "outputs": [],
   "source": [
    "fig2 = animated_surface(f2, history2)\n",
    "fig2"
   ]
  },
  {
   "cell_type": "code",
   "execution_count": null,
   "id": "5b52dcda",
   "metadata": {},
   "outputs": [],
   "source": [
    "make_grad_norm_f_value_plot(history2)"
   ]
  },
  {
   "cell_type": "markdown",
   "id": "d829c721",
   "metadata": {},
   "source": [
    "### Results for  nonlinear conjugate gradient method"
   ]
  },
  {
   "cell_type": "code",
   "execution_count": null,
   "id": "29602246",
   "metadata": {},
   "outputs": [],
   "source": [
    "MAXITER = 50\n",
    "point1, history1 = nonlinear_cgm(f1, bounds1, keep_history=True, max_iter=MAXITER)"
   ]
  },
  {
   "cell_type": "code",
   "execution_count": null,
   "id": "0eb18e63",
   "metadata": {},
   "outputs": [],
   "source": [
    "point2, history2 = nonlinear_cgm(f2, bounds2, keep_history=True,max_iter=MAXITER)"
   ]
  },
  {
   "cell_type": "code",
   "execution_count": null,
   "id": "7cf5250e",
   "metadata": {},
   "outputs": [],
   "source": [
    "fig1 = simple_gradient(function=f1, history=history1)\n",
    "fig1"
   ]
  },
  {
   "cell_type": "code",
   "execution_count": null,
   "id": "9a15a702",
   "metadata": {},
   "outputs": [],
   "source": [
    "fig1 = animated_surface(f1, history1)\n",
    "fig1"
   ]
  },
  {
   "cell_type": "code",
   "execution_count": null,
   "id": "bbd361ce",
   "metadata": {},
   "outputs": [],
   "source": [
    "make_grad_norm_f_value_plot(history1)"
   ]
  },
  {
   "cell_type": "code",
   "execution_count": null,
   "id": "6d074204",
   "metadata": {},
   "outputs": [],
   "source": [
    "fig2 = simple_gradient(function=f2, history=history2)\n",
    "fig2"
   ]
  },
  {
   "cell_type": "code",
   "execution_count": null,
   "id": "2f782abc",
   "metadata": {},
   "outputs": [],
   "source": [
    "fig2 = animated_surface(f2, history2)\n",
    "fig2"
   ]
  },
  {
   "cell_type": "code",
   "execution_count": null,
   "id": "9af101db",
   "metadata": {},
   "outputs": [],
   "source": [
    "make_grad_norm_f_value_plot(history2)"
   ]
  }
 ],
 "metadata": {
  "kernelspec": {
   "display_name": "Python 3 (ipykernel)",
   "language": "python",
   "name": "python3"
  },
  "language_info": {
   "codemirror_mode": {
    "name": "ipython",
    "version": 3
   },
   "file_extension": ".py",
   "mimetype": "text/x-python",
   "name": "python",
   "nbconvert_exporter": "python",
   "pygments_lexer": "ipython3",
   "version": "3.9.7"
  }
 },
 "nbformat": 4,
 "nbformat_minor": 5
}
