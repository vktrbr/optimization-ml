{
 "cells": [
  {
   "cell_type": "markdown",
   "source": [
    "# Testing of Interior-point methods"
   ],
   "metadata": {
    "collapsed": false,
    "pycharm": {
     "name": "#%% md\n"
    }
   }
  },
  {
   "cell_type": "code",
   "execution_count": 1,
   "outputs": [],
   "source": [
    "import numpy as np\n",
    "\n",
    "from algorithms import log_barrier_solver, bound_constrained_lagrangian_method"
   ],
   "metadata": {
    "collapsed": false,
    "pycharm": {
     "name": "#%%\n"
    }
   }
  },
  {
   "cell_type": "markdown",
   "source": [
    "## Primal Barrier Method\n",
    "Nocedal, J., &amp; Wright, S. J. (2006). 19.6 THE PRIMAL LOG-BARRIER METHOD. In Numerical optimization (pp. 583–584). essay, Springer."
   ],
   "metadata": {
    "collapsed": false,
    "pycharm": {
     "name": "#%% md\n"
    }
   }
  },
  {
   "cell_type": "markdown",
   "source": [
    "### Test 1\n",
    "$f(x) = (x_0 + 1)^2 + (x_1 - 1)^2, \\qquad 0 \\le x_0 \\le 2,\\quad 1 \\le x_1 \\le 2$"
   ],
   "metadata": {
    "collapsed": false,
    "pycharm": {
     "name": "#%% md\n"
    }
   }
  },
  {
   "cell_type": "code",
   "execution_count": 2,
   "outputs": [
    {
     "name": "stdout",
     "output_type": "stream",
     "text": [
      "x optimal:  [0.002 1.046]\n",
      "true x optimal:  [0, 1]\n"
     ]
    }
   ],
   "source": [
    "def f(x): return (x[0] + 1) ** 2 + (x[1] - 1) ** 2\n",
    "\n",
    "\n",
    "# bring 0 <= x0 <= 2 to form: (2 - x0 >= 0) and (x0 >= 0)\n",
    "# bring 1 <= x1 <= 2 to form: (2 - x1 >= 0) and (x1 - 1 >= 0)\n",
    "bounds = [lambda x: 2 - x[0], lambda x: x[0], lambda x: x[1] - 1, lambda x: 2 - x[1]]\n",
    "\n",
    "# Start searching point\n",
    "x0 = [1.5, 1.9]\n",
    "\n",
    "solution, _ = log_barrier_solver(f, x0, bounds)\n",
    "\n",
    "print('x optimal: ', solution.round(3))\n",
    "print('true x optimal: ', [0, 1])"
   ],
   "metadata": {
    "collapsed": false,
    "pycharm": {
     "name": "#%%\n"
    }
   }
  },
  {
   "cell_type": "markdown",
   "source": [
    "### Test 2\n",
    "$f(x) = \\ln(-\\cos(x_0) + x_1^2 + 2) + \\ln(x_0 \\cdot x_1+ 5) \\\\\n",
    "\\text{In the square} \\\\\n",
    "\\begin{cases}\n",
    "x_0 + x_1 \\ge -1 \\\\\n",
    "-x_0 + x_1 \\ge -1 \\\\\n",
    "x_0 - x_1 \\ge -1 \\\\\n",
    "-x_0 - x_1 \\ge -1\n",
    "\\end{cases}$"
   ],
   "metadata": {
    "collapsed": false,
    "pycharm": {
     "name": "#%% md\n"
    }
   }
  },
  {
   "cell_type": "code",
   "execution_count": 3,
   "outputs": [
    {
     "name": "stdout",
     "output_type": "stream",
     "text": [
      "x optimal:  [0.0, -0.0]\n",
      "true x optimal:  [0, 0]\n"
     ]
    }
   ],
   "source": [
    "def f(x): return np.log(-np.cos(x[0]) ** 4 + x[1] ** 2 + 2) + np.log(x[0] * x[1] + 5)\n",
    "\n",
    "\n",
    "solution, _ = log_barrier_solver(f, [-0.2, 0.2], [lambda x: x[0] + x[1] + 1, lambda x: -x[0] + x[1] + 1,\n",
    "                                                  lambda x: x[0] - x[1] + 1, lambda x: -x[0] - x[1] + 1])\n",
    "print('x optimal: ', list(solution.round(5)))\n",
    "print('true x optimal: ', [0, 0])"
   ],
   "metadata": {
    "collapsed": false,
    "pycharm": {
     "name": "#%%\n"
    }
   }
  },
  {
   "cell_type": "markdown",
   "source": [
    "## Bound-Constrained Lagrangian Method\n",
    "\n",
    "Nocedal, J., &amp; Wright, S. J. (2006). 17.4 PRACTICAL AUGMENTED LAGRANGIAN METHODS. In *Numerical optimization* (pp. 519–521). essay, Springer."
   ],
   "metadata": {
    "collapsed": false,
    "pycharm": {
     "name": "#%% md\n"
    }
   }
  },
  {
   "cell_type": "markdown",
   "source": [
    "### Test 1\n",
    "$f(x) = (x_0 + 1)^2 + (x_1 - 1)^2, \\qquad \\sin(x_0) + x_1^2 = 2, \\quad x_0, x_1 \\ge 0$"
   ],
   "metadata": {
    "collapsed": false,
    "pycharm": {
     "name": "#%% md\n"
    }
   }
  },
  {
   "cell_type": "code",
   "execution_count": 9,
   "outputs": [
    {
     "name": "stdout",
     "output_type": "stream",
     "text": [
      "x optimal:  [0.053, 1.39534]\n",
      "true x optimal:  [0, 1.414]\n"
     ]
    }
   ],
   "source": [
    "def f(x): return (x[0] + 1) ** 2 + (x[1] - 1) ** 2\n",
    "\n",
    "\n",
    "solution, _ = bound_constrained_lagrangian_method(f, x0=[2, 1],\n",
    "                                                  constraints=[lambda x: np.sin(x[0]) + x[1] ** 2 - 2],\n",
    "                                                  x_bounds=[(0, np.inf), (0, np.inf)])\n",
    "\n",
    "print('x optimal: ', list(solution.round(5)))\n",
    "print('true x optimal: ', [0, 1.414])"
   ],
   "metadata": {
    "collapsed": false,
    "pycharm": {
     "name": "#%%\n"
    }
   }
  }
 ],
 "metadata": {
  "kernelspec": {
   "display_name": "Python 3",
   "language": "python",
   "name": "python3"
  },
  "language_info": {
   "codemirror_mode": {
    "name": "ipython",
    "version": 2
   },
   "file_extension": ".py",
   "mimetype": "text/x-python",
   "name": "python",
   "nbconvert_exporter": "python",
   "pygments_lexer": "ipython2",
   "version": "2.7.6"
  }
 },
 "nbformat": 4,
 "nbformat_minor": 0
}